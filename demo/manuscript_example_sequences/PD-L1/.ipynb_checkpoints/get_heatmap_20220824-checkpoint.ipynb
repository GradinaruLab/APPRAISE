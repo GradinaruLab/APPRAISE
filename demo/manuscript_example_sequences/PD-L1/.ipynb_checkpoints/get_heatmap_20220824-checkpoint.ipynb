{
 "cells": [
  {
   "cell_type": "markdown",
   "metadata": {},
   "source": [
    "Generate heatmaps for APPRAISE"
   ]
  },
  {
   "cell_type": "markdown",
   "metadata": {},
   "source": [
    "Author: Xiaozhe Ding\n",
    "\n",
    "Email: xding@caltech.edu, dingxiaozhe@gmail.com"
   ]
  },
  {
   "cell_type": "code",
   "execution_count": 1,
   "metadata": {},
   "outputs": [
    {
     "name": "stdout",
     "output_type": "stream",
     "text": [
      "Obtaining file:///Users/xiaozhe/box/F/F100_G-lab_general/F110_Manuscripts/F112_APPRAISE-AAV_manuscript/appraise\n",
      "  Preparing metadata (setup.py) ... \u001b[?25ldone\n",
      "\u001b[?25hInstalling collected packages: appraise\n",
      "  Attempting uninstall: appraise\n",
      "    Found existing installation: appraise 0.2\n",
      "    Uninstalling appraise-0.2:\n",
      "      Successfully uninstalled appraise-0.2\n",
      "  Running setup.py develop for appraise\n",
      "Successfully installed appraise-0.2\n"
     ]
    }
   ],
   "source": [
    "!pip install -e ~/box/F/F100_G-lab_general/F110_Manuscripts/F112_APPRAISE-AAV_manuscript/appraise"
   ]
  },
  {
   "cell_type": "code",
   "execution_count": 119,
   "metadata": {},
   "outputs": [
    {
     "name": "stdout",
     "output_type": "stream",
     "text": [
      "The autoreload extension is already loaded. To reload it, use:\n",
      "  %reload_ext autoreload\n"
     ]
    }
   ],
   "source": [
    "#For testing purposes\n",
    "%load_ext autoreload\n",
    "%autoreload 2"
   ]
  },
  {
   "cell_type": "code",
   "execution_count": 116,
   "metadata": {},
   "outputs": [],
   "source": [
    "import numpy as np\n",
    "import pandas as pd\n",
    "import seaborn as sns\n",
    "import matplotlib.pyplot as plt\n",
    "from appraise.utilities import *\n",
    "from appraise.score_calculation import *"
   ]
  },
  {
   "cell_type": "code",
   "execution_count": 102,
   "metadata": {},
   "outputs": [],
   "source": [
    "#define input file paths\n",
    "peptide_list_path = './PD-L1_5x5_peptide_list.csv'\n",
    "database_path = './database_APPRAISE_measurements_08241509.csv'\n",
    "\n",
    "# #define output file paths\n",
    "# sorted_database_path = database_path[-4:0]+'_sorted.csv'\n",
    "\n",
    "#load data\n",
    "list_peptide_order = pd.read_csv(peptide_list_path)['peptide_name'].to_list()\n",
    "df = pd.read_csv(database_path)\n",
    "\n",
    "# #Change the name of the AAV9 and PHP.eB peptides\n",
    "# for i, item in enumerate(list_peptide_order):\n",
    "#     list_peptide_order[i] = item.replace('_560-606', '(47aa)')\n",
    "# df = df.replace({'_560-606': '(47aa)'})\n"
   ]
  },
  {
   "cell_type": "markdown",
   "metadata": {},
   "source": [
    "# PD-L1 V domain"
   ]
  },
  {
   "cell_type": "code",
   "execution_count": 103,
   "metadata": {},
   "outputs": [],
   "source": [
    "\n",
    "#Slice out the database with receptor of interest and calculate score\n",
    "receptor_of_interest = 'PD-L1-V'\n",
    "df_receptor = df.loc[df['receptor_name'] == receptor_of_interest].copy()\n",
    "df_receptor = calculate_scores(df_receptor, version=1.2)\n",
    "\n",
    "\n",
    "#Sort out the database by peptide name\n",
    "df_sorted = sort_df_by_peptides(df_receptor, list_peptide_order)\n",
    "\n",
    "# #Calculate averaged result\n",
    "df_average = df_sorted.groupby(by=['peptide_name', 'competitor']).mean().reset_index()"
   ]
  },
  {
   "cell_type": "code",
   "execution_count": 104,
   "metadata": {},
   "outputs": [
    {
     "data": {
      "text/html": [
       "<div>\n",
       "<style scoped>\n",
       "    .dataframe tbody tr th:only-of-type {\n",
       "        vertical-align: middle;\n",
       "    }\n",
       "\n",
       "    .dataframe tbody tr th {\n",
       "        vertical-align: top;\n",
       "    }\n",
       "\n",
       "    .dataframe thead th {\n",
       "        text-align: right;\n",
       "    }\n",
       "</style>\n",
       "<table border=\"1\" class=\"dataframe\">\n",
       "  <thead>\n",
       "    <tr style=\"text-align: right;\">\n",
       "      <th></th>\n",
       "      <th>peptide_name</th>\n",
       "      <th>competitor</th>\n",
       "      <th>insert_contact_distance</th>\n",
       "      <th>insert_contact_distance_competitor</th>\n",
       "    </tr>\n",
       "  </thead>\n",
       "  <tbody>\n",
       "    <tr>\n",
       "      <th>0</th>\n",
       "      <td>MNPD-1</td>\n",
       "      <td>MNPD-1</td>\n",
       "      <td>18.930981</td>\n",
       "      <td>18.930981</td>\n",
       "    </tr>\n",
       "    <tr>\n",
       "      <th>1</th>\n",
       "      <td>MNPD-1</td>\n",
       "      <td>MOPD-1</td>\n",
       "      <td>18.930981</td>\n",
       "      <td>18.930981</td>\n",
       "    </tr>\n",
       "    <tr>\n",
       "      <th>2</th>\n",
       "      <td>MNPD-1</td>\n",
       "      <td>Scaffold</td>\n",
       "      <td>8.688353</td>\n",
       "      <td>12.252901</td>\n",
       "    </tr>\n",
       "    <tr>\n",
       "      <th>3</th>\n",
       "      <td>MNPD-1</td>\n",
       "      <td>AAV9_560-606</td>\n",
       "      <td>8.242784</td>\n",
       "      <td>35.980654</td>\n",
       "    </tr>\n",
       "    <tr>\n",
       "      <th>4</th>\n",
       "      <td>MNPD-1</td>\n",
       "      <td>PHP.eB_560-606</td>\n",
       "      <td>8.366912</td>\n",
       "      <td>51.307507</td>\n",
       "    </tr>\n",
       "    <tr>\n",
       "      <th>5</th>\n",
       "      <td>MOPD-1</td>\n",
       "      <td>MNPD-1</td>\n",
       "      <td>18.930981</td>\n",
       "      <td>18.930981</td>\n",
       "    </tr>\n",
       "    <tr>\n",
       "      <th>6</th>\n",
       "      <td>MOPD-1</td>\n",
       "      <td>MOPD-1</td>\n",
       "      <td>18.930981</td>\n",
       "      <td>18.930981</td>\n",
       "    </tr>\n",
       "    <tr>\n",
       "      <th>7</th>\n",
       "      <td>MOPD-1</td>\n",
       "      <td>Scaffold</td>\n",
       "      <td>8.688353</td>\n",
       "      <td>12.252901</td>\n",
       "    </tr>\n",
       "    <tr>\n",
       "      <th>8</th>\n",
       "      <td>MOPD-1</td>\n",
       "      <td>AAV9_560-606</td>\n",
       "      <td>8.242784</td>\n",
       "      <td>35.980654</td>\n",
       "    </tr>\n",
       "    <tr>\n",
       "      <th>9</th>\n",
       "      <td>MOPD-1</td>\n",
       "      <td>PHP.eB_560-606</td>\n",
       "      <td>8.366912</td>\n",
       "      <td>51.307507</td>\n",
       "    </tr>\n",
       "    <tr>\n",
       "      <th>10</th>\n",
       "      <td>Scaffold</td>\n",
       "      <td>MNPD-1</td>\n",
       "      <td>12.252901</td>\n",
       "      <td>8.688353</td>\n",
       "    </tr>\n",
       "    <tr>\n",
       "      <th>11</th>\n",
       "      <td>Scaffold</td>\n",
       "      <td>MOPD-1</td>\n",
       "      <td>12.252901</td>\n",
       "      <td>8.688353</td>\n",
       "    </tr>\n",
       "    <tr>\n",
       "      <th>12</th>\n",
       "      <td>Scaffold</td>\n",
       "      <td>Scaffold</td>\n",
       "      <td>20.227768</td>\n",
       "      <td>20.227768</td>\n",
       "    </tr>\n",
       "    <tr>\n",
       "      <th>13</th>\n",
       "      <td>Scaffold</td>\n",
       "      <td>AAV9_560-606</td>\n",
       "      <td>20.704560</td>\n",
       "      <td>53.605667</td>\n",
       "    </tr>\n",
       "    <tr>\n",
       "      <th>14</th>\n",
       "      <td>Scaffold</td>\n",
       "      <td>PHP.eB_560-606</td>\n",
       "      <td>21.409771</td>\n",
       "      <td>47.413215</td>\n",
       "    </tr>\n",
       "    <tr>\n",
       "      <th>15</th>\n",
       "      <td>AAV9_560-606</td>\n",
       "      <td>MNPD-1</td>\n",
       "      <td>35.980654</td>\n",
       "      <td>8.242784</td>\n",
       "    </tr>\n",
       "    <tr>\n",
       "      <th>16</th>\n",
       "      <td>AAV9_560-606</td>\n",
       "      <td>MOPD-1</td>\n",
       "      <td>35.980654</td>\n",
       "      <td>8.242784</td>\n",
       "    </tr>\n",
       "    <tr>\n",
       "      <th>17</th>\n",
       "      <td>AAV9_560-606</td>\n",
       "      <td>Scaffold</td>\n",
       "      <td>53.605667</td>\n",
       "      <td>20.704560</td>\n",
       "    </tr>\n",
       "    <tr>\n",
       "      <th>18</th>\n",
       "      <td>AAV9_560-606</td>\n",
       "      <td>AAV9_560-606</td>\n",
       "      <td>42.176478</td>\n",
       "      <td>42.176478</td>\n",
       "    </tr>\n",
       "    <tr>\n",
       "      <th>19</th>\n",
       "      <td>AAV9_560-606</td>\n",
       "      <td>PHP.eB_560-606</td>\n",
       "      <td>37.986054</td>\n",
       "      <td>47.007150</td>\n",
       "    </tr>\n",
       "    <tr>\n",
       "      <th>20</th>\n",
       "      <td>PHP.eB_560-606</td>\n",
       "      <td>MNPD-1</td>\n",
       "      <td>51.307507</td>\n",
       "      <td>8.366912</td>\n",
       "    </tr>\n",
       "    <tr>\n",
       "      <th>21</th>\n",
       "      <td>PHP.eB_560-606</td>\n",
       "      <td>MOPD-1</td>\n",
       "      <td>51.307507</td>\n",
       "      <td>8.366912</td>\n",
       "    </tr>\n",
       "    <tr>\n",
       "      <th>22</th>\n",
       "      <td>PHP.eB_560-606</td>\n",
       "      <td>Scaffold</td>\n",
       "      <td>47.413215</td>\n",
       "      <td>21.409771</td>\n",
       "    </tr>\n",
       "    <tr>\n",
       "      <th>23</th>\n",
       "      <td>PHP.eB_560-606</td>\n",
       "      <td>AAV9_560-606</td>\n",
       "      <td>47.007150</td>\n",
       "      <td>37.986054</td>\n",
       "    </tr>\n",
       "    <tr>\n",
       "      <th>24</th>\n",
       "      <td>PHP.eB_560-606</td>\n",
       "      <td>PHP.eB_560-606</td>\n",
       "      <td>43.468515</td>\n",
       "      <td>43.468515</td>\n",
       "    </tr>\n",
       "  </tbody>\n",
       "</table>\n",
       "</div>"
      ],
      "text/plain": [
       "      peptide_name      competitor  insert_contact_distance  \\\n",
       "0           MNPD-1          MNPD-1                18.930981   \n",
       "1           MNPD-1          MOPD-1                18.930981   \n",
       "2           MNPD-1        Scaffold                 8.688353   \n",
       "3           MNPD-1    AAV9_560-606                 8.242784   \n",
       "4           MNPD-1  PHP.eB_560-606                 8.366912   \n",
       "5           MOPD-1          MNPD-1                18.930981   \n",
       "6           MOPD-1          MOPD-1                18.930981   \n",
       "7           MOPD-1        Scaffold                 8.688353   \n",
       "8           MOPD-1    AAV9_560-606                 8.242784   \n",
       "9           MOPD-1  PHP.eB_560-606                 8.366912   \n",
       "10        Scaffold          MNPD-1                12.252901   \n",
       "11        Scaffold          MOPD-1                12.252901   \n",
       "12        Scaffold        Scaffold                20.227768   \n",
       "13        Scaffold    AAV9_560-606                20.704560   \n",
       "14        Scaffold  PHP.eB_560-606                21.409771   \n",
       "15    AAV9_560-606          MNPD-1                35.980654   \n",
       "16    AAV9_560-606          MOPD-1                35.980654   \n",
       "17    AAV9_560-606        Scaffold                53.605667   \n",
       "18    AAV9_560-606    AAV9_560-606                42.176478   \n",
       "19    AAV9_560-606  PHP.eB_560-606                37.986054   \n",
       "20  PHP.eB_560-606          MNPD-1                51.307507   \n",
       "21  PHP.eB_560-606          MOPD-1                51.307507   \n",
       "22  PHP.eB_560-606        Scaffold                47.413215   \n",
       "23  PHP.eB_560-606    AAV9_560-606                47.007150   \n",
       "24  PHP.eB_560-606  PHP.eB_560-606                43.468515   \n",
       "\n",
       "    insert_contact_distance_competitor  \n",
       "0                            18.930981  \n",
       "1                            18.930981  \n",
       "2                            12.252901  \n",
       "3                            35.980654  \n",
       "4                            51.307507  \n",
       "5                            18.930981  \n",
       "6                            18.930981  \n",
       "7                            12.252901  \n",
       "8                            35.980654  \n",
       "9                            51.307507  \n",
       "10                            8.688353  \n",
       "11                            8.688353  \n",
       "12                           20.227768  \n",
       "13                           53.605667  \n",
       "14                           47.413215  \n",
       "15                            8.242784  \n",
       "16                            8.242784  \n",
       "17                           20.704560  \n",
       "18                           42.176478  \n",
       "19                           47.007150  \n",
       "20                            8.366912  \n",
       "21                            8.366912  \n",
       "22                           21.409771  \n",
       "23                           37.986054  \n",
       "24                           43.468515  "
      ]
     },
     "execution_count": 104,
     "metadata": {},
     "output_type": "execute_result"
    }
   ],
   "source": [
    "df_average[['peptide_name', 'competitor', 'insert_contact_distance', 'insert_contact_distance_competitor']]"
   ]
  },
  {
   "cell_type": "markdown",
   "metadata": {},
   "source": [
    "### Quality check"
   ]
  },
  {
   "cell_type": "code",
   "execution_count": 105,
   "metadata": {},
   "outputs": [
    {
     "data": {
      "image/png": "[encoded data removed]",
      "text/plain": [
       "<Figure size 144x144 with 1 Axes>"
      ]
     },
     "metadata": {},
     "output_type": "display_data"
    }
   ],
   "source": [
    "#Check if number of model match\n",
    "sns.histplot(df_sorted, x='peptide_name')\n",
    "plt.rcParams[\"figure.figsize\"] = (len(list_peptide_order)*2,3)"
   ]
  },
  {
   "cell_type": "code",
   "execution_count": 106,
   "metadata": {},
   "outputs": [],
   "source": [
    "label_dictionary = {\\\n",
    "                    \"MNPD-1\":1,\\\n",
    "                    \"MOPD-1\":1,\\\n",
    "                    \"Scaffold\":0,\\\n",
    "                    \"AAV9_560-606\":0,\\\n",
    "                    \"PHP.eB_560-606\":0}"
   ]
  },
  {
   "cell_type": "code",
   "execution_count": 123,
   "metadata": {},
   "outputs": [],
   "source": [
    "def list_name_change(list_peptide_order):\n",
    "    for i, item in enumerate(list_peptide_order):\n",
    "        list_peptide_order[i] = item.replace('_560-606', '(47aa)')\n",
    "    return list_peptide_order"
   ]
  },
  {
   "cell_type": "code",
   "execution_count": 122,
   "metadata": {},
   "outputs": [
    {
     "name": "stdout",
     "output_type": "stream",
     "text": [
      "Automatically determined the tie threshold to be 2.96\n"
     ]
    },
    {
     "data": {
      "image/png": "[encoded data removed]",
      "text/plain": [
       "<Figure size 144x144 with 2 Axes>"
      ]
     },
     "metadata": {},
     "output_type": "display_data"
    }
   ],
   "source": [
    "x_tick_labels, y_tick_labels = plot_heatmap(df_average, 'interface_energy_score_difference', receptor_of_interest, title='APPRAISE 1.0', rank_by_tournament=True, print_label=True, label_dictionary=label_dictionary, xticklabels='auto', yticklabels='auto', xlabel='', ylabel='')"
   ]
  },
  {
   "cell_type": "code",
   "execution_count": 128,
   "metadata": {},
   "outputs": [
    {
     "name": "stdout",
     "output_type": "stream",
     "text": [
      "['MNPD-1', 'MOPD-1', 'AAV9(47aa)', 'PHP.eB(47aa)', 'Scaffold']\n",
      "Automatically determined the tie threshold to be 2.96\n"
     ]
    },
    {
     "ename": "UnboundLocalError",
     "evalue": "local variable 'x_ticklabels' referenced before assignment",
     "output_type": "error",
     "traceback": [
      "\u001b[0;31m---------------------------------------------------------------------------\u001b[0m",
      "\u001b[0;31mUnboundLocalError\u001b[0m                         Traceback (most recent call last)",
      "\u001b[0;32m<ipython-input-128-f688f19588df>\u001b[0m in \u001b[0;36m<module>\u001b[0;34m\u001b[0m\n\u001b[1;32m      2\u001b[0m \u001b[0mprint\u001b[0m\u001b[0;34m(\u001b[0m\u001b[0mx_tick_labels\u001b[0m\u001b[0;34m)\u001b[0m\u001b[0;34m\u001b[0m\u001b[0;34m\u001b[0m\u001b[0m\n\u001b[1;32m      3\u001b[0m \u001b[0my_tick_labels\u001b[0m \u001b[0;34m=\u001b[0m \u001b[0mlist_name_change\u001b[0m\u001b[0;34m(\u001b[0m\u001b[0my_tick_labels\u001b[0m\u001b[0;34m)\u001b[0m\u001b[0;34m\u001b[0m\u001b[0;34m\u001b[0m\u001b[0m\n\u001b[0;32m----> 4\u001b[0;31m \u001b[0mx_tick_labels\u001b[0m\u001b[0;34m,\u001b[0m \u001b[0my_tick_labels\u001b[0m \u001b[0;34m=\u001b[0m \u001b[0mplot_heatmap\u001b[0m\u001b[0;34m(\u001b[0m\u001b[0mdf_average\u001b[0m\u001b[0;34m,\u001b[0m \u001b[0;34m'interface_energy_score_difference'\u001b[0m\u001b[0;34m,\u001b[0m \u001b[0mreceptor_of_interest\u001b[0m\u001b[0;34m,\u001b[0m \u001b[0mtitle\u001b[0m\u001b[0;34m=\u001b[0m\u001b[0;34m'APPRAISE 1.0'\u001b[0m\u001b[0;34m,\u001b[0m \u001b[0mrank_by_tournament\u001b[0m\u001b[0;34m=\u001b[0m\u001b[0;32mTrue\u001b[0m\u001b[0;34m,\u001b[0m \u001b[0mprint_label\u001b[0m\u001b[0;34m=\u001b[0m\u001b[0;32mTrue\u001b[0m\u001b[0;34m,\u001b[0m \u001b[0mlabel_dictionary\u001b[0m\u001b[0;34m=\u001b[0m\u001b[0mlabel_dictionary\u001b[0m\u001b[0;34m,\u001b[0m \u001b[0mxticklabels\u001b[0m\u001b[0;34m=\u001b[0m\u001b[0mx_tick_labels\u001b[0m\u001b[0;34m,\u001b[0m \u001b[0myticklabels\u001b[0m\u001b[0;34m=\u001b[0m\u001b[0my_tick_labels\u001b[0m\u001b[0;34m,\u001b[0m \u001b[0mxlabel\u001b[0m\u001b[0;34m=\u001b[0m\u001b[0;34m''\u001b[0m\u001b[0;34m,\u001b[0m \u001b[0mylabel\u001b[0m\u001b[0;34m=\u001b[0m\u001b[0;34m''\u001b[0m\u001b[0;34m)\u001b[0m\u001b[0;34m\u001b[0m\u001b[0;34m\u001b[0m\u001b[0m\n\u001b[0m",
      "\u001b[0;32m~/Dropbox (Personal)/F/F100_G-lab_general/F110_Manuscripts/F112_APPRAISE-AAV_manuscript/appraise/appraise/utilities.py\u001b[0m in \u001b[0;36mplot_heatmap\u001b[0;34m(df_average, feature_of_interest, receptor_of_interest, feature_to_plot_with, feature_to_rank_with, fig_size, tie_threshold, vmin, vmax, title, palette, save_figure, rank_by_tournament, print_label, label_dictionary, xlabel, ylabel, xticklabels, yticklabels)\u001b[0m\n\u001b[1;32m     98\u001b[0m     \u001b[0msquare_matrix\u001b[0m \u001b[0;34m=\u001b[0m \u001b[0mdf_average\u001b[0m\u001b[0;34m.\u001b[0m\u001b[0mpivot\u001b[0m\u001b[0;34m(\u001b[0m\u001b[0mindex\u001b[0m\u001b[0;34m=\u001b[0m\u001b[0;34m'peptide_name'\u001b[0m\u001b[0;34m,\u001b[0m \u001b[0mcolumns\u001b[0m\u001b[0;34m=\u001b[0m\u001b[0;34m'competitor'\u001b[0m\u001b[0;34m,\u001b[0m \u001b[0mvalues\u001b[0m\u001b[0;34m=\u001b[0m\u001b[0mfeature_to_plot_with\u001b[0m\u001b[0;34m)\u001b[0m\u001b[0;34m\u001b[0m\u001b[0;34m\u001b[0m\u001b[0m\n\u001b[1;32m     99\u001b[0m \u001b[0;34m\u001b[0m\u001b[0m\n\u001b[0;32m--> 100\u001b[0;31m     \u001b[0;32mif\u001b[0m \u001b[0mx_ticklabels\u001b[0m \u001b[0;34m==\u001b[0m \u001b[0;34m'auto'\u001b[0m\u001b[0;34m:\u001b[0m\u001b[0;34m\u001b[0m\u001b[0;34m\u001b[0m\u001b[0m\n\u001b[0m\u001b[1;32m    101\u001b[0m         \u001b[0mx_ticklabels\u001b[0m \u001b[0;34m=\u001b[0m \u001b[0mlist_peptide_order\u001b[0m\u001b[0;34m\u001b[0m\u001b[0;34m\u001b[0m\u001b[0m\n\u001b[1;32m    102\u001b[0m     \u001b[0;32mif\u001b[0m \u001b[0my_ticklabels\u001b[0m \u001b[0;34m==\u001b[0m \u001b[0;34m'auto'\u001b[0m\u001b[0;34m:\u001b[0m\u001b[0;34m\u001b[0m\u001b[0;34m\u001b[0m\u001b[0m\n",
      "\u001b[0;31mUnboundLocalError\u001b[0m: local variable 'x_ticklabels' referenced before assignment"
     ]
    }
   ],
   "source": [
    "x_tick_labels = list_name_change(x_tick_labels)\n",
    "y_tick_labels = list_name_change(y_tick_labels)\n",
    "x_tick_labels, y_tick_labels = plot_heatmap(df_average, 'interface_energy_score_difference', receptor_of_interest, title='APPRAISE 1.0', rank_by_tournament=True, print_label=True, label_dictionary=label_dictionary, xticklabels=x_tick_labels, yticklabels=y_tick_labels, xlabel='', ylabel='')"
   ]
  },
  {
   "cell_type": "code",
   "execution_count": 108,
   "metadata": {},
   "outputs": [
    {
     "name": "stdout",
     "output_type": "stream",
     "text": [
      "Automatically determined the tie threshold to be 4.78\n"
     ]
    },
    {
     "data": {
      "text/plain": [
       "['MNPD-1', 'MOPD-1', 'Scaffold', 'AAV9_560-606', 'PHP.eB_560-606']"
      ]
     },
     "execution_count": 108,
     "metadata": {},
     "output_type": "execute_result"
    },
    {
     "data": {
      "image/png": "[encoded data removed]",
      "text/plain": [
       "<Figure size 144x144 with 2 Axes>"
      ]
     },
     "metadata": {},
     "output_type": "display_data"
    }
   ],
   "source": [
    "plot_heatmap(df_average, 'constrained_interface_energy_score_difference', receptor_of_interest, title='APPRAISE 1.2', rank_by_tournament=True, print_label=True, label_dictionary=label_dictionary, xticklabels='auto', yticklabels='auto', xlabel='', ylabel='')"
   ]
  },
  {
   "cell_type": "code",
   "execution_count": null,
   "metadata": {},
   "outputs": [],
   "source": []
  }
 ],
 "metadata": {
  "kernelspec": {
   "display_name": "Python 3",
   "language": "python",
   "name": "python3"
  },
  "language_info": {
   "codemirror_mode": {
    "name": "ipython",
    "version": 3
   },
   "file_extension": ".py",
   "mimetype": "text/x-python",
   "name": "python",
   "nbconvert_exporter": "python",
   "pygments_lexer": "ipython3",
   "version": "3.6.10"
  }
 },
 "nbformat": 4,
 "nbformat_minor": 4
}
