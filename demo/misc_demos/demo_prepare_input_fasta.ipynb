{
 "cells": [
  {
   "cell_type": "markdown",
   "metadata": {},
   "source": [
    "# Demo notebook for preparing input fasta for APPRAISE"
   ]
  },
  {
   "cell_type": "markdown",
   "metadata": {},
   "source": [
    "Author: Xiaozhe Ding\n",
    "\n",
    "Email: xding@caltech.edu, dingxiaozhe@gmail.com"
   ]
  },
  {
   "cell_type": "markdown",
   "metadata": {},
   "source": [
    "## Introduction"
   ]
  },
  {
   "cell_type": "markdown",
   "metadata": {},
   "source": [
    "This demo notebook shows a few examples for preparing input fasta files for ColabFold prediction."
   ]
  },
  {
   "cell_type": "markdown",
   "metadata": {},
   "source": [
    "## Environment preparation"
   ]
  },
  {
   "cell_type": "markdown",
   "metadata": {},
   "source": [
    "#### Check the environment\n",
    "\n",
    "APPRAISE 1.2 was tested with the following environment. We suggest using versions equal or higher than these for optimal compatibility:\n",
    "\n",
    "For input file preparation and data analysis:\n",
    "\n",
    " - MacOS 10.14.6\n",
    "\n",
    " - Python 3.6.10\n",
    "\n",
    " - PyMOL 2.3.3 (Schrodinger LLC.)\n",
    "\n",
    " - Python packages: \n",
    " \n",
    "    - scipy 1.4.1\n",
    "\n",
    "    - numpy 1.18.2\n",
    "\n",
    "    - pandas 1.1.5\n",
    "\n",
    "    - matplotlib 3.2.1\n",
    "\n",
    "    - seaborn 0.11.2\n",
    "\n",
    "For structural modeling:\n",
    "\n",
    "- slphafold-colabfold 2.1.14 (Accessed using Google Colaboratory. Notebook available [here](https://github.com/sokrypton/ColabFold))\n",
    "    - AlphaFold model version: AlphaFold-multimer-v2\n"
   ]
  },
  {
   "cell_type": "markdown",
   "metadata": {},
   "source": [
    "#### APPRAISE package\n",
    "\n",
    "If you haven't install the appraise package, run the following box in the notebook to install the package. ***You'll need to restart the kernal after installation***. \n",
    "\n",
    "Skip this block if the package had already been installed."
   ]
  },
  {
   "cell_type": "code",
   "execution_count": null,
   "metadata": {},
   "outputs": [],
   "source": [
    "!pip install -e .."
   ]
  },
  {
   "cell_type": "markdown",
   "metadata": {},
   "source": [
    "### Example 1 - Prepare input fasta files for pairwise competition in ColabFold"
   ]
  },
  {
   "cell_type": "code",
   "execution_count": 21,
   "metadata": {},
   "outputs": [],
   "source": [
    "# Import necessary modules\n",
    "import appraise\n",
    "from appraise.utilities import *\n",
    "from appraise.input_fasta_prep import *"
   ]
  },
  {
   "cell_type": "markdown",
   "metadata": {},
   "source": [
    "The peptide sequences should be provided in a .csv table with two columns titled \"peptide_name\" and \"peptide_seq\", respectively.\n",
    "\n",
    "You can find example peptide listes in folder ./data/manuscript_example_sequences. "
   ]
  },
  {
   "cell_type": "markdown",
   "metadata": {},
   "source": [
    "#### Generate input fasta for pairwise matrix"
   ]
  },
  {
   "cell_type": "code",
   "execution_count": null,
   "metadata": {},
   "outputs": [],
   "source": [
    "csv_file_path_default = '../demo_100AAV_screening/stage_1/APPRAISE1.2_selected_top_18_peptides.csv'\n",
    "\n",
    "csv_file_path = interactive_input('csv_file_path',csv_file_path_default) #@param {type:\"string\"}\n",
    "\n",
    "folder_path_for_fastas = interactive_input('folder_path_for_fastas', './demo_stage_2_input_fasta/')#@param {type:\"string\"}\n",
    "\n",
    "receptor_name = interactive_input('receptor_name', 'Ly6a') #@param {type:\"string\"}\n",
    "\n",
    "receptor_seq = interactive_input('receptor_seq', \"LECYQCYGVPFETSCPSITCPYPDGVCVTQEAAVIVDSQTRKVKNNLCLPICPPNIESMEILGTKVNVKTSCCQEDLCNVAVP\") #@param {type:\"string\"}\n",
    "\n",
    "peptide_names, peptide_seqs = load_peptides(csv_file_path)\n",
    "\n",
    "list_query_sequence, list_jobname = get_complex_fastas(receptor_name, \\\n",
    "                                                        receptor_seq, \\\n",
    "                                                        peptide_names, \\\n",
    "                                                        peptide_seqs, \\\n",
    "                                                        mode = 'pairwise', \\\n",
    "                                                        square_matrix = True, \\\n",
    "                                                        folder_path = folder_path_for_fastas,\n",
    "                                                        seed)"
   ]
  },
  {
   "cell_type": "markdown",
   "metadata": {},
   "source": [
    "### Example 2- Prepare input fasta files for pooled competition in ColabFold (for HT-APPRAISE stage 1)"
   ]
  },
  {
   "cell_type": "code",
   "execution_count": 1,
   "metadata": {},
   "outputs": [
    {
     "name": "stderr",
     "output_type": "stream",
     "text": [
      "\n",
      "Bad key \"text.kerning_factor\" on line 4 in\n",
      "/anaconda3/lib/python3.6/site-packages/matplotlib/mpl-data/stylelib/_classic_test_patch.mplstyle.\n",
      "You probably need to get an updated matplotlibrc file from\n",
      "https://github.com/matplotlib/matplotlib/blob/v3.1.3/matplotlibrc.template\n",
      "or from the matplotlib source distribution\n"
     ]
    }
   ],
   "source": [
    "# Import necessary modules\n",
    "import appraise\n",
    "from appraise.utilities import *\n",
    "from appraise.input_fasta_prep import *"
   ]
  },
  {
   "cell_type": "markdown",
   "metadata": {},
   "source": [
    "The peptide sequences should be provided in a .csv table with two columns titled \"peptide_name\" and \"peptide_seq\", respectively.\n",
    "\n",
    "You can find example peptide listes in folder ./data/manuscript_example_sequences. "
   ]
  },
  {
   "cell_type": "markdown",
   "metadata": {},
   "source": [
    "Generate pooled fastas with random grouping 1 (4 variants per group):"
   ]
  },
  {
   "cell_type": "code",
   "execution_count": null,
   "metadata": {},
   "outputs": [],
   "source": [
    "csv_file_path = interactive_input('csv_file_path','../demo_100AAV_screening/stage_1/AAV_mock_selection_100_peptide_list.csv')\n",
    "\n",
    "folder_path_for_fastas = interactive_input('folder_path_for_fastas', './demo_stage_1_grouping_1_input_fasta_for_colabfold/')\n",
    "\n",
    "receptor_name = interactive_input('receptor_name', 'Ly6a')\n",
    "\n",
    "receptor_seq = interactive_input('receptor_seq', \"LECYQCYGVPFETSCPSITCPYPDGVCVTQEAAVIVDSQTRKVKNNLCLPICPPNIESMEILGTKVNVKTSCCQEDLCNVAVP\")\n",
    "\n",
    "pool_size = interactive_input('pool_size', 4)\n",
    "\n",
    "peptide_names, peptide_seqs = load_peptides(csv_file_path)\n",
    "\n",
    "list_query_sequence, list_jobname = get_complex_fastas(receptor_name, \\\n",
    "                                                                        receptor_seq,\n",
    "                                                                        peptide_names, \\\n",
    "                                                                        peptide_seqs, \\\n",
    "                                                                        mode = 'pooled', \\\n",
    "                                                                        pool_size = pool_size,\\\n",
    "                                                                        folder_path = folder_path_for_fastas)"
   ]
  },
  {
   "cell_type": "markdown",
   "metadata": {},
   "source": [
    "Generate pooled fastas with random grouping 2 (4 variants per group):"
   ]
  },
  {
   "cell_type": "code",
   "execution_count": null,
   "metadata": {},
   "outputs": [],
   "source": [
    "csv_file_path = interactive_input('csv_file_path','../demo_100AAV_screening/stage_1/AAV_mock_selection_100_peptide_list.csv')\n",
    "\n",
    "folder_path_for_fastas = interactive_input('folder_path_for_fastas', './demo_stage_1_grouping_2_input_fasta_for_colabfold/')\n",
    "\n",
    "receptor_name = interactive_input('receptor_name', 'Ly6a')\n",
    "\n",
    "receptor_seq = interactive_input('receptor_seq', \"LECYQCYGVPFETSCPSITCPYPDGVCVTQEAAVIVDSQTRKVKNNLCLPICPPNIESMEILGTKVNVKTSCCQEDLCNVAVP\")\n",
    "\n",
    "pool_size = interactive_input('pool_size', 4)\n",
    "\n",
    "peptide_names, peptide_seqs = load_peptides(csv_file_path)\n",
    "\n",
    "list_query_sequence, list_jobname = get_complex_fastas(receptor_name, \\\n",
    "                                                                        receptor_seq,\n",
    "                                                                        peptide_names, \\\n",
    "                                                                        peptide_seqs, \\\n",
    "                                                                        mode = 'pooled', \\\n",
    "                                                                        pool_size = pool_size,\\\n",
    "                                                                        folder_path = folder_path_for_fastas)"
   ]
  },
  {
   "cell_type": "markdown",
   "metadata": {},
   "source": [
    "### Example 3- Prepare input fasta files for single peptide-receptor complex modeling in ColabFold (for comparison with APPRAISE)"
   ]
  },
  {
   "cell_type": "code",
   "execution_count": 1,
   "metadata": {},
   "outputs": [],
   "source": [
    "# Import necessary modules\n",
    "import appraise\n",
    "from appraise.utilities import *\n",
    "from appraise.input_fasta_prep import *"
   ]
  },
  {
   "cell_type": "code",
   "execution_count": 3,
   "metadata": {},
   "outputs": [
    {
     "name": "stdout",
     "output_type": "stream",
     "text": [
      "Default csv_file_path is [../demo_100AAV_screening/stage_1/AAV_mock_selection_100_peptide_list.csv], need to change? Provide new value or hit Enter to use default\n",
      "Default folder_path_for_fastas is [./single_peptide_receptor_modeling/], need to change? Provide new value or hit Enter to use default\n",
      "Default receptor_name is [Ly6a], need to change? Provide new value or hit Enter to use default\n",
      "Default receptor_seq is [LECYQCYGVPFETSCPSITCPYPDGVCVTQEAAVIVDSQTRKVKNNLCLPICPPNIESMEILGTKVNVKTSCCQEDLCNVAVP], need to change? Provide new value or hit Enter to use default\n",
      "Default pool_size is [4], need to change? Provide new value or hit Enter to use default\n",
      "> Created folder ./single_peptide_receptor_modeling/\n",
      "> Generated ./single_peptide_receptor_modeling/Ly6a_and_AAV9.fasta\n",
      "> Generated ./single_peptide_receptor_modeling/Ly6a_and_PHP.B.fasta\n",
      "> Generated ./single_peptide_receptor_modeling/Ly6a_and_Dis90.fasta\n",
      "> Generated ./single_peptide_receptor_modeling/Ly6a_and_SRK-1.fasta\n",
      "> Generated ./single_peptide_receptor_modeling/Ly6a_and_SRK-2.fasta\n",
      "> Generated ./single_peptide_receptor_modeling/Ly6a_and_SRK-3.fasta\n",
      "> Generated ./single_peptide_receptor_modeling/Ly6a_and_SRK-4.fasta\n",
      "> Generated ./single_peptide_receptor_modeling/Ly6a_and_SRK-5.fasta\n",
      "> Generated ./single_peptide_receptor_modeling/Ly6a_and_SRK-6.fasta\n",
      "> Generated ./single_peptide_receptor_modeling/Ly6a_and_SRK-7.fasta\n",
      "> Generated ./single_peptide_receptor_modeling/Ly6a_and_SRK-8.fasta\n",
      "> Generated ./single_peptide_receptor_modeling/Ly6a_and_SRK-9.fasta\n",
      "> Generated ./single_peptide_receptor_modeling/Ly6a_and_SRK-10.fasta\n",
      "> Generated ./single_peptide_receptor_modeling/Ly6a_and_SRK-11.fasta\n",
      "> Generated ./single_peptide_receptor_modeling/Ly6a_and_SRK-12.fasta\n",
      "> Generated ./single_peptide_receptor_modeling/Ly6a_and_SRK-13.fasta\n",
      "> Generated ./single_peptide_receptor_modeling/Ly6a_and_SRK-14.fasta\n",
      "> Generated ./single_peptide_receptor_modeling/Ly6a_and_SRK-15.fasta\n",
      "> Generated ./single_peptide_receptor_modeling/Ly6a_and_SRK-16.fasta\n",
      "> Generated ./single_peptide_receptor_modeling/Ly6a_and_SRK-17.fasta\n",
      "> Generated ./single_peptide_receptor_modeling/Ly6a_and_SRK-18.fasta\n",
      "> Generated ./single_peptide_receptor_modeling/Ly6a_and_SRK-19.fasta\n",
      "> Generated ./single_peptide_receptor_modeling/Ly6a_and_SRK-20.fasta\n",
      "> Generated ./single_peptide_receptor_modeling/Ly6a_and_SRK-21.fasta\n",
      "> Generated ./single_peptide_receptor_modeling/Ly6a_and_SRK-22.fasta\n",
      "> Generated ./single_peptide_receptor_modeling/Ly6a_and_SRK-23.fasta\n",
      "> Generated ./single_peptide_receptor_modeling/Ly6a_and_SRK-24.fasta\n",
      "> Generated ./single_peptide_receptor_modeling/Ly6a_and_SRK-25.fasta\n",
      "> Generated ./single_peptide_receptor_modeling/Ly6a_and_SRK-26.fasta\n",
      "> Generated ./single_peptide_receptor_modeling/Ly6a_and_SRK-27.fasta\n",
      "> Generated ./single_peptide_receptor_modeling/Ly6a_and_SRK-28.fasta\n",
      "> Generated ./single_peptide_receptor_modeling/Ly6a_and_SRK-29.fasta\n",
      "> Generated ./single_peptide_receptor_modeling/Ly6a_and_SRK-30.fasta\n",
      "> Generated ./single_peptide_receptor_modeling/Ly6a_and_SRK-31.fasta\n",
      "> Generated ./single_peptide_receptor_modeling/Ly6a_and_SRK-32.fasta\n",
      "> Generated ./single_peptide_receptor_modeling/Ly6a_and_SRK-33.fasta\n",
      "> Generated ./single_peptide_receptor_modeling/Ly6a_and_SRK-34.fasta\n",
      "> Generated ./single_peptide_receptor_modeling/Ly6a_and_SRK-35.fasta\n",
      "> Generated ./single_peptide_receptor_modeling/Ly6a_and_SRK-36.fasta\n",
      "> Generated ./single_peptide_receptor_modeling/Ly6a_and_SRK-37.fasta\n",
      "> Generated ./single_peptide_receptor_modeling/Ly6a_and_SRK-38.fasta\n",
      "> Generated ./single_peptide_receptor_modeling/Ly6a_and_SRK-39.fasta\n",
      "> Generated ./single_peptide_receptor_modeling/Ly6a_and_SRK-40.fasta\n",
      "> Generated ./single_peptide_receptor_modeling/Ly6a_and_SRK-41.fasta\n",
      "> Generated ./single_peptide_receptor_modeling/Ly6a_and_SRK-42.fasta\n",
      "> Generated ./single_peptide_receptor_modeling/Ly6a_and_SRK-43.fasta\n",
      "> Generated ./single_peptide_receptor_modeling/Ly6a_and_SRK-44.fasta\n",
      "> Generated ./single_peptide_receptor_modeling/Ly6a_and_SRK-45.fasta\n",
      "> Generated ./single_peptide_receptor_modeling/Ly6a_and_SRK-46.fasta\n",
      "> Generated ./single_peptide_receptor_modeling/Ly6a_and_SRK-47.fasta\n",
      "> Generated ./single_peptide_receptor_modeling/Ly6a_and_SRK-48.fasta\n",
      "> Generated ./single_peptide_receptor_modeling/Ly6a_and_SRK-49.fasta\n",
      "> Generated ./single_peptide_receptor_modeling/Ly6a_and_SRK-50.fasta\n",
      "> Generated ./single_peptide_receptor_modeling/Ly6a_and_SRK-51.fasta\n",
      "> Generated ./single_peptide_receptor_modeling/Ly6a_and_SRK-52.fasta\n",
      "> Generated ./single_peptide_receptor_modeling/Ly6a_and_SRK-53.fasta\n",
      "> Generated ./single_peptide_receptor_modeling/Ly6a_and_SRK-54.fasta\n",
      "> Generated ./single_peptide_receptor_modeling/Ly6a_and_SRK-55.fasta\n",
      "> Generated ./single_peptide_receptor_modeling/Ly6a_and_SRK-56.fasta\n",
      "> Generated ./single_peptide_receptor_modeling/Ly6a_and_SRK-57.fasta\n",
      "> Generated ./single_peptide_receptor_modeling/Ly6a_and_SRK-58.fasta\n",
      "> Generated ./single_peptide_receptor_modeling/Ly6a_and_SRK-59.fasta\n",
      "> Generated ./single_peptide_receptor_modeling/Ly6a_and_SRK-60.fasta\n",
      "> Generated ./single_peptide_receptor_modeling/Ly6a_and_SRK-61.fasta\n",
      "> Generated ./single_peptide_receptor_modeling/Ly6a_and_SRK-62.fasta\n",
      "> Generated ./single_peptide_receptor_modeling/Ly6a_and_SRK-63.fasta\n",
      "> Generated ./single_peptide_receptor_modeling/Ly6a_and_SRK-64.fasta\n",
      "> Generated ./single_peptide_receptor_modeling/Ly6a_and_SRK-65.fasta\n",
      "> Generated ./single_peptide_receptor_modeling/Ly6a_and_SRK-66.fasta\n",
      "> Generated ./single_peptide_receptor_modeling/Ly6a_and_SRK-67.fasta\n",
      "> Generated ./single_peptide_receptor_modeling/Ly6a_and_SRK-68.fasta\n",
      "> Generated ./single_peptide_receptor_modeling/Ly6a_and_SRK-69.fasta\n",
      "> Generated ./single_peptide_receptor_modeling/Ly6a_and_SRK-70.fasta\n",
      "> Generated ./single_peptide_receptor_modeling/Ly6a_and_SRK-71.fasta\n",
      "> Generated ./single_peptide_receptor_modeling/Ly6a_and_SRK-72.fasta\n",
      "> Generated ./single_peptide_receptor_modeling/Ly6a_and_SRK-73.fasta\n",
      "> Generated ./single_peptide_receptor_modeling/Ly6a_and_SRK-74.fasta\n",
      "> Generated ./single_peptide_receptor_modeling/Ly6a_and_SRK-75.fasta\n",
      "> Generated ./single_peptide_receptor_modeling/Ly6a_and_SRK-76.fasta\n",
      "> Generated ./single_peptide_receptor_modeling/Ly6a_and_SRK-77.fasta\n",
      "> Generated ./single_peptide_receptor_modeling/Ly6a_and_SRK-78.fasta\n",
      "> Generated ./single_peptide_receptor_modeling/Ly6a_and_SRK-79.fasta\n",
      "> Generated ./single_peptide_receptor_modeling/Ly6a_and_SRK-80.fasta\n",
      "> Generated ./single_peptide_receptor_modeling/Ly6a_and_SRK-81.fasta\n",
      "> Generated ./single_peptide_receptor_modeling/Ly6a_and_SRK-82.fasta\n",
      "> Generated ./single_peptide_receptor_modeling/Ly6a_and_SRK-83.fasta\n",
      "> Generated ./single_peptide_receptor_modeling/Ly6a_and_SRK-84.fasta\n",
      "> Generated ./single_peptide_receptor_modeling/Ly6a_and_SRK-85.fasta\n",
      "> Generated ./single_peptide_receptor_modeling/Ly6a_and_SRK-86.fasta\n",
      "> Generated ./single_peptide_receptor_modeling/Ly6a_and_SRK-87.fasta\n",
      "> Generated ./single_peptide_receptor_modeling/Ly6a_and_SRK-88.fasta\n",
      "> Generated ./single_peptide_receptor_modeling/Ly6a_and_SRK-89.fasta\n",
      "> Generated ./single_peptide_receptor_modeling/Ly6a_and_SRK-90.fasta\n",
      "> Generated ./single_peptide_receptor_modeling/Ly6a_and_SRK-91.fasta\n",
      "> Generated ./single_peptide_receptor_modeling/Ly6a_and_SRK-92.fasta\n",
      "> Generated ./single_peptide_receptor_modeling/Ly6a_and_SRK-93.fasta\n",
      "> Generated ./single_peptide_receptor_modeling/Ly6a_and_SRK-94.fasta\n",
      "> Generated ./single_peptide_receptor_modeling/Ly6a_and_SRK-95.fasta\n",
      "> Generated ./single_peptide_receptor_modeling/Ly6a_and_SRK-96.fasta\n",
      "> Generated ./single_peptide_receptor_modeling/Ly6a_and_SRK-97.fasta\n"
     ]
    }
   ],
   "source": [
    "csv_file_path = interactive_input('csv_file_path','../demo_100AAV_screening/stage_1/AAV_mock_selection_100_peptide_list.csv')\n",
    "\n",
    "folder_path_for_fastas = interactive_input('folder_path_for_fastas', './single_peptide_receptor_modeling/')\n",
    "\n",
    "receptor_name = interactive_input('receptor_name', 'Ly6a')\n",
    "\n",
    "receptor_seq = interactive_input('receptor_seq', \"LECYQCYGVPFETSCPSITCPYPDGVCVTQEAAVIVDSQTRKVKNNLCLPICPPNIESMEILGTKVNVKTSCCQEDLCNVAVP\")\n",
    "\n",
    "pool_size = interactive_input('pool_size', 4)\n",
    "\n",
    "peptide_names, peptide_seqs = load_peptides(csv_file_path)\n",
    "\n",
    "list_query_sequence, list_jobname = get_complex_fastas(receptor_name, \\\n",
    "                                                                        receptor_seq,\n",
    "                                                                        peptide_names, \\\n",
    "                                                                        peptide_seqs, \\\n",
    "                                                                        mode = 'single', \\\n",
    "                                                                        pool_size = pool_size,\\\n",
    "                                                                        folder_path = folder_path_for_fastas)"
   ]
  },
  {
   "cell_type": "code",
   "execution_count": null,
   "metadata": {},
   "outputs": [],
   "source": []
  }
 ],
 "metadata": {
  "kernelspec": {
   "display_name": "Python 3 (ipykernel)",
   "language": "python",
   "name": "python3"
  },
  "language_info": {
   "codemirror_mode": {
    "name": "ipython",
    "version": 3
   },
   "file_extension": ".py",
   "mimetype": "text/x-python",
   "name": "python",
   "nbconvert_exporter": "python",
   "pygments_lexer": "ipython3",
   "version": "3.9.13"
  }
 },
 "nbformat": 4,
 "nbformat_minor": 4
}
