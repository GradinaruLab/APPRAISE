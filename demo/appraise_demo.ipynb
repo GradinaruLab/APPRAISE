{
 "cells": [
  {
   "cell_type": "markdown",
   "metadata": {},
   "source": [
    "# Demo notebook for APPRAISE"
   ]
  },
  {
   "cell_type": "markdown",
   "metadata": {},
   "source": [
    "Author: Xiaozhe Ding\n",
    "\n",
    "Email: xding@caltech.edu, dingxiaozhe@gmail.com"
   ]
  },
  {
   "cell_type": "markdown",
   "metadata": {},
   "source": [
    "## Introduction"
   ]
  },
  {
   "cell_type": "markdown",
   "metadata": {},
   "source": [
    "In this demo, we'll use APPRAISE to screen a library made of 100 AAV9-based variants for their binding propensities to LY6A receptor, as described in Fig.3 of *Ding et al.*.\n",
    "\n",
    "![workflow](./Workflow.png)\n",
    "\n",
    "Please read the instruction above each executable box and determine which ones you need to execute and the modifications you need to make."
   ]
  },
  {
   "cell_type": "markdown",
   "metadata": {},
   "source": [
    "## Stage 0 - Environment and package installation"
   ]
  },
  {
   "cell_type": "markdown",
   "metadata": {},
   "source": [
    "#### Check the environment\n",
    "\n",
    "APPRAISE 1.2 was tested with the following environment. We suggest using versions equal or higher than these for optimal compatibility:\n",
    "\n",
    "For input file preparation and data analysis:\n",
    "\n",
    " - MacOS 10.14.6\n",
    "\n",
    " - Python 3.6.10\n",
    "\n",
    " - PyMOL 2.3.3 (Schrodinger LLC.)\n",
    "\n",
    " - Python packages: \n",
    "\n",
    "    - numpy 1.18.2\n",
    "\n",
    "    - pandas 1.1.5\n",
    "\n",
    "    - matplotlib 3.2.1\n",
    "\n",
    "    - seaborn 0.11.2\n",
    "\n",
    "For structural modeling:\n",
    "\n",
    "- slphafold-colabfold 2.1.14 (Accessed using Google Colaboratory. Notebook available [here](https://github.com/sokrypton/ColabFold))\n",
    "    - AlphaFold model version: AlphaFold-multimer-v2\n"
   ]
  },
  {
   "cell_type": "markdown",
   "metadata": {},
   "source": [
    "#### APPRAISE package\n",
    "\n",
    "If you haven't install the appraise package, run the following box in the notebook to install the package. ***You'll need to restart the kernal after installation***. \n",
    "\n",
    "Skip this block if the package had already been installed."
   ]
  },
  {
   "cell_type": "code",
   "execution_count": null,
   "metadata": {},
   "outputs": [],
   "source": [
    "!pip install -e ../../appraise"
   ]
  },
  {
   "cell_type": "markdown",
   "metadata": {},
   "source": [
    "## Stage 1 - Pooled selection"
   ]
  },
  {
   "cell_type": "markdown",
   "metadata": {},
   "source": [
    "### 1.1 - Prepare input fasta files for pooled competition in AlphaFold"
   ]
  },
  {
   "cell_type": "code",
   "execution_count": null,
   "metadata": {},
   "outputs": [],
   "source": [
    "# Import necessary modules\n",
    "import appraise\n",
    "from appraise.utilities import *\n",
    "from appraise.input_fasta_prep import *\n",
    "\n",
    "# Make sure the working directory is in the demo folder to avoid issues related to relative paths\n",
    "import os\n",
    "demo_path = '/'.join(os.path.abspath(appraise.__file__).split('/')[:-2]) + '/demo/'\n",
    "os.chdir(demo_path)"
   ]
  },
  {
   "cell_type": "markdown",
   "metadata": {},
   "source": [
    "The peptide sequences should be provided in a .csv table with two columns titled \"peptide_name\" and \"peptide_seq\", respectively.\n",
    "\n",
    "You can find example peptide listes in folde ./sequences_from_the_manuscript. "
   ]
  },
  {
   "cell_type": "markdown",
   "metadata": {},
   "source": [
    "Generate pooled fastas with random grouping 1 (4 variants per group):"
   ]
  },
  {
   "cell_type": "code",
   "execution_count": null,
   "metadata": {},
   "outputs": [],
   "source": [
    "csv_file_path = interactive_input('csv_file_path','./demo_AAV_100_screening/stage_1/AAV_mock_selection_100_peptide_list.csv')\n",
    "\n",
    "folder_path_for_fastas = interactive_input('folder_path_for_fastas', './demo_AAV_100_screening/stage_1/stage_1_grouping_1_input_fasta/')\n",
    "\n",
    "receptor_name = interactive_input('receptor_name', 'Ly6a')\n",
    "\n",
    "receptor_seq = interactive_input('receptor_seq', \"LECYQCYGVPFETSCPSITCPYPDGVCVTQEAAVIVDSQTRKVKNNLCLPICPPNIESMEILGTKVNVKTSCCQEDLCNVAVP\")\n",
    "\n",
    "pool_size = interactive_input('pool_size', 4)\n",
    "\n",
    "peptide_names, peptide_seqs = load_peptides(csv_file_path)\n",
    "\n",
    "list_query_sequence, list_jobname = get_complex_fastas(receptor_name, \\\n",
    "                                                                        receptor_seq,\n",
    "                                                                        peptide_names, \\\n",
    "                                                                        peptide_seqs, \\\n",
    "                                                                        mode = 'pooled', \\\n",
    "                                                                        pool_size = pool_size,\\\n",
    "                                                                        folder_path = folder_path_for_fastas)"
   ]
  },
  {
   "cell_type": "markdown",
   "metadata": {},
   "source": [
    "Generate pooled fastas with random grouping 2 (4 variants per group):"
   ]
  },
  {
   "cell_type": "code",
   "execution_count": null,
   "metadata": {},
   "outputs": [],
   "source": [
    "csv_file_path = interactive_input('csv_file_path','./demo_AAV_100_screening/stage_1/AAV_mock_selection_100_peptide_list.csv')\n",
    "\n",
    "folder_path_for_fastas = interactive_input('folder_path_for_fastas', './demo_AAV_100_screening/stage_1/stage_1_grouping_2_input_fasta/')\n",
    "\n",
    "receptor_name = interactive_input('receptor_name', 'Ly6a')\n",
    "\n",
    "receptor_seq = interactive_input('receptor_seq', \"LECYQCYGVPFETSCPSITCPYPDGVCVTQEAAVIVDSQTRKVKNNLCLPICPPNIESMEILGTKVNVKTSCCQEDLCNVAVP\")\n",
    "\n",
    "pool_size = interactive_input('pool_size', 4)\n",
    "\n",
    "peptide_names, peptide_seqs = load_peptides(csv_file_path)\n",
    "\n",
    "list_query_sequence, list_jobname = get_complex_fastas(receptor_name, \\\n",
    "                                                                        receptor_seq,\n",
    "                                                                        peptide_names, \\\n",
    "                                                                        peptide_seqs, \\\n",
    "                                                                        mode = 'pooled', \\\n",
    "                                                                        pool_size = pool_size,\\\n",
    "                                                                        folder_path = folder_path_for_fastas)"
   ]
  },
  {
   "cell_type": "markdown",
   "metadata": {},
   "source": [
    "### 1.2 - Run structural prediction"
   ]
  },
  {
   "cell_type": "markdown",
   "metadata": {},
   "source": [
    "The structures can be modeled using AlphaFold2-multimer or other state-of-the-art structure-prediction tools. \n",
    "\n",
    "For easy access to AlphaFold2-multimer, we suggest using ColabFold, an integrated implementation of multiple sequence alignment and AlphaFold (Mirdita M, Schütze K, Moriwaki Y, Heo L, Ovchinnikov S and Steinegger M. ColabFold: Making protein folding accessible to all., Nature Methods (2022) doi: 10.1038/s41592-022-01488-1)."
   ]
  },
  {
   "cell_type": "markdown",
   "metadata": {},
   "source": [
    "To use the ColabFold notebook, you can make a copy of [the ColabFold-batch notebook](https://github.com/sokrypton/ColabFold/blob/main/batch/AlphaFold2_batch.ipynb) to a Google account, upload fasta files to the input folder, and hit \"run all\" in the Colab notebook.  Suggested settings:\n",
    "\n",
    "```\n",
    "\n",
    "msa_mode = MMseqs2 (UniRef+Environmental)\n",
    "\n",
    "num_models = 5\n",
    "\n",
    "num_recycles = 3\n",
    "\n",
    "stop_at_score = 100\n",
    "\n",
    "use_amber = False\n",
    "\n",
    "use_templates = True\n",
    "\n",
    "do_not_overwrite_results = False\n",
    "\n",
    "zip_results = False\n",
    "\n",
    "model_type = \"auto\" #In colabfold 2.1.14, AlphaFold2-multimer-v2 is used by default.\n",
    "\n",
    "```\n"
   ]
  },
  {
   "cell_type": "markdown",
   "metadata": {},
   "source": [
    "Note: \n",
    "\n",
    "1. Google encourages interactive usage of Colab and they may limit usage of GPU for long runs. Empirically, we suggest running < 20 fasta files at a time for free users and < 100 fasta files at a time for Colab Pro Plus users.\n",
    "\n",
    "2. If you wish to use another version of AlphaFold model (e.g., AlphaFold2-multimer-v1) in the Colab batch notebook, you will need to make two modifications manually. First, copy the lines below and paste it to the top of the \"Run prediction\" block so that the notebook can download the correct parameters. Second, change the \"model_type\" argument in the line with \"run(...)\" in the \"Run prediction\" block to the desired model type.\n",
    "```\n",
    "# Force to download for the appropriate model type\n",
    "model_type = \"AlphaFold2-multimer-v1\" #See ColabFold documentation for other available model types\n",
    "from colabfold.download import download_alphafold_params\n",
    "from pathlib import Path\n",
    "download_alphafold_params(model_type, Path(\"/root/.cache/colabfold/\"))\n",
    "```\n",
    "\n",
    "If your session is terminated in the middle, You can delete the input fasta files for the models that were already finished and restart the session to continue with the rest. Sometimes you may need to wait for hours to regain access to a GPU session."
   ]
  },
  {
   "cell_type": "markdown",
   "metadata": {},
   "source": [
    "### 1.3 - Quantify the structure models"
   ]
  },
  {
   "cell_type": "markdown",
   "metadata": {},
   "source": [
    "The PyMOL script appraise/pymol_quantify_peptide_binding.py will analyze the pdb files in a folder and generate a csv file containing all measurements in parent folder of the pdb results folder. \n",
    "\n",
    "*Note: If you did not use ColabFold for the modeling, the file names of the models need to be changed to the following format, where the bracketed part can be any filler string with a total length of 14 characters:*\n",
    "```\n",
    "'ReceptorName_and_Peptide1Name_vs_Peptide2Name_vs_..._vs_PeptideNName_unrelaxed_[14Characters].pdb'\n",
    "```\n",
    "\n",
    "#### Option 1: Run the quantification script in **pymol prompt**\n",
    "\n",
    "In PyMOL, use the following lines (the can be adjusted):\n",
    "\n",
    "```\n",
    "# Load the script (replace \"/path/to/APPRAISE\" with the actual path)\n",
    "run /path/to/APPRAISE/appraise/pymol_quantify_peptide_binding.py\n",
    "\n",
    "# Call the quantification function (change the parameters as needed)\n",
    "quantify_binding('path_to_results_folder/', use_relaxed=False, time_stamp=True, mod_start_resi=3, mod_end_resi=9, pLDDT_threshold=0, membrane_anchor_site='C-term')\n",
    "```\n",
    "\n",
    "*Note: The script will take a few minutes to run, and the PyMOL GUI might be frozen while the script is running, which is normal.*"
   ]
  },
  {
   "cell_type": "markdown",
   "metadata": {},
   "source": [
    "#### Option 2: Run the quantification script in **terminal** or **JuPyter notebook**. \n",
    "\n",
    "*Note: Currently you can run the script outside PyMOL only with default parameters. If you need to change the parameters for the quantification function, use Option 1 instead.*\n",
    "\n",
    "The pymol script can also be launched from the terminal (https://www.pymolwiki.org/index.php/Launching_From_a_Script). \n",
    "\n",
    "General syntax:"
   ]
  },
  {
   "cell_type": "markdown",
   "metadata": {},
   "source": [
    "```\n",
    "pymol -cq /path/to/APPRAISE/appraise/pymol_quantify_peptide_binding.py /path/to/results/folder/\n",
    "```"
   ]
  },
  {
   "cell_type": "markdown",
   "metadata": {},
   "source": [
    "You will need to replace \"/path/to/APPRAISE\" with the actual path. You might also need to change \"pymol\" to the actual location of the executable, depending on your operation system and PyMOL release."
   ]
  },
  {
   "cell_type": "markdown",
   "metadata": {},
   "source": [
    "For example, MacOS users using PyMOL provided by Schrödinger can run the box below within this Jupyter notebook:"
   ]
  },
  {
   "cell_type": "code",
   "execution_count": null,
   "metadata": {},
   "outputs": [],
   "source": [
    "# Make sure the working directory is in the demo folder to avoid issues related to relative paths\n",
    "import appraise\n",
    "import os\n",
    "demo_path = '/'.join(os.path.abspath(appraise.__file__).split('/')[:-2]) + '/demo/'\n",
    "os.chdir(demo_path)\n",
    "\n",
    "# Execute the PyMOL script\n",
    "!/Applications/PyMOL.app/Contents/MacOS/PyMOL -cq ../appraise/pymol_quantify_peptide_binding.py ./demo_AAV_100_screening/stage_1/stage_1_alphafold_modeling_results/"
   ]
  },
  {
   "cell_type": "markdown",
   "metadata": {},
   "source": [
    "### 1.4 - Analyze the pooled_competition results"
   ]
  },
  {
   "cell_type": "code",
   "execution_count": null,
   "metadata": {},
   "outputs": [],
   "source": [
    "# Import common packages\n",
    "import numpy as np\n",
    "import pandas as pd\n",
    "import matplotlib.pyplot as plt\n",
    "import seaborn as sns\n",
    "\n",
    "# Import necessary APPRAISE modules\n",
    "import appraise\n",
    "from appraise.utilities import *\n",
    "from appraise.score_calculation import *\n",
    "\n",
    "# Make sure the working directory is in the demo folder to avoid issues related to relative paths\n",
    "import os\n",
    "demo_path = '/'.join(os.path.abspath(appraise.__file__).split('/')[:-2]) + '/demo/'\n",
    "\n",
    "os.chdir(demo_path)"
   ]
  },
  {
   "cell_type": "markdown",
   "metadata": {},
   "source": [
    "#### Load the measurements"
   ]
  },
  {
   "cell_type": "markdown",
   "metadata": {},
   "source": [
    "Use the following block to load the .csv file generated by the PyMOL script. \n",
    "\n",
    "An example measurements is also available in the demo."
   ]
  },
  {
   "cell_type": "code",
   "execution_count": 2,
   "metadata": {},
   "outputs": [
    {
     "name": "stdout",
     "output_type": "stream",
     "text": [
      "Default Path to database file (*.csv) is [./demo_AAV_100_screening/stage_1/database_APPRAISE_measurements_stage_1_example.csv], need to change? Provide new value or hit Enter to use default\n"
     ]
    },
    {
     "name": "stdin",
     "output_type": "stream",
     "text": [
      ">  \n"
     ]
    },
    {
     "name": "stdout",
     "output_type": "stream",
     "text": [
      "Default Receptor of interest (need to match the name in input fasta file names) is [Ly6a], need to change? Provide new value or hit Enter to use default\n"
     ]
    },
    {
     "name": "stdin",
     "output_type": "stream",
     "text": [
      ">  \n"
     ]
    },
    {
     "name": "stdout",
     "output_type": "stream",
     "text": [
      "Default R_minor of the receptor is [13.4], need to change? Provide new value or hit Enter to use default\n"
     ]
    },
    {
     "name": "stdin",
     "output_type": "stream",
     "text": [
      ">  \n"
     ]
    },
    {
     "name": "stdout",
     "output_type": "stream",
     "text": [
      "Default Version of APPRAISE to use is [1.2], need to change? Provide new value or hit Enter to use default\n"
     ]
    },
    {
     "name": "stdin",
     "output_type": "stream",
     "text": [
      ">  \n"
     ]
    },
    {
     "name": "stdout",
     "output_type": "stream",
     "text": [
      "\n",
      "A database with 100 peptides is successfully loaded! \n",
      "\n",
      "\n",
      "Quality check: \n",
      " The following plot shows the number of models for each peptide variant in the database. \n",
      " You should expect to see an equal number of models in all variants. \n",
      " If the numbers are not equal, there might some models missing during structure prediction or quantification. You can still proceed with the risk of getting biased rankings.\n",
      " Double click on the plot to Zoom in. \n"
     ]
    },
    {
     "data": {
      "image/png": "[encoded data removed]",
      "text/plain": [
       "<Figure size 10800x216 with 1 Axes>"
      ]
     },
     "metadata": {
      "needs_background": "light"
     },
     "output_type": "display_data"
    }
   ],
   "source": [
    "# Get the settings\n",
    "database_path = interactive_input('Path to database file (*.csv)','./demo_AAV_100_screening/stage_1/database_APPRAISE_measurements_stage_1_example.csv')\n",
    "receptor_of_interest = interactive_input('Receptor of interest (need to match the name in input fasta file names)', 'Ly6a')\n",
    "receptor_Rminor = float(interactive_input('R_minor of the receptor', 13.4))\n",
    "APPRAISE_version = float(interactive_input('Version of APPRAISE to use', 1.2))\n",
    "\n",
    "# Read and calculate scores\n",
    "df = pd.read_csv(database_path)\n",
    "df = df.loc[df['receptor_name'] == receptor_of_interest].copy()\n",
    "df['receptor_Rminor'] = receptor_Rminor\n",
    "list_peptide_names, list_peptide_seqs = get_peptide_list_from_model_names(df)\n",
    "\n",
    "df_sorted = sort_df_by_peptides_and_cleanup(df, list_peptide_names)\n",
    "\n",
    "print('\\nA database with {} peptides is successfully loaded! \\n'.format(len(list_peptide_names)))\n",
    "\n",
    "# Quality check\n",
    "print('\\nQuality check: \\n \\\n",
    "The following plot shows the number of models for each peptide variant in the database. \\n \\\n",
    "You should expect to see an equal number of models in all variants. \\n \\\n",
    "If the numbers are not equal, there might some models missing during structure prediction or quantification. You can still proceed with the risk of getting biased rankings.\\n \\\n",
    "Double click on the plot to Zoom in. ')\n",
    "\n",
    "plt.rcParams[\"figure.figsize\"] = (len(list_peptide_names)*1.5, 3)\n",
    "sns.histplot(df, x='peptide_name')\n",
    "plt.tight_layout()"
   ]
  },
  {
   "cell_type": "markdown",
   "metadata": {},
   "source": [
    "#### Rank by mean aboslute binding score ($\\overline{B}_2^{POI}$)"
   ]
  },
  {
   "cell_type": "markdown",
   "metadata": {},
   "source": [
    "Calculate the individual binding score in each individual competition ($B_2^{POI, competitor}$):"
   ]
  },
  {
   "cell_type": "code",
   "execution_count": 3,
   "metadata": {},
   "outputs": [
    {
     "data": {
      "text/html": [
       "<div>\n",
       "<style scoped>\n",
       "    .dataframe tbody tr th:only-of-type {\n",
       "        vertical-align: middle;\n",
       "    }\n",
       "\n",
       "    .dataframe tbody tr th {\n",
       "        vertical-align: top;\n",
       "    }\n",
       "\n",
       "    .dataframe thead th {\n",
       "        text-align: right;\n",
       "    }\n",
       "</style>\n",
       "<table border=\"1\" class=\"dataframe\">\n",
       "  <thead>\n",
       "    <tr style=\"text-align: right;\">\n",
       "      <th></th>\n",
       "      <th>peptide_name</th>\n",
       "      <th>B_POI</th>\n",
       "    </tr>\n",
       "  </thead>\n",
       "  <tbody>\n",
       "    <tr>\n",
       "      <th>0</th>\n",
       "      <td>SRK-42</td>\n",
       "      <td>0.018572</td>\n",
       "    </tr>\n",
       "    <tr>\n",
       "      <th>1</th>\n",
       "      <td>SRK-30</td>\n",
       "      <td>250.565072</td>\n",
       "    </tr>\n",
       "    <tr>\n",
       "      <th>2</th>\n",
       "      <td>SRK-73</td>\n",
       "      <td>14.759694</td>\n",
       "    </tr>\n",
       "    <tr>\n",
       "      <th>3</th>\n",
       "      <td>Dis90</td>\n",
       "      <td>62.420330</td>\n",
       "    </tr>\n",
       "    <tr>\n",
       "      <th>4</th>\n",
       "      <td>SRK-24</td>\n",
       "      <td>137.510546</td>\n",
       "    </tr>\n",
       "    <tr>\n",
       "      <th>...</th>\n",
       "      <td>...</td>\n",
       "      <td>...</td>\n",
       "    </tr>\n",
       "    <tr>\n",
       "      <th>995</th>\n",
       "      <td>AAV9</td>\n",
       "      <td>-0.000000</td>\n",
       "    </tr>\n",
       "    <tr>\n",
       "      <th>996</th>\n",
       "      <td>SRK-77</td>\n",
       "      <td>-0.000000</td>\n",
       "    </tr>\n",
       "    <tr>\n",
       "      <th>997</th>\n",
       "      <td>SRK-33</td>\n",
       "      <td>140.388926</td>\n",
       "    </tr>\n",
       "    <tr>\n",
       "      <th>998</th>\n",
       "      <td>SRK-64</td>\n",
       "      <td>18.680801</td>\n",
       "    </tr>\n",
       "    <tr>\n",
       "      <th>999</th>\n",
       "      <td>SRK-78</td>\n",
       "      <td>124.826216</td>\n",
       "    </tr>\n",
       "  </tbody>\n",
       "</table>\n",
       "<p>1000 rows × 2 columns</p>\n",
       "</div>"
      ],
      "text/plain": [
       "    peptide_name       B_POI\n",
       "0         SRK-42    0.018572\n",
       "1         SRK-30  250.565072\n",
       "2         SRK-73   14.759694\n",
       "3          Dis90   62.420330\n",
       "4         SRK-24  137.510546\n",
       "..           ...         ...\n",
       "995         AAV9   -0.000000\n",
       "996       SRK-77   -0.000000\n",
       "997       SRK-33  140.388926\n",
       "998       SRK-64   18.680801\n",
       "999       SRK-78  124.826216\n",
       "\n",
       "[1000 rows x 2 columns]"
      ]
     },
     "execution_count": 3,
     "metadata": {},
     "output_type": "execute_result"
    }
   ],
   "source": [
    "df = calculate_scores(df, version=APPRAISE_version)\n",
    "df[['peptide_name','B_POI']]"
   ]
  },
  {
   "cell_type": "markdown",
   "metadata": {},
   "source": [
    "Get the mean binding scores ($\\overline{B}_2^{POI}$)"
   ]
  },
  {
   "cell_type": "code",
   "execution_count": 4,
   "metadata": {},
   "outputs": [
    {
     "data": {
      "text/html": [
       "<div>\n",
       "<style scoped>\n",
       "    .dataframe tbody tr th:only-of-type {\n",
       "        vertical-align: middle;\n",
       "    }\n",
       "\n",
       "    .dataframe tbody tr th {\n",
       "        vertical-align: top;\n",
       "    }\n",
       "\n",
       "    .dataframe thead th {\n",
       "        text-align: right;\n",
       "    }\n",
       "</style>\n",
       "<table border=\"1\" class=\"dataframe\">\n",
       "  <thead>\n",
       "    <tr style=\"text-align: right;\">\n",
       "      <th></th>\n",
       "      <th>peptide_name</th>\n",
       "      <th>B_POI</th>\n",
       "    </tr>\n",
       "  </thead>\n",
       "  <tbody>\n",
       "    <tr>\n",
       "      <th>0</th>\n",
       "      <td>SRK-82</td>\n",
       "      <td>60.545884</td>\n",
       "    </tr>\n",
       "    <tr>\n",
       "      <th>1</th>\n",
       "      <td>SRK-76</td>\n",
       "      <td>67.773840</td>\n",
       "    </tr>\n",
       "    <tr>\n",
       "      <th>2</th>\n",
       "      <td>SRK-67</td>\n",
       "      <td>75.763764</td>\n",
       "    </tr>\n",
       "    <tr>\n",
       "      <th>3</th>\n",
       "      <td>SRK-65</td>\n",
       "      <td>20.612449</td>\n",
       "    </tr>\n",
       "    <tr>\n",
       "      <th>4</th>\n",
       "      <td>SRK-92</td>\n",
       "      <td>52.214733</td>\n",
       "    </tr>\n",
       "    <tr>\n",
       "      <th>...</th>\n",
       "      <td>...</td>\n",
       "      <td>...</td>\n",
       "    </tr>\n",
       "    <tr>\n",
       "      <th>95</th>\n",
       "      <td>SRK-58</td>\n",
       "      <td>40.682409</td>\n",
       "    </tr>\n",
       "    <tr>\n",
       "      <th>96</th>\n",
       "      <td>SRK-95</td>\n",
       "      <td>26.202746</td>\n",
       "    </tr>\n",
       "    <tr>\n",
       "      <th>97</th>\n",
       "      <td>SRK-90</td>\n",
       "      <td>85.831057</td>\n",
       "    </tr>\n",
       "    <tr>\n",
       "      <th>98</th>\n",
       "      <td>SRK-83</td>\n",
       "      <td>36.438845</td>\n",
       "    </tr>\n",
       "    <tr>\n",
       "      <th>99</th>\n",
       "      <td>SRK-1</td>\n",
       "      <td>62.602351</td>\n",
       "    </tr>\n",
       "  </tbody>\n",
       "</table>\n",
       "<p>100 rows × 2 columns</p>\n",
       "</div>"
      ],
      "text/plain": [
       "   peptide_name      B_POI\n",
       "0        SRK-82  60.545884\n",
       "1        SRK-76  67.773840\n",
       "2        SRK-67  75.763764\n",
       "3        SRK-65  20.612449\n",
       "4        SRK-92  52.214733\n",
       "..          ...        ...\n",
       "95       SRK-58  40.682409\n",
       "96       SRK-95  26.202746\n",
       "97       SRK-90  85.831057\n",
       "98       SRK-83  36.438845\n",
       "99        SRK-1  62.602351\n",
       "\n",
       "[100 rows x 2 columns]"
      ]
     },
     "execution_count": 4,
     "metadata": {},
     "output_type": "execute_result"
    }
   ],
   "source": [
    "# Sort the peptides\n",
    "df_average_by_POI = df.groupby(by=['peptide_name','peptide_seq']).mean().dropna(subset=['B_POI']).reset_index()\n",
    "df_average_by_POI[['peptide_name','B_POI']]"
   ]
  },
  {
   "cell_type": "markdown",
   "metadata": {},
   "source": [
    "Run the following code block to get a the absolute binding scores of the variants and a list of top peptides that can be used for stage 2.\n",
    "\n",
    "The results will be saved in the save directory as the database."
   ]
  },
  {
   "cell_type": "code",
   "execution_count": 5,
   "metadata": {},
   "outputs": [
    {
     "name": "stdout",
     "output_type": "stream",
     "text": [
      "Default Number of top variants to keep is [18], need to change? Provide new value or hit Enter to use default\n"
     ]
    },
    {
     "name": "stdin",
     "output_type": "stream",
     "text": [
      ">  \n"
     ]
    },
    {
     "name": "stdout",
     "output_type": "stream",
     "text": [
      "\n",
      "Success!\n",
      "\n",
      "The APPRAISE scores of peptide variants are saved in ./demo_AAV_100_screening/stage_1/APPRAISE1.2_scores_of_all_peptides.csv\n",
      "\n",
      "The list of selected peptides is saved as ./demo_AAV_100_screening/stage_1/APPRAISE1.2_selected_top_18_peptides.csv\n",
      "\n",
      "Here is the list of selected peptide variants:\n",
      "\n"
     ]
    },
    {
     "data": {
      "text/html": [
       "<div>\n",
       "<style scoped>\n",
       "    .dataframe tbody tr th:only-of-type {\n",
       "        vertical-align: middle;\n",
       "    }\n",
       "\n",
       "    .dataframe tbody tr th {\n",
       "        vertical-align: top;\n",
       "    }\n",
       "\n",
       "    .dataframe thead th {\n",
       "        text-align: right;\n",
       "    }\n",
       "</style>\n",
       "<table border=\"1\" class=\"dataframe\">\n",
       "  <thead>\n",
       "    <tr style=\"text-align: right;\">\n",
       "      <th></th>\n",
       "      <th>peptide_name</th>\n",
       "      <th>peptide_seq</th>\n",
       "      <th>B_POI</th>\n",
       "    </tr>\n",
       "  </thead>\n",
       "  <tbody>\n",
       "    <tr>\n",
       "      <th>0</th>\n",
       "      <td>SRK-53</td>\n",
       "      <td>AQLTSSNALAQAQTG</td>\n",
       "      <td>173.804960</td>\n",
       "    </tr>\n",
       "    <tr>\n",
       "      <th>1</th>\n",
       "      <td>SRK-50</td>\n",
       "      <td>AQNNFNASLAQAQTG</td>\n",
       "      <td>166.991482</td>\n",
       "    </tr>\n",
       "    <tr>\n",
       "      <th>2</th>\n",
       "      <td>SRK-28</td>\n",
       "      <td>AQIVSNQMSAQAQTG</td>\n",
       "      <td>122.505731</td>\n",
       "    </tr>\n",
       "    <tr>\n",
       "      <th>3</th>\n",
       "      <td>SRK-24</td>\n",
       "      <td>AQFNSKLQLAQAQTG</td>\n",
       "      <td>118.724006</td>\n",
       "    </tr>\n",
       "    <tr>\n",
       "      <th>4</th>\n",
       "      <td>SRK-8</td>\n",
       "      <td>AQTHDAQAWAQAQTG</td>\n",
       "      <td>117.117370</td>\n",
       "    </tr>\n",
       "    <tr>\n",
       "      <th>5</th>\n",
       "      <td>Dis90</td>\n",
       "      <td>AQWKNMGLQAQAQTG</td>\n",
       "      <td>113.283974</td>\n",
       "    </tr>\n",
       "    <tr>\n",
       "      <th>6</th>\n",
       "      <td>SRK-78</td>\n",
       "      <td>AQTAYLEVKAQAQTG</td>\n",
       "      <td>107.396226</td>\n",
       "    </tr>\n",
       "    <tr>\n",
       "      <th>7</th>\n",
       "      <td>PHP.B</td>\n",
       "      <td>AQTLAVPFKAQAQTG</td>\n",
       "      <td>105.530522</td>\n",
       "    </tr>\n",
       "    <tr>\n",
       "      <th>8</th>\n",
       "      <td>SRK-39</td>\n",
       "      <td>AQLGDITGFAQAQTG</td>\n",
       "      <td>104.153545</td>\n",
       "    </tr>\n",
       "    <tr>\n",
       "      <th>9</th>\n",
       "      <td>SRK-64</td>\n",
       "      <td>AQVFQATRTAQAQTG</td>\n",
       "      <td>103.654788</td>\n",
       "    </tr>\n",
       "    <tr>\n",
       "      <th>10</th>\n",
       "      <td>SRK-61</td>\n",
       "      <td>AQNHMVRELAQAQTG</td>\n",
       "      <td>103.537022</td>\n",
       "    </tr>\n",
       "    <tr>\n",
       "      <th>11</th>\n",
       "      <td>SRK-74</td>\n",
       "      <td>AQIPVSIQAAQAQTG</td>\n",
       "      <td>99.058460</td>\n",
       "    </tr>\n",
       "    <tr>\n",
       "      <th>12</th>\n",
       "      <td>SRK-38</td>\n",
       "      <td>AQTLYNAIHAQAQTG</td>\n",
       "      <td>96.663358</td>\n",
       "    </tr>\n",
       "    <tr>\n",
       "      <th>13</th>\n",
       "      <td>SRK-17</td>\n",
       "      <td>AQTTMGTMLAQAQTG</td>\n",
       "      <td>95.093464</td>\n",
       "    </tr>\n",
       "    <tr>\n",
       "      <th>14</th>\n",
       "      <td>SRK-93</td>\n",
       "      <td>AQSVSTPRGAQAQTG</td>\n",
       "      <td>91.677336</td>\n",
       "    </tr>\n",
       "    <tr>\n",
       "      <th>15</th>\n",
       "      <td>SRK-42</td>\n",
       "      <td>AQVRIPGALAQAQTG</td>\n",
       "      <td>91.119013</td>\n",
       "    </tr>\n",
       "    <tr>\n",
       "      <th>16</th>\n",
       "      <td>SRK-90</td>\n",
       "      <td>AQNKLTANGAQAQTG</td>\n",
       "      <td>85.831057</td>\n",
       "    </tr>\n",
       "    <tr>\n",
       "      <th>17</th>\n",
       "      <td>SRK-30</td>\n",
       "      <td>AQNMKIQHVAQAQTG</td>\n",
       "      <td>84.947277</td>\n",
       "    </tr>\n",
       "    <tr>\n",
       "      <th>18</th>\n",
       "      <td>SRK-70</td>\n",
       "      <td>AQINPGITLAQAQTG</td>\n",
       "      <td>84.154395</td>\n",
       "    </tr>\n",
       "  </tbody>\n",
       "</table>\n",
       "</div>"
      ],
      "text/plain": [
       "   peptide_name      peptide_seq       B_POI\n",
       "0        SRK-53  AQLTSSNALAQAQTG  173.804960\n",
       "1        SRK-50  AQNNFNASLAQAQTG  166.991482\n",
       "2        SRK-28  AQIVSNQMSAQAQTG  122.505731\n",
       "3        SRK-24  AQFNSKLQLAQAQTG  118.724006\n",
       "4         SRK-8  AQTHDAQAWAQAQTG  117.117370\n",
       "5         Dis90  AQWKNMGLQAQAQTG  113.283974\n",
       "6        SRK-78  AQTAYLEVKAQAQTG  107.396226\n",
       "7         PHP.B  AQTLAVPFKAQAQTG  105.530522\n",
       "8        SRK-39  AQLGDITGFAQAQTG  104.153545\n",
       "9        SRK-64  AQVFQATRTAQAQTG  103.654788\n",
       "10       SRK-61  AQNHMVRELAQAQTG  103.537022\n",
       "11       SRK-74  AQIPVSIQAAQAQTG   99.058460\n",
       "12       SRK-38  AQTLYNAIHAQAQTG   96.663358\n",
       "13       SRK-17  AQTTMGTMLAQAQTG   95.093464\n",
       "14       SRK-93  AQSVSTPRGAQAQTG   91.677336\n",
       "15       SRK-42  AQVRIPGALAQAQTG   91.119013\n",
       "16       SRK-90  AQNKLTANGAQAQTG   85.831057\n",
       "17       SRK-30  AQNMKIQHVAQAQTG   84.947277\n",
       "18       SRK-70  AQINPGITLAQAQTG   84.154395"
      ]
     },
     "execution_count": 5,
     "metadata": {},
     "output_type": "execute_result"
    }
   ],
   "source": [
    "# Select the top variants\n",
    "N_top = int(interactive_input('Number of top variants to keep', 18))\n",
    "df_average_by_POI = df_average_by_POI.sort_values(by='B_POI', ascending=False).reset_index()\n",
    "df_selected_peptides = df_average_by_POI.loc[0:N_top, ['peptide_name', 'peptide_seq', 'B_POI']]\n",
    "\n",
    "\n",
    "#Save the results\n",
    "print('\\nSuccess!')\n",
    "score_file_path = '/'.join(database_path.split('/')[:-1]) + '/APPRAISE{}_scores_of_all_peptides.csv'.format(str(APPRAISE_version))\n",
    "df_average_by_POI.to_csv(score_file_path)\n",
    "print('\\nThe APPRAISE scores of peptide variants are saved in {}'.format(score_file_path))\n",
    "selected_peptide_list_path = '/'.join(database_path.split('/')[:-1]) + '/APPRAISE{}_selected_top_{}_peptides.csv'.format(str(APPRAISE_version), str(N_top))\n",
    "df_selected_peptides.to_csv(selected_peptide_list_path)\n",
    "print('\\nThe list of selected peptides is saved as {}'.format(selected_peptide_list_path))\n",
    "\n",
    "# Display the results\n",
    "print('\\nHere is the list of selected peptide variants:\\n')\n",
    "df_selected_peptides"
   ]
  },
  {
   "cell_type": "markdown",
   "metadata": {},
   "source": [
    "#### Plot the results"
   ]
  },
  {
   "cell_type": "markdown",
   "metadata": {},
   "source": [
    "The following code block shows an example to create an overview plot of scores of individual models."
   ]
  },
  {
   "cell_type": "code",
   "execution_count": 6,
   "metadata": {},
   "outputs": [
    {
     "data": {
      "image/png": "[encoded data removed]",
      "text/plain": [
       "<Figure size 720x576 with 100 Axes>"
      ]
     },
     "metadata": {},
     "output_type": "display_data"
    }
   ],
   "source": [
    "# Set number of subplots\n",
    "n_rows = 5\n",
    "n_columns = 20\n",
    "\n",
    "# Configure the plot\n",
    "sns.set_style(\"white\")\n",
    "sns.set_context(\"paper\")\n",
    "\n",
    "plt.rcParams[\"figure.figsize\"] = (10, 8)\n",
    "fig, axes = plt.subplots(nrows=n_rows, ncols=n_columns)\n",
    "\n",
    "# Plot each peptide in a subplot\n",
    "for i, peptide_name in enumerate(df_average_by_POI['peptide_name']):\n",
    "    j = i // n_columns\n",
    "    k = i % n_columns\n",
    "    \n",
    "    # Set the y axis display rules depending on the position\n",
    "    if k == 0:\n",
    "        sns.despine(bottom = True, left=False, right=True, ax=axes[j, k])\n",
    "    else:\n",
    "        sns.despine(bottom = True, left=True, right=True, ax=axes[j, k])\n",
    "        axes[j,k].set(yticklabels=[])\n",
    " \n",
    "    # Set coloring -- highlight PHP.B, Dis90, and AAV9\n",
    "    if peptide_name == 'PHP.B':\n",
    "        color_setting = sns.color_palette()[0]\n",
    "    elif peptide_name == 'Dis90':\n",
    "        color_setting = sns.color_palette()[2]\n",
    "    elif peptide_name == 'AAV9':\n",
    "        color_setting = sns.color_palette(\"tab10\")[7]\n",
    "    else:\n",
    "        color_setting = sns.color_palette()[7]\n",
    "    \n",
    "    # Plot the data points\n",
    "    sns.stripplot(ax=axes[j,k], y=\"B_POI\", data=df.loc[df['peptide_name']==peptide_name], color=color_setting)\n",
    "    \n",
    "    # Plot the mean bar\n",
    "    sns.boxplot(ax=axes[j,k], \n",
    "            showmeans=True,\n",
    "            meanline=True,\n",
    "            meanprops={'color': 'k', 'ls': '-', 'lw': 2},\n",
    "            medianprops={'visible': False},\n",
    "            whiskerprops={'visible': False},\n",
    "            zorder=10,\n",
    "            y=\"B_POI\",\n",
    "            data=df.loc[df['peptide_name']==peptide_name],\n",
    "            showfliers=False,\n",
    "            showbox=False,\n",
    "            showcaps=False)\n",
    "    \n",
    "    # Annotate the reads\n",
    "    axes[j, k].annotate(int(np.mean(df.loc[df['peptide_name']==peptide_name, \"B_POI\"])), xy=(0.5, -0.1), xycoords='axes fraction', ha='center', va='center')\n",
    "    #axes[j, k].set_title(variable_name, wrap=True)\n",
    "    axes[j,k].set_ylim(-50, 400)\n",
    "    axes[j,k].set_xlabel('')\n",
    "    axes[j,k].set_ylabel('')\n",
    "    axes[j,k].set(xticklabels=[])\n",
    "   \n",
    "    \n",
    "plt.tight_layout()\n",
    "fig.savefig('/'.join(database_path.split('/')[:-1]) + '/stage_1_results.png', dpi=300)\n"
   ]
  },
  {
   "cell_type": "markdown",
   "metadata": {},
   "source": [
    "## Stage 2 - Pair-wise competition for accurate ranking of top variants"
   ]
  },
  {
   "cell_type": "markdown",
   "metadata": {},
   "source": [
    "### 2.1 - Prepare input fasta files for pooled competition in AlphaFold"
   ]
  },
  {
   "cell_type": "code",
   "execution_count": 1,
   "metadata": {},
   "outputs": [
    {
     "name": "stderr",
     "output_type": "stream",
     "text": [
      "\n",
      "Bad key \"text.kerning_factor\" on line 4 in\n",
      "/anaconda3/lib/python3.6/site-packages/matplotlib/mpl-data/stylelib/_classic_test_patch.mplstyle.\n",
      "You probably need to get an updated matplotlibrc file from\n",
      "https://github.com/matplotlib/matplotlib/blob/v3.1.3/matplotlibrc.template\n",
      "or from the matplotlib source distribution\n"
     ]
    }
   ],
   "source": [
    "# Import necessary modules\n",
    "import appraise\n",
    "from appraise.utilities import *\n",
    "from appraise.input_fasta_prep import *\n",
    "\n",
    "# Make sure the working directory is in the demo folder to avoid issues related to relative paths\n",
    "import os\n",
    "demo_path = '/'.join(os.path.abspath(appraise.__file__).split('/')[:-2]) + '/demo/'\n",
    "os.chdir(demo_path)"
   ]
  },
  {
   "cell_type": "markdown",
   "metadata": {},
   "source": [
    "The peptide sequences should be provided in a .csv table with two columns titled \"peptide_name\" and \"peptide_seq\", respectively.\n",
    "\n",
    "You can find example peptide listes in folde ./sequences_from_the_manuscript. "
   ]
  },
  {
   "cell_type": "markdown",
   "metadata": {},
   "source": [
    "Generate pooled fastas with random grouping 1 (4 variants per group):"
   ]
  },
  {
   "cell_type": "markdown",
   "metadata": {},
   "source": [
    "#### Generate input fasta for pairwise matrix"
   ]
  },
  {
   "cell_type": "code",
   "execution_count": null,
   "metadata": {},
   "outputs": [],
   "source": [
    "# Check if the variable is still in memory\n",
    "if 'selected_peptide_list_path' in globals():\n",
    "    csv_file_path_default = selected_peptide_list_path\n",
    "else:\n",
    "    csv_file_path_default = './demo_AAV_100_screening/stage_1/APPRAISE1.2_selected_top_18_peptides.csv'\n",
    "\n",
    "csv_file_path = interactive_input('csv_file_path',csv_file_path_default) #@param {type:\"string\"}\n",
    "\n",
    "folder_path_for_fastas = interactive_input('folder_path_for_fastas', './demo_AAV_100_screening/stage_2/stage2_input_fasta/')#@param {type:\"string\"}\n",
    "\n",
    "receptor_name = interactive_input('receptor_name', 'Ly6a') #@param {type:\"string\"}\n",
    "\n",
    "receptor_seq = interactive_input('receptor_seq', \"LECYQCYGVPFETSCPSITCPYPDGVCVTQEAAVIVDSQTRKVKNNLCLPICPPNIESMEILGTKVNVKTSCCQEDLCNVAVP\") #@param {type:\"string\"}\n",
    "\n",
    "peptide_names, peptide_seqs = load_peptides(csv_file_path)\n",
    "\n",
    "list_query_sequence, list_jobname = get_complex_fastas(receptor_name, \\\n",
    "                                                        receptor_seq, \\\n",
    "                                                        peptide_names, \\\n",
    "                                                        peptide_seqs, \\\n",
    "                                                        mode = 'pairwise', \\\n",
    "                                                        square_matrix = True, \\\n",
    "                                                        folder_path = folder_path_for_fastas)"
   ]
  },
  {
   "cell_type": "markdown",
   "metadata": {},
   "source": [
    "### 2.2 - Run structural prediction"
   ]
  },
  {
   "cell_type": "markdown",
   "metadata": {},
   "source": [
    "The structures can be modeled using AlphaFold2-multimer or other state-of-the-art structure-prediction tools. \n",
    "\n",
    "For easy access to AlphaFold2-multimer, we suggest using ColabFold, an integrated implementation of multiple sequence alignment and AlphaFold (Mirdita M, Schütze K, Moriwaki Y, Heo L, Ovchinnikov S and Steinegger M. ColabFold: Making protein folding accessible to all., Nature Methods (2022) doi: 10.1038/s41592-022-01488-1)."
   ]
  },
  {
   "cell_type": "markdown",
   "metadata": {},
   "source": [
    "To use the ColabFold notebook, you can make a copy of [the ColabFold-batch notebook](https://github.com/sokrypton/ColabFold/blob/main/batch/AlphaFold2_batch.ipynb) to a Google account, upload fasta files to the input folder, and hit \"run all\" in the Colab notebook.  Suggested settings:\n",
    "\n",
    "```\n",
    "\n",
    "msa_mode = MMseqs2 (UniRef+Environmental)\n",
    "\n",
    "num_models = 5\n",
    "\n",
    "num_recycles = 3\n",
    "\n",
    "stop_at_score = 100\n",
    "\n",
    "use_amber = False\n",
    "\n",
    "use_templates = True\n",
    "\n",
    "do_not_overwrite_results = False\n",
    "\n",
    "zip_results = False\n",
    "```\n"
   ]
  },
  {
   "cell_type": "markdown",
   "metadata": {},
   "source": [
    "Note: Google encourages interactive usage of Colab and they may limit usage of GPU for long runs. Empirically, we suggest running < 20 fasta files at a time for free users and < 100 fasta files at a time for Colab Pro Plus users.\n",
    "\n",
    "If your session is terminated in the middle, You can delete the input fasta files for the models that were already finished and restart the session to continue with the rest. Sometimes you may need to wait for hours to regain access to a GPU session."
   ]
  },
  {
   "cell_type": "markdown",
   "metadata": {},
   "source": [
    "### 2.3 - Quantify the structure models"
   ]
  },
  {
   "cell_type": "markdown",
   "metadata": {},
   "source": [
    "The PyMOL script appraise/pymol_quantify_peptide_binding.py will analyze the pdb files in a folder and generate a csv file containing all measurements in parent folder of the pdb results folder. \n",
    "\n",
    "*Note: If you did not use ColabFold for the modeling, the file names of the models need to be changed to the following format, where the bracketed part can be any filler string with a total length of 14 characters:*\n",
    "```\n",
    "'ReceptorName_and_Peptide1Name_vs_Peptide2Name_vs_..._vs_PeptideNName_unrelaxed_[14Characters].pdb'\n",
    "```\n",
    "\n",
    "#### Option 1: Run the quantification script in **pymol prompt**\n",
    "\n",
    "In PyMOL, use the following lines (the can be adjusted):\n",
    "\n",
    "```\n",
    "# Load the script (replace \"/path/to/APPRAISE\" with the actual path)\n",
    "run /path/to/APPRAISE/appraise/pymol_quantify_peptide_binding.py\n",
    "\n",
    "# Call the quantification function (change the parameters as needed)\n",
    "quantify_binding('path_to_results_folder/', use_relaxed=False, time_stamp=True, mod_start_resi=3, mod_end_resi=9, pLDDT_threshold=0, membrane_anchor_site='C-term')\n",
    "```\n",
    "\n",
    "*Note: The script will take a few minutes to run, and the PyMOL GUI might be frozen while the script is running, which is normal.*"
   ]
  },
  {
   "cell_type": "markdown",
   "metadata": {},
   "source": [
    "#### Option 2: Run the quantification script in **terminal** or **JuPyter notebook**. \n",
    "\n",
    "*Note: Currently you can only run the script outside PyMOL with default parameters. If you need to change the parameters for the quantification function, use Option 1 instead.*\n",
    "\n",
    "The pymol script can also be launched from the terminal (https://www.pymolwiki.org/index.php/Launching_From_a_Script). \n",
    "\n",
    "General syntax:"
   ]
  },
  {
   "cell_type": "markdown",
   "metadata": {},
   "source": [
    "\n",
    "```\n",
    "pymol -cq /path/to/APPRAISE/appraise/pymol_quantify_peptide_binding.py /path/to/results/folder/\n",
    "```"
   ]
  },
  {
   "cell_type": "markdown",
   "metadata": {},
   "source": [
    "You will need to replace \"/path/to/APPRAISE/\" with the actual path. You might also need to change \"pymol\" to the actual location of the executable, depending on your operation system and PyMOL release."
   ]
  },
  {
   "cell_type": "markdown",
   "metadata": {},
   "source": [
    "For example, MacOS users using PyMOL provided by Schrödinger can run the box below. (The modeling results need to be stored in ./demo_AAV_100_screening/stage_2/stage_2_alphafold_modeling_results/) "
   ]
  },
  {
   "cell_type": "code",
   "execution_count": null,
   "metadata": {},
   "outputs": [],
   "source": [
    "# Make sure the working directory is in the demo folder to avoid issues related to relative paths\n",
    "import appraise\n",
    "import os\n",
    "demo_path = '/'.join(os.path.abspath(appraise.__file__).split('/')[:-2]) + '/demo/'\n",
    "os.chdir(demo_path)\n",
    "\n",
    "# Execute the PyMOL script in terminal\n",
    "!/Applications/PyMOL.app/Contents/MacOS/PyMOL -cq ../appraise/pymol_quantify_peptide_binding.py ./demo_AAV_100_screening/stage_2/stage_2_alphafold_modeling_results/"
   ]
  },
  {
   "cell_type": "markdown",
   "metadata": {},
   "source": [
    "### 2.4 - Analyze the pair-wise-competition results"
   ]
  },
  {
   "cell_type": "code",
   "execution_count": 3,
   "metadata": {},
   "outputs": [],
   "source": [
    "# Import common packages\n",
    "import numpy as np\n",
    "import pandas as pd\n",
    "import matplotlib.pyplot as plt\n",
    "import seaborn as sns\n",
    "\n",
    "# Import necessary APPRAISE modules\n",
    "import appraise\n",
    "from appraise.utilities import *\n",
    "from appraise.score_calculation import *\n",
    "\n",
    "# Make sure the working directory is in the demo folder to avoid issues related to relative paths\n",
    "import os\n",
    "demo_path = '/'.join(os.path.abspath(appraise.__file__).split('/')[:-2]) + '/demo/'\n",
    "os.chdir(demo_path)"
   ]
  },
  {
   "cell_type": "markdown",
   "metadata": {},
   "source": [
    "#### Load the measurements"
   ]
  },
  {
   "cell_type": "markdown",
   "metadata": {},
   "source": [
    "Use the following block to load the .csv file generated by the PyMOL script. \n",
    "\n",
    "An example measurements is also available in the demo."
   ]
  },
  {
   "cell_type": "code",
   "execution_count": 4,
   "metadata": {},
   "outputs": [
    {
     "name": "stdout",
     "output_type": "stream",
     "text": [
      "Default Path to database file (*.csv) is [./demo_AAV_100_screening/stage_2/database_APPRAISE_measurements_stage_2_example.csv], need to change? Provide new value or hit Enter to use default\n"
     ]
    },
    {
     "name": "stdin",
     "output_type": "stream",
     "text": [
      ">  \n"
     ]
    },
    {
     "name": "stdout",
     "output_type": "stream",
     "text": [
      "Default Receptor of interest (need to match the name in input fasta file names) is [Ly6a], need to change? Provide new value or hit Enter to use default\n"
     ]
    },
    {
     "name": "stdin",
     "output_type": "stream",
     "text": [
      ">  \n"
     ]
    },
    {
     "name": "stdout",
     "output_type": "stream",
     "text": [
      "Default R_minor of the receptor is [13.4], need to change? Provide new value or hit Enter to use default\n"
     ]
    },
    {
     "name": "stdin",
     "output_type": "stream",
     "text": [
      ">  \n"
     ]
    },
    {
     "name": "stdout",
     "output_type": "stream",
     "text": [
      "Default Version of APPRAISE to use is [1.2], need to change? Provide new value or hit Enter to use default\n"
     ]
    },
    {
     "name": "stdin",
     "output_type": "stream",
     "text": [
      ">  \n"
     ]
    },
    {
     "name": "stdout",
     "output_type": "stream",
     "text": [
      "\n",
      "A database with 18 peptides is successfully loaded! \n",
      "\n",
      "\n",
      "Quality check: \n",
      " The following plot shows the number of models for each peptide variant in the database. \n",
      " You should expect to see an equal number of models in all variants. \n",
      " If the numbers are not equal, there might some models missing during structure prediction or quantification. You can still proceed with the risk of getting biased rankings.\n",
      " Double click on the plot to Zoom in. \n"
     ]
    },
    {
     "data": {
      "image/png": "[encoded data removed]",
      "text/plain": [
       "<Figure size 1944x216 with 1 Axes>"
      ]
     },
     "metadata": {
      "needs_background": "light"
     },
     "output_type": "display_data"
    }
   ],
   "source": [
    "# Get the settings\n",
    "database_path = interactive_input('Path to database file (*.csv)','./demo_AAV_100_screening/stage_2/database_APPRAISE_measurements_stage_2_example.csv')\n",
    "receptor_of_interest = interactive_input('Receptor of interest (need to match the name in input fasta file names)', 'Ly6a')\n",
    "receptor_Rminor = float(interactive_input('R_minor of the receptor', 13.4))\n",
    "APPRAISE_version = float(interactive_input('Version of APPRAISE to use', 1.2))\n",
    "\n",
    "# Read and calculate scores\n",
    "df = pd.read_csv(database_path)\n",
    "df = df.loc[df['receptor_name'] == receptor_of_interest].copy()\n",
    "df['receptor_Rminor'] = receptor_Rminor\n",
    "list_peptide_names, list_peptide_seqs = get_peptide_list_from_model_names(df)\n",
    "print('\\nA database with {} peptides is successfully loaded! \\n'.format(len(list_peptide_names)))\n",
    "\n",
    "# Quality check\n",
    "print('\\nQuality check: \\n \\\n",
    "The following plot shows the number of models for each peptide variant in the database. \\n \\\n",
    "You should expect to see an equal number of models in all variants. \\n \\\n",
    "If the numbers are not equal, there might some models missing during structure prediction or quantification. You can still proceed with the risk of getting biased rankings.\\n \\\n",
    "Double click on the plot to Zoom in. ')\n",
    "\n",
    "plt.rcParams[\"figure.figsize\"] = (len(list_peptide_names)*1.5, 3)\n",
    "sns.histplot(df, x='peptide_name')\n",
    "plt.tight_layout()"
   ]
  },
  {
   "cell_type": "markdown",
   "metadata": {},
   "source": [
    "#### Rank by average relative binding score ($\\overline{\\Delta B}_2^{POI, competitor}$)"
   ]
  },
  {
   "cell_type": "markdown",
   "metadata": {},
   "source": [
    "Calculate the individual binding score in each individual competition ($\\Delta B_2^{POI, competitor}$):"
   ]
  },
  {
   "cell_type": "code",
   "execution_count": 5,
   "metadata": {},
   "outputs": [
    {
     "data": {
      "text/html": [
       "<div>\n",
       "<style scoped>\n",
       "    .dataframe tbody tr th:only-of-type {\n",
       "        vertical-align: middle;\n",
       "    }\n",
       "\n",
       "    .dataframe tbody tr th {\n",
       "        vertical-align: top;\n",
       "    }\n",
       "\n",
       "    .dataframe thead th {\n",
       "        text-align: right;\n",
       "    }\n",
       "</style>\n",
       "<table border=\"1\" class=\"dataframe\">\n",
       "  <thead>\n",
       "    <tr style=\"text-align: right;\">\n",
       "      <th></th>\n",
       "      <th>peptide_name</th>\n",
       "      <th>competitor</th>\n",
       "      <th>Delta_B</th>\n",
       "    </tr>\n",
       "  </thead>\n",
       "  <tbody>\n",
       "    <tr>\n",
       "      <th>52</th>\n",
       "      <td>SRK-39</td>\n",
       "      <td>SRK-39</td>\n",
       "      <td>-214.645405</td>\n",
       "    </tr>\n",
       "    <tr>\n",
       "      <th>53</th>\n",
       "      <td>SRK-39</td>\n",
       "      <td>SRK-39</td>\n",
       "      <td>299.645405</td>\n",
       "    </tr>\n",
       "    <tr>\n",
       "      <th>232</th>\n",
       "      <td>SRK-39</td>\n",
       "      <td>SRK-39</td>\n",
       "      <td>78.998475</td>\n",
       "    </tr>\n",
       "    <tr>\n",
       "      <th>233</th>\n",
       "      <td>SRK-39</td>\n",
       "      <td>SRK-39</td>\n",
       "      <td>-55.998479</td>\n",
       "    </tr>\n",
       "    <tr>\n",
       "      <th>1166</th>\n",
       "      <td>SRK-39</td>\n",
       "      <td>SRK-39</td>\n",
       "      <td>60.031615</td>\n",
       "    </tr>\n",
       "    <tr>\n",
       "      <th>...</th>\n",
       "      <td>...</td>\n",
       "      <td>...</td>\n",
       "      <td>...</td>\n",
       "    </tr>\n",
       "    <tr>\n",
       "      <th>2219</th>\n",
       "      <td>SRK-53</td>\n",
       "      <td>SRK-53</td>\n",
       "      <td>-36.640295</td>\n",
       "    </tr>\n",
       "    <tr>\n",
       "      <th>2544</th>\n",
       "      <td>SRK-53</td>\n",
       "      <td>SRK-53</td>\n",
       "      <td>189.028873</td>\n",
       "    </tr>\n",
       "    <tr>\n",
       "      <th>2545</th>\n",
       "      <td>SRK-53</td>\n",
       "      <td>SRK-53</td>\n",
       "      <td>-170.028875</td>\n",
       "    </tr>\n",
       "    <tr>\n",
       "      <th>2606</th>\n",
       "      <td>SRK-53</td>\n",
       "      <td>SRK-53</td>\n",
       "      <td>-227.352124</td>\n",
       "    </tr>\n",
       "    <tr>\n",
       "      <th>2607</th>\n",
       "      <td>SRK-53</td>\n",
       "      <td>SRK-53</td>\n",
       "      <td>304.352120</td>\n",
       "    </tr>\n",
       "  </tbody>\n",
       "</table>\n",
       "<p>3240 rows × 3 columns</p>\n",
       "</div>"
      ],
      "text/plain": [
       "     peptide_name competitor     Delta_B\n",
       "52         SRK-39     SRK-39 -214.645405\n",
       "53         SRK-39     SRK-39  299.645405\n",
       "232        SRK-39     SRK-39   78.998475\n",
       "233        SRK-39     SRK-39  -55.998479\n",
       "1166       SRK-39     SRK-39   60.031615\n",
       "...           ...        ...         ...\n",
       "2219       SRK-53     SRK-53  -36.640295\n",
       "2544       SRK-53     SRK-53  189.028873\n",
       "2545       SRK-53     SRK-53 -170.028875\n",
       "2606       SRK-53     SRK-53 -227.352124\n",
       "2607       SRK-53     SRK-53  304.352120\n",
       "\n",
       "[3240 rows x 3 columns]"
      ]
     },
     "execution_count": 5,
     "metadata": {},
     "output_type": "execute_result"
    }
   ],
   "source": [
    "# Get a dataframe that is sorted pair-wise\n",
    "df_pairwise_sorted = sort_df_by_peptides_and_cleanup(df, list_peptide_names)\n",
    "\n",
    "# Calculate the pair-wise scores\n",
    "df_pairwise_sorted = calculate_scores(df_pairwise_sorted, version=APPRAISE_version, depth_constraint=True)\n",
    "df_pairwise_sorted[['peptide_name','competitor','Delta_B']]"
   ]
  },
  {
   "cell_type": "markdown",
   "metadata": {},
   "source": [
    "Get the mean binding scores ($\\overline{\\Delta B}_2^{POI, competitor}$)"
   ]
  },
  {
   "cell_type": "code",
   "execution_count": 6,
   "metadata": {},
   "outputs": [
    {
     "data": {
      "text/html": [
       "<div>\n",
       "<style scoped>\n",
       "    .dataframe tbody tr th:only-of-type {\n",
       "        vertical-align: middle;\n",
       "    }\n",
       "\n",
       "    .dataframe tbody tr th {\n",
       "        vertical-align: top;\n",
       "    }\n",
       "\n",
       "    .dataframe thead th {\n",
       "        text-align: right;\n",
       "    }\n",
       "</style>\n",
       "<table border=\"1\" class=\"dataframe\">\n",
       "  <thead>\n",
       "    <tr style=\"text-align: right;\">\n",
       "      <th></th>\n",
       "      <th>peptide_name</th>\n",
       "      <th>competitor</th>\n",
       "      <th>Delta_B</th>\n",
       "    </tr>\n",
       "  </thead>\n",
       "  <tbody>\n",
       "    <tr>\n",
       "      <th>0</th>\n",
       "      <td>SRK-39</td>\n",
       "      <td>SRK-39</td>\n",
       "      <td>21.599999</td>\n",
       "    </tr>\n",
       "    <tr>\n",
       "      <th>1</th>\n",
       "      <td>SRK-39</td>\n",
       "      <td>PHP.B</td>\n",
       "      <td>2.866828</td>\n",
       "    </tr>\n",
       "    <tr>\n",
       "      <th>2</th>\n",
       "      <td>SRK-39</td>\n",
       "      <td>SRK-38</td>\n",
       "      <td>82.565849</td>\n",
       "    </tr>\n",
       "    <tr>\n",
       "      <th>3</th>\n",
       "      <td>SRK-39</td>\n",
       "      <td>SRK-17</td>\n",
       "      <td>97.845360</td>\n",
       "    </tr>\n",
       "    <tr>\n",
       "      <th>4</th>\n",
       "      <td>SRK-39</td>\n",
       "      <td>Dis90</td>\n",
       "      <td>28.574150</td>\n",
       "    </tr>\n",
       "    <tr>\n",
       "      <th>...</th>\n",
       "      <td>...</td>\n",
       "      <td>...</td>\n",
       "      <td>...</td>\n",
       "    </tr>\n",
       "    <tr>\n",
       "      <th>319</th>\n",
       "      <td>SRK-53</td>\n",
       "      <td>SRK-64</td>\n",
       "      <td>29.283119</td>\n",
       "    </tr>\n",
       "    <tr>\n",
       "      <th>320</th>\n",
       "      <td>SRK-53</td>\n",
       "      <td>SRK-78</td>\n",
       "      <td>40.857032</td>\n",
       "    </tr>\n",
       "    <tr>\n",
       "      <th>321</th>\n",
       "      <td>SRK-53</td>\n",
       "      <td>SRK-61</td>\n",
       "      <td>13.331340</td>\n",
       "    </tr>\n",
       "    <tr>\n",
       "      <th>322</th>\n",
       "      <td>SRK-53</td>\n",
       "      <td>SRK-74</td>\n",
       "      <td>17.487201</td>\n",
       "    </tr>\n",
       "    <tr>\n",
       "      <th>323</th>\n",
       "      <td>SRK-53</td>\n",
       "      <td>SRK-53</td>\n",
       "      <td>15.700000</td>\n",
       "    </tr>\n",
       "  </tbody>\n",
       "</table>\n",
       "<p>324 rows × 3 columns</p>\n",
       "</div>"
      ],
      "text/plain": [
       "    peptide_name competitor    Delta_B\n",
       "0         SRK-39     SRK-39  21.599999\n",
       "1         SRK-39      PHP.B   2.866828\n",
       "2         SRK-39     SRK-38  82.565849\n",
       "3         SRK-39     SRK-17  97.845360\n",
       "4         SRK-39      Dis90  28.574150\n",
       "..           ...        ...        ...\n",
       "319       SRK-53     SRK-64  29.283119\n",
       "320       SRK-53     SRK-78  40.857032\n",
       "321       SRK-53     SRK-61  13.331340\n",
       "322       SRK-53     SRK-74  17.487201\n",
       "323       SRK-53     SRK-53  15.700000\n",
       "\n",
       "[324 rows x 3 columns]"
      ]
     },
     "execution_count": 6,
     "metadata": {},
     "output_type": "execute_result"
    }
   ],
   "source": [
    "# Sort the peptides\n",
    "df_pairwise_average = df_pairwise_sorted.groupby(by=['peptide_name','competitor','peptide_seq']).mean().dropna(subset=['Delta_B']).reset_index()\n",
    "df_pairwise_average[['peptide_name','competitor','Delta_B']]"
   ]
  },
  {
   "cell_type": "markdown",
   "metadata": {},
   "source": [
    "Run the following code block to get a the absolute binding scores of the variants and a list of top peptides that can be used for stage 2.\n",
    "\n",
    "The results will be saved in the save directory as the database."
   ]
  },
  {
   "cell_type": "code",
   "execution_count": 9,
   "metadata": {},
   "outputs": [
    {
     "name": "stdout",
     "output_type": "stream",
     "text": [
      "Used p-value threshold of 0.100\n",
      "Tie threshold to be 1.64 of standard deviation: 43.38\n"
     ]
    },
    {
     "data": {
      "image/png": "[encoded data removed]",
      "text/plain": [
       "<Figure size 518.4x518.4 with 2 Axes>"
      ]
     },
     "metadata": {},
     "output_type": "display_data"
    }
   ],
   "source": [
    "list_peptide_order, _ = plot_heatmap(df_pairwise_average, feature_of_interest='Delta_B', title='APPRAISE 1.2 ranking', rank_by_tournament=True, p_value_threshold=0.1, save_figure=False)\n",
    "heatmap_figure_path = '/'.join(database_path.split('/')[:-1]) + '/{}_ranked_by_{}.png'.format(receptor_of_interest, 'Delta_B')\n",
    "plt.savefig(heatmap_figure_path, bbox_inches = 'tight', dpi=300)"
   ]
  },
  {
   "cell_type": "code",
   "execution_count": 15,
   "metadata": {},
   "outputs": [
    {
     "name": "stdout",
     "output_type": "stream",
     "text": [
      "APPRAISE analysis finished!\n",
      "The final ranking is: ['Dis90', 'SRK-39', 'SRK-38', 'SRK-50', 'SRK-74', 'PHP.B', 'SRK-17', 'SRK-42', 'SRK-61', 'SRK-53', 'SRK-28', 'SRK-8', 'SRK-78', 'SRK-30', 'SRK-64', 'SRK-24', 'SRK-93', 'SRK-90']\n",
      "The heatmap is saved as ./demo_AAV_100_screening/stage_2/Ly6a_ranked_by_Delta_B.png\n"
     ]
    }
   ],
   "source": [
    "print('APPRAISE analysis finished!')\n",
    "print('The final ranking is: {}'.format(list_peptide_order))\n",
    "print('The heatmap is saved as {}'.format(heatmap_figure_path))"
   ]
  }
 ],
 "metadata": {
  "kernelspec": {
   "display_name": "Python 3",
   "language": "python",
   "name": "python3"
  },
  "language_info": {
   "codemirror_mode": {
    "name": "ipython",
    "version": 3
   },
   "file_extension": ".py",
   "mimetype": "text/x-python",
   "name": "python",
   "nbconvert_exporter": "python",
   "pygments_lexer": "ipython3",
   "version": "3.6.10"
  }
 },
 "nbformat": 4,
 "nbformat_minor": 4
}
