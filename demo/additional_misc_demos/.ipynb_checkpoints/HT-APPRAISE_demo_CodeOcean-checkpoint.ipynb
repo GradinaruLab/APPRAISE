{
 "cells": [
  {
   "cell_type": "markdown",
   "metadata": {},
   "source": [
    "# Demo notebook for APPRAISE"
   ]
  },
  {
   "cell_type": "markdown",
   "metadata": {},
   "source": [
    "Author: Xiaozhe Ding\n",
    "\n",
    "Email: xding@caltech.edu, dingxiaozhe@gmail.com"
   ]
  },
  {
   "cell_type": "markdown",
   "metadata": {},
   "source": [
    "## Introduction"
   ]
  },
  {
   "cell_type": "markdown",
   "metadata": {},
   "source": [
    "In this demo, we'll use APPRAISE to screen a library made of 100 AAV9-based variants for their binding propensities to LY6A receptor, as described in Fig.3 of *Ding et al.*. (Note that variant *PHP.D* from the manuscript is nicknamed *Dis90* in this demo)\n",
    "\n",
    "![workflow](./Workflow.png)\n",
    "\n",
    "Please read the instruction above each executable box and determine which ones you need to execute and the modifications you need to make."
   ]
  },
  {
   "cell_type": "markdown",
   "metadata": {},
   "source": [
    "## Stage 0 - Environment preparation"
   ]
  },
  {
   "cell_type": "markdown",
   "metadata": {},
   "source": [
    "#### Check the environment\n",
    "\n",
    "APPRAISE 1.2 was tested with the following environment. We suggest using versions equal or higher than these for optimal compatibility:\n",
    "\n",
    "For input file preparation and data analysis:\n",
    "\n",
    " - MacOS 10.14.6\n",
    "\n",
    " - Python 3.6.10\n",
    "\n",
    " - PyMOL 2.3.3 (Schrodinger LLC.)\n",
    "\n",
    " - Python packages: \n",
    " \n",
    "    - scipy 1.4.1\n",
    "\n",
    "    - numpy 1.18.2\n",
    "\n",
    "    - pandas 1.1.5\n",
    "\n",
    "    - matplotlib 3.2.1\n",
    "\n",
    "    - seaborn 0.11.2\n",
    "\n",
    "For structural modeling:\n",
    "\n",
    "- slphafold-colabfold 2.1.14 (Accessed using Google Colaboratory. Notebook available [here](https://github.com/sokrypton/ColabFold))\n",
    "    - AlphaFold model version: AlphaFold-multimer-v2\n"
   ]
  },
  {
   "cell_type": "markdown",
   "metadata": {},
   "source": [
    "#### APPRAISE package\n",
    "\n",
    "If you haven't install the appraise package, run the following box in the notebook to install the package. ***You'll need to restart the kernal after installation***. \n",
    "\n",
    "Skip this block if the package had already been installed."
   ]
  },
  {
   "cell_type": "code",
   "execution_count": null,
   "metadata": {},
   "outputs": [],
   "source": [
    "!pip install appraise"
   ]
  },
  {
   "cell_type": "markdown",
   "metadata": {},
   "source": [
    "## Stage 1 - Pooled selection"
   ]
  },
  {
   "cell_type": "markdown",
   "metadata": {},
   "source": [
    "### 1.1 - Prepare input fasta files for pooled competition in AlphaFold"
   ]
  },
  {
   "cell_type": "code",
   "execution_count": 3,
   "metadata": {},
   "outputs": [
    {
     "name": "stderr",
     "output_type": "stream",
     "text": [
      "\n",
      "Bad key \"text.kerning_factor\" on line 4 in\n",
      "/anaconda3/lib/python3.6/site-packages/matplotlib/mpl-data/stylelib/_classic_test_patch.mplstyle.\n",
      "You probably need to get an updated matplotlibrc file from\n",
      "https://github.com/matplotlib/matplotlib/blob/v3.1.3/matplotlibrc.template\n",
      "or from the matplotlib source distribution\n"
     ]
    }
   ],
   "source": [
    "# Import necessary modules\n",
    "import appraise\n",
    "from appraise.utilities import *\n",
    "from appraise.input_fasta_prep import *"
   ]
  },
  {
   "cell_type": "markdown",
   "metadata": {},
   "source": [
    "The peptide sequences should be provided in a .csv table with two columns titled \"peptide_name\" and \"peptide_seq\", respectively.\n",
    "\n",
    "You can find example peptide listes in folder ./data/manuscript_example_sequences. "
   ]
  },
  {
   "cell_type": "markdown",
   "metadata": {},
   "source": [
    "Generate pooled fastas with random grouping 1 (4 variants per group):"
   ]
  },
  {
   "cell_type": "code",
   "execution_count": null,
   "metadata": {},
   "outputs": [],
   "source": [
    "csv_file_path = interactive_input('csv_file_path','./demo_100AAV_screening/stage_1/AAV_mock_selection_100_peptide_list.csv')\n",
    "\n",
    "folder_path_for_fastas = interactive_input('folder_path_for_fastas', '/results/demo_100AAV_screening/stage_1/demo_stage_1_grouping_1_input_fasta_for_colabfold/')\n",
    "\n",
    "receptor_name = interactive_input('receptor_name', 'Ly6a')\n",
    "\n",
    "receptor_seq = interactive_input('receptor_seq', \"LECYQCYGVPFETSCPSITCPYPDGVCVTQEAAVIVDSQTRKVKNNLCLPICPPNIESMEILGTKVNVKTSCCQEDLCNVAVP\")\n",
    "\n",
    "pool_size = interactive_input('pool_size', 4)\n",
    "\n",
    "peptide_names, peptide_seqs = load_peptides(csv_file_path)\n",
    "\n",
    "list_query_sequence, list_jobname = get_complex_fastas(receptor_name, \\\n",
    "                                                                        receptor_seq,\n",
    "                                                                        peptide_names, \\\n",
    "                                                                        peptide_seqs, \\\n",
    "                                                                        mode = 'pooled', \\\n",
    "                                                                        pool_size = pool_size,\\\n",
    "                                                                        folder_path = folder_path_for_fastas)"
   ]
  },
  {
   "cell_type": "markdown",
   "metadata": {},
   "source": [
    "Generate pooled fastas with random grouping 2 (4 variants per group):"
   ]
  },
  {
   "cell_type": "code",
   "execution_count": null,
   "metadata": {},
   "outputs": [],
   "source": [
    "csv_file_path = interactive_input('csv_file_path','./demo_100AAV_screening/stage_1/AAV_mock_selection_100_peptide_list.csv')\n",
    "\n",
    "folder_path_for_fastas = interactive_input('folder_path_for_fastas', '/results/demo_100AAV_screening/stage_1/demo_stage_1_grouping_2_input_fasta_for_colabfold/')\n",
    "\n",
    "receptor_name = interactive_input('receptor_name', 'Ly6a')\n",
    "\n",
    "receptor_seq = interactive_input('receptor_seq', \"LECYQCYGVPFETSCPSITCPYPDGVCVTQEAAVIVDSQTRKVKNNLCLPICPPNIESMEILGTKVNVKTSCCQEDLCNVAVP\")\n",
    "\n",
    "pool_size = interactive_input('pool_size', 4)\n",
    "\n",
    "peptide_names, peptide_seqs = load_peptides(csv_file_path)\n",
    "\n",
    "list_query_sequence, list_jobname = get_complex_fastas(receptor_name, \\\n",
    "                                                                        receptor_seq,\n",
    "                                                                        peptide_names, \\\n",
    "                                                                        peptide_seqs, \\\n",
    "                                                                        mode = 'pooled', \\\n",
    "                                                                        pool_size = pool_size,\\\n",
    "                                                                        folder_path = folder_path_for_fastas)"
   ]
  },
  {
   "cell_type": "markdown",
   "metadata": {},
   "source": [
    "### 1.2 - Run structural prediction"
   ]
  },
  {
   "cell_type": "markdown",
   "metadata": {},
   "source": [
    "***Demo instruction: This step is the rate-limiting step. You can skip to step 1.4 using a provided sample table instead.***\n",
    "\n",
    "The structures can be modeled using AlphaFold2-multimer or other state-of-the-art structure-prediction tools. \n",
    "\n",
    "For easy access to AlphaFold2-multimer, we suggest using ColabFold, an integrated implementation of multiple sequence alignment and AlphaFold (Mirdita M, Schütze K, Moriwaki Y, Heo L, Ovchinnikov S and Steinegger M. ColabFold: Making protein folding accessible to all., Nature Methods (2022) doi: 10.1038/s41592-022-01488-1)."
   ]
  },
  {
   "cell_type": "markdown",
   "metadata": {},
   "source": [
    "To use the ColabFold notebook, you can make a copy of [the ColabFold-batch notebook](https://github.com/sokrypton/ColabFold/blob/main/batch/AlphaFold2_batch.ipynb) to a Google account, upload fasta files to the input folder, and hit \"run all\" in the Colab notebook.  Suggested settings:\n",
    "\n",
    "```\n",
    "\n",
    "msa_mode = MMseqs2 (UniRef+Environmental)\n",
    "\n",
    "num_models = 5\n",
    "\n",
    "num_recycles = 3\n",
    "\n",
    "stop_at_score = 100\n",
    "\n",
    "use_amber = False\n",
    "\n",
    "use_templates = True\n",
    "\n",
    "do_not_overwrite_results = False\n",
    "\n",
    "zip_results = False\n",
    "\n",
    "model_type = \"auto\" #In colabfold 2.1.14, AlphaFold2-multimer-v2 is used by default.\n",
    "\n",
    "```\n"
   ]
  },
  {
   "cell_type": "markdown",
   "metadata": {},
   "source": [
    "Note: \n",
    "\n",
    "1. Run the following line in a new cell in your ColabFold notebook and take a note on what GPU model is being used in the Colab session. This will be helpful when you need to reproduce the modeling results. We found that using the same GPU gives the most consistent (near-deterministic) modeling results.\n",
    "\n",
    "```\n",
    "!nvidia-smi\n",
    "```\n",
    "\n",
    "2. If you wish to use another version of AlphaFold model (e.g., AlphaFold2-multimer-v1) in the Colab batch notebook, you will need to make two modifications manually. First, copy the lines below and paste it to the top of the \"Run prediction\" block so that the notebook can download the correct parameters. Second, change the \"model_type\" argument in the line with \"run(...)\" in the \"Run prediction\" block to the desired model type.\n",
    "```\n",
    "# Force to download for the appropriate model type\n",
    "model_type = \"AlphaFold2-multimer-v1\" #See ColabFold documentation for other available model types\n",
    "from colabfold.download import download_alphafold_params\n",
    "from pathlib import Path\n",
    "download_alphafold_params(model_type, Path(\"/root/.cache/colabfold/\"))\n",
    "```\n",
    "\n",
    "If your session is terminated in the middle, You can delete the input fasta files for the models that were already finished and restart the session to continue with the rest. Sometimes you may need to wait for hours to regain access to a GPU session."
   ]
  },
  {
   "cell_type": "markdown",
   "metadata": {},
   "source": [
    "### 1.3 - Quantify the structure models"
   ]
  },
  {
   "cell_type": "markdown",
   "metadata": {},
   "source": [
    "***Demo instruction: Modeled structures from step 1.2 are needed for this step. If you don't have the structure models yet, you can skip to step 2.4 using a provided sample table.***\n",
    "\n",
    "The PyMOL script appraise/pymol_quantify_peptide_binding.py will analyze the pdb files in a folder and generate a csv file containing all measurements in parent folder of the pdb results folder. \n",
    "\n",
    "*Note: If you did not use ColabFold for the modeling, the file names of the models need to be changed to the following format, where the bracketed part can be any filler string with a total length of 14 characters:*\n",
    "```\n",
    "'ReceptorName_and_Peptide1Name_vs_Peptide2Name_vs_..._vs_PeptideNName_unrelaxed_[14Characters].pdb'\n",
    "```\n",
    "\n",
    "#### Option 1: Run the quantification script in **pymol prompt**\n",
    "\n",
    "In PyMOL, use the following lines (the can be adjusted):\n",
    "\n",
    "```\n",
    "# Load the script (replace \"/path/to/APPRAISE\" with the actual path)\n",
    "run /path/to/APPRAISE/appraise/pymol_quantify_peptide_binding.py\n",
    "\n",
    "# Call the quantification function (change the parameters as needed)\n",
    "quantify_binding('path_to_results_folder/', use_relaxed=False, time_stamp=True, mod_start_resi=3, mod_end_resi=9, pLDDT_threshold=0, membrane_anchor_site='C-term')\n",
    "```\n",
    "\n",
    "*Note: The script will take a few minutes to run, and the PyMOL GUI might be frozen while the script is running, which is normal.*"
   ]
  },
  {
   "cell_type": "markdown",
   "metadata": {},
   "source": [
    "#### Option 2: Run the quantification script in **terminal** or **JuPyter notebook**. \n",
    "\n",
    "*Note: Currently you can run the script outside PyMOL only with default parameters. If you need to change the parameters for the quantification function, use Option 1 instead.*\n",
    "\n",
    "The pymol script can also be launched from the terminal (https://www.pymolwiki.org/index.php/Launching_From_a_Script). \n",
    "\n",
    "General syntax:"
   ]
  },
  {
   "cell_type": "markdown",
   "metadata": {},
   "source": [
    "```\n",
    "pymol -cq /path/to/APPRAISE/appraise/pymol_quantify_peptide_binding.py /path/to/results/folder/ /output/path/\n",
    "```"
   ]
  },
  {
   "cell_type": "markdown",
   "metadata": {},
   "source": [
    "You will need to replace \"/path/to/APPRAISE\" with the actual path. You might also need to change \"pymol\" to the actual location of the executable, depending on your operation system and PyMOL release."
   ]
  },
  {
   "cell_type": "markdown",
   "metadata": {},
   "source": [
    "For demo purpose, you can run the following cells to quantify a part of the modeling results from step 1.2.\n",
    "\n",
    "*Due to file size limit, we only included partial results from step 1.2. A copy of previously prepared full quantifications result (./demo_100AAV_screening/stage_1/database_APPRAISE_measurements_stage_1_example.csv) is included in the demo folder for step 1.4 and the following steps.*"
   ]
  },
  {
   "cell_type": "code",
   "execution_count": null,
   "metadata": {},
   "outputs": [],
   "source": [
    "# Execute the PyMOL script\n",
    "!/pymol/pymol -cq ../appraise/pymol_quantify_peptide_binding.py ./demo_100AAV_screening/stage_1/stage_1_alphafold_modeling_partial_results/ /results/demo_100AAV_screening/stage_1/"
   ]
  },
  {
   "cell_type": "markdown",
   "metadata": {},
   "source": [
    "### 1.4 - Analyze the pooled_competition results"
   ]
  },
  {
   "cell_type": "code",
   "execution_count": 11,
   "metadata": {},
   "outputs": [],
   "source": [
    "# Import common packages\n",
    "import numpy as np\n",
    "import pandas as pd\n",
    "import matplotlib.pyplot as plt\n",
    "import seaborn as sns\n",
    "\n",
    "# Import necessary APPRAISE modules\n",
    "import appraise\n",
    "from appraise.utilities import *\n",
    "from appraise.score_calculation import *"
   ]
  },
  {
   "cell_type": "markdown",
   "metadata": {},
   "source": [
    "#### Load the measurements"
   ]
  },
  {
   "cell_type": "markdown",
   "metadata": {},
   "source": [
    "Use the following block to load the .csv file generated by the PyMOL script. \n",
    "\n",
    "For demo purpose, we'll use a previously prepared quantification result in the following cell:"
   ]
  },
  {
   "cell_type": "code",
   "execution_count": 13,
   "metadata": {},
   "outputs": [
    {
     "name": "stdout",
     "output_type": "stream",
     "text": [
      "Default Path to database file (*.csv) is [./demo_100AAV_screening/stage_1/database_APPRAISE_measurements_stage_1_example.csv], need to change? Provide new value or hit Enter to use default\n"
     ]
    },
    {
     "name": "stdin",
     "output_type": "stream",
     "text": [
      ">  \n"
     ]
    },
    {
     "name": "stdout",
     "output_type": "stream",
     "text": [
      "Default Receptor of interest (need to match the name in input fasta file names) is [Ly6a], need to change? Provide new value or hit Enter to use default\n"
     ]
    },
    {
     "name": "stdin",
     "output_type": "stream",
     "text": [
      ">  \n"
     ]
    },
    {
     "name": "stdout",
     "output_type": "stream",
     "text": [
      "Default R_minor of the receptor is [13.4], need to change? Provide new value or hit Enter to use default\n"
     ]
    },
    {
     "name": "stdin",
     "output_type": "stream",
     "text": [
      ">  \n"
     ]
    },
    {
     "name": "stdout",
     "output_type": "stream",
     "text": [
      "Default Version of APPRAISE to use is [1.2], need to change? Provide new value or hit Enter to use default\n"
     ]
    },
    {
     "name": "stdin",
     "output_type": "stream",
     "text": [
      ">  \n"
     ]
    },
    {
     "name": "stdout",
     "output_type": "stream",
     "text": [
      "\n",
      "A database with 100 peptides is successfully loaded! \n",
      "\n",
      "\n",
      "Quality check: \n",
      " The following plot shows the number of models for each peptide variant in the database. \n",
      " You should expect to see an equal number of models in all variants. \n",
      " If the numbers are not equal, there might some models missing during structure prediction or quantification. You can still proceed with the risk of getting biased rankings.\n",
      " Double click on the plot to Zoom in. \n"
     ]
    },
    {
     "data": {
      "image/png": "[encoded data removed]",
      "text/plain": [
       "<Figure size 10800x216 with 1 Axes>"
      ]
     },
     "metadata": {
      "needs_background": "light"
     },
     "output_type": "display_data"
    }
   ],
   "source": [
    "# Get the settings\n",
    "database_path = interactive_input('Path to database file (*.csv)','./demo_100AAV_screening/stage_1/database_APPRAISE_measurements_stage_1_example.csv')\n",
    "receptor_of_interest = interactive_input('Receptor of interest (need to match the name in input fasta file names)', 'Ly6a')\n",
    "receptor_Rminor = float(interactive_input('R_minor of the receptor', 13.4))\n",
    "APPRAISE_version = float(interactive_input('Version of APPRAISE to use', 1.2))\n",
    "\n",
    "# Read and calculate scores\n",
    "df = pd.read_csv(database_path)\n",
    "df = df.loc[df['receptor_name'] == receptor_of_interest].copy()\n",
    "df['receptor_Rminor'] = receptor_Rminor\n",
    "list_peptide_names, list_peptide_seqs = get_peptide_list_from_model_names(df)\n",
    "\n",
    "df_sorted = sort_df_by_peptides_and_cleanup(df, list_peptide_names)\n",
    "\n",
    "print('\\nA database with {} peptides is successfully loaded! \\n'.format(len(list_peptide_names)))\n",
    "\n",
    "# Quality check\n",
    "print('\\nQuality check: \\n \\\n",
    "The following plot shows the number of models for each peptide variant in the database. \\n \\\n",
    "You should expect to see an equal number of models in all variants. \\n \\\n",
    "If the numbers are not equal, there might some models missing during structure prediction or quantification. You can still proceed with the risk of getting biased rankings.\\n \\\n",
    "Double click on the plot to Zoom in. ')\n",
    "\n",
    "plt.rcParams[\"figure.figsize\"] = (len(list_peptide_names)*1.5, 3)\n",
    "sns.histplot(df, x='peptide_name')\n",
    "plt.tight_layout()"
   ]
  },
  {
   "cell_type": "markdown",
   "metadata": {},
   "source": [
    "#### Rank by mean aboslute binding score ($\\overline{B}_2^{POI}$)"
   ]
  },
  {
   "cell_type": "markdown",
   "metadata": {},
   "source": [
    "Calculate binding scores from each individual competition ($B_2^{POI, competitor}$):"
   ]
  },
  {
   "cell_type": "code",
   "execution_count": 17,
   "metadata": {},
   "outputs": [
    {
     "name": "stdout",
     "output_type": "stream",
     "text": [
      "Binding scores from individual competitions:\n"
     ]
    },
    {
     "data": {
      "text/html": [
       "<div>\n",
       "<style scoped>\n",
       "    .dataframe tbody tr th:only-of-type {\n",
       "        vertical-align: middle;\n",
       "    }\n",
       "\n",
       "    .dataframe tbody tr th {\n",
       "        vertical-align: top;\n",
       "    }\n",
       "\n",
       "    .dataframe thead th {\n",
       "        text-align: right;\n",
       "    }\n",
       "</style>\n",
       "<table border=\"1\" class=\"dataframe\">\n",
       "  <thead>\n",
       "    <tr style=\"text-align: right;\">\n",
       "      <th></th>\n",
       "      <th>peptide_name</th>\n",
       "      <th>B_POI</th>\n",
       "    </tr>\n",
       "  </thead>\n",
       "  <tbody>\n",
       "    <tr>\n",
       "      <th>0</th>\n",
       "      <td>SRK-42</td>\n",
       "      <td>0.007719</td>\n",
       "    </tr>\n",
       "    <tr>\n",
       "      <th>1</th>\n",
       "      <td>SRK-30</td>\n",
       "      <td>204.652401</td>\n",
       "    </tr>\n",
       "    <tr>\n",
       "      <th>2</th>\n",
       "      <td>SRK-73</td>\n",
       "      <td>16.653166</td>\n",
       "    </tr>\n",
       "    <tr>\n",
       "      <th>3</th>\n",
       "      <td>Dis90</td>\n",
       "      <td>52.824447</td>\n",
       "    </tr>\n",
       "    <tr>\n",
       "      <th>4</th>\n",
       "      <td>SRK-24</td>\n",
       "      <td>105.655108</td>\n",
       "    </tr>\n",
       "    <tr>\n",
       "      <th>...</th>\n",
       "      <td>...</td>\n",
       "      <td>...</td>\n",
       "    </tr>\n",
       "    <tr>\n",
       "      <th>995</th>\n",
       "      <td>AAV9</td>\n",
       "      <td>-0.000000</td>\n",
       "    </tr>\n",
       "    <tr>\n",
       "      <th>996</th>\n",
       "      <td>SRK-77</td>\n",
       "      <td>-0.000000</td>\n",
       "    </tr>\n",
       "    <tr>\n",
       "      <th>997</th>\n",
       "      <td>SRK-33</td>\n",
       "      <td>131.627629</td>\n",
       "    </tr>\n",
       "    <tr>\n",
       "      <th>998</th>\n",
       "      <td>SRK-64</td>\n",
       "      <td>18.282947</td>\n",
       "    </tr>\n",
       "    <tr>\n",
       "      <th>999</th>\n",
       "      <td>SRK-78</td>\n",
       "      <td>110.902405</td>\n",
       "    </tr>\n",
       "  </tbody>\n",
       "</table>\n",
       "<p>1000 rows × 2 columns</p>\n",
       "</div>"
      ],
      "text/plain": [
       "    peptide_name       B_POI\n",
       "0         SRK-42    0.007719\n",
       "1         SRK-30  204.652401\n",
       "2         SRK-73   16.653166\n",
       "3          Dis90   52.824447\n",
       "4         SRK-24  105.655108\n",
       "..           ...         ...\n",
       "995         AAV9   -0.000000\n",
       "996       SRK-77   -0.000000\n",
       "997       SRK-33  131.627629\n",
       "998       SRK-64   18.282947\n",
       "999       SRK-78  110.902405\n",
       "\n",
       "[1000 rows x 2 columns]"
      ]
     },
     "execution_count": 17,
     "metadata": {},
     "output_type": "execute_result"
    }
   ],
   "source": [
    "df = calculate_scores(df, version=APPRAISE_version)\n",
    "print('Binding scores from individual competitions:')\n",
    "df[['peptide_name','B_POI']]"
   ]
  },
  {
   "cell_type": "markdown",
   "metadata": {},
   "source": [
    "Get the mean binding scores ($\\overline{B}_2^{POI}$)"
   ]
  },
  {
   "cell_type": "code",
   "execution_count": 18,
   "metadata": {},
   "outputs": [
    {
     "name": "stdout",
     "output_type": "stream",
     "text": [
      "Mean binding scores of each POI:\n"
     ]
    },
    {
     "data": {
      "text/html": [
       "<div>\n",
       "<style scoped>\n",
       "    .dataframe tbody tr th:only-of-type {\n",
       "        vertical-align: middle;\n",
       "    }\n",
       "\n",
       "    .dataframe tbody tr th {\n",
       "        vertical-align: top;\n",
       "    }\n",
       "\n",
       "    .dataframe thead th {\n",
       "        text-align: right;\n",
       "    }\n",
       "</style>\n",
       "<table border=\"1\" class=\"dataframe\">\n",
       "  <thead>\n",
       "    <tr style=\"text-align: right;\">\n",
       "      <th></th>\n",
       "      <th>peptide_name</th>\n",
       "      <th>B_POI</th>\n",
       "    </tr>\n",
       "  </thead>\n",
       "  <tbody>\n",
       "    <tr>\n",
       "      <th>0</th>\n",
       "      <td>SRK-86</td>\n",
       "      <td>29.971276</td>\n",
       "    </tr>\n",
       "    <tr>\n",
       "      <th>1</th>\n",
       "      <td>SRK-58</td>\n",
       "      <td>24.680393</td>\n",
       "    </tr>\n",
       "    <tr>\n",
       "      <th>2</th>\n",
       "      <td>SRK-4</td>\n",
       "      <td>41.219688</td>\n",
       "    </tr>\n",
       "    <tr>\n",
       "      <th>3</th>\n",
       "      <td>AAV9</td>\n",
       "      <td>0.586392</td>\n",
       "    </tr>\n",
       "    <tr>\n",
       "      <th>4</th>\n",
       "      <td>SRK-85</td>\n",
       "      <td>57.935931</td>\n",
       "    </tr>\n",
       "    <tr>\n",
       "      <th>...</th>\n",
       "      <td>...</td>\n",
       "      <td>...</td>\n",
       "    </tr>\n",
       "    <tr>\n",
       "      <th>95</th>\n",
       "      <td>SRK-59</td>\n",
       "      <td>52.264803</td>\n",
       "    </tr>\n",
       "    <tr>\n",
       "      <th>96</th>\n",
       "      <td>SRK-19</td>\n",
       "      <td>55.705604</td>\n",
       "    </tr>\n",
       "    <tr>\n",
       "      <th>97</th>\n",
       "      <td>SRK-51</td>\n",
       "      <td>34.713927</td>\n",
       "    </tr>\n",
       "    <tr>\n",
       "      <th>98</th>\n",
       "      <td>SRK-32</td>\n",
       "      <td>20.521815</td>\n",
       "    </tr>\n",
       "    <tr>\n",
       "      <th>99</th>\n",
       "      <td>SRK-8</td>\n",
       "      <td>94.841946</td>\n",
       "    </tr>\n",
       "  </tbody>\n",
       "</table>\n",
       "<p>100 rows × 2 columns</p>\n",
       "</div>"
      ],
      "text/plain": [
       "   peptide_name      B_POI\n",
       "0        SRK-86  29.971276\n",
       "1        SRK-58  24.680393\n",
       "2         SRK-4  41.219688\n",
       "3          AAV9   0.586392\n",
       "4        SRK-85  57.935931\n",
       "..          ...        ...\n",
       "95       SRK-59  52.264803\n",
       "96       SRK-19  55.705604\n",
       "97       SRK-51  34.713927\n",
       "98       SRK-32  20.521815\n",
       "99        SRK-8  94.841946\n",
       "\n",
       "[100 rows x 2 columns]"
      ]
     },
     "execution_count": 18,
     "metadata": {},
     "output_type": "execute_result"
    }
   ],
   "source": [
    "# Sort the peptides\n",
    "df_average_by_POI = df.groupby(by=['peptide_name','peptide_seq']).mean().dropna(subset=['B_POI']).reset_index()\n",
    "print('Mean binding scores of each POI:')\n",
    "df_average_by_POI[['peptide_name','B_POI']]"
   ]
  },
  {
   "cell_type": "markdown",
   "metadata": {},
   "source": [
    "Run the following code block to get a the absolute binding scores of the variants and a list of top peptides that can be used for stage 2.\n",
    "\n",
    "The results will be saved in the save directory as the database."
   ]
  },
  {
   "cell_type": "code",
   "execution_count": 19,
   "metadata": {},
   "outputs": [
    {
     "name": "stdout",
     "output_type": "stream",
     "text": [
      "Default Number of top variants to keep is [18], need to change? Provide new value or hit Enter to use default\n"
     ]
    },
    {
     "name": "stdin",
     "output_type": "stream",
     "text": [
      ">  \n"
     ]
    },
    {
     "name": "stdout",
     "output_type": "stream",
     "text": [
      "\n",
      "Success!\n",
      "\n",
      "The APPRAISE scores of peptide variants are saved in ./demo_100AAV_screening/stage_1/APPRAISE1.2_scores_of_all_peptides.csv\n",
      "\n",
      "The list of selected peptides is saved as ./demo_100AAV_screening/stage_1/APPRAISE1.2_selected_top_18_peptides.csv\n",
      "\n",
      "Here is the list of selected peptide variants:\n",
      "\n"
     ]
    },
    {
     "data": {
      "text/html": [
       "<div>\n",
       "<style scoped>\n",
       "    .dataframe tbody tr th:only-of-type {\n",
       "        vertical-align: middle;\n",
       "    }\n",
       "\n",
       "    .dataframe tbody tr th {\n",
       "        vertical-align: top;\n",
       "    }\n",
       "\n",
       "    .dataframe thead th {\n",
       "        text-align: right;\n",
       "    }\n",
       "</style>\n",
       "<table border=\"1\" class=\"dataframe\">\n",
       "  <thead>\n",
       "    <tr style=\"text-align: right;\">\n",
       "      <th></th>\n",
       "      <th>peptide_name</th>\n",
       "      <th>peptide_seq</th>\n",
       "      <th>B_POI</th>\n",
       "    </tr>\n",
       "  </thead>\n",
       "  <tbody>\n",
       "    <tr>\n",
       "      <th>0</th>\n",
       "      <td>SRK-53</td>\n",
       "      <td>AQLTSSNALAQAQTG</td>\n",
       "      <td>140.082737</td>\n",
       "    </tr>\n",
       "    <tr>\n",
       "      <th>1</th>\n",
       "      <td>SRK-50</td>\n",
       "      <td>AQNNFNASLAQAQTG</td>\n",
       "      <td>139.588552</td>\n",
       "    </tr>\n",
       "    <tr>\n",
       "      <th>2</th>\n",
       "      <td>Dis90</td>\n",
       "      <td>AQWKNMGLQAQAQTG</td>\n",
       "      <td>104.001532</td>\n",
       "    </tr>\n",
       "    <tr>\n",
       "      <th>3</th>\n",
       "      <td>SRK-28</td>\n",
       "      <td>AQIVSNQMSAQAQTG</td>\n",
       "      <td>99.594279</td>\n",
       "    </tr>\n",
       "    <tr>\n",
       "      <th>4</th>\n",
       "      <td>SRK-24</td>\n",
       "      <td>AQFNSKLQLAQAQTG</td>\n",
       "      <td>95.451241</td>\n",
       "    </tr>\n",
       "    <tr>\n",
       "      <th>5</th>\n",
       "      <td>SRK-8</td>\n",
       "      <td>AQTHDAQAWAQAQTG</td>\n",
       "      <td>94.841946</td>\n",
       "    </tr>\n",
       "    <tr>\n",
       "      <th>6</th>\n",
       "      <td>SRK-93</td>\n",
       "      <td>AQSVSTPRGAQAQTG</td>\n",
       "      <td>89.622684</td>\n",
       "    </tr>\n",
       "    <tr>\n",
       "      <th>7</th>\n",
       "      <td>SRK-61</td>\n",
       "      <td>AQNHMVRELAQAQTG</td>\n",
       "      <td>84.464261</td>\n",
       "    </tr>\n",
       "    <tr>\n",
       "      <th>8</th>\n",
       "      <td>SRK-90</td>\n",
       "      <td>AQNKLTANGAQAQTG</td>\n",
       "      <td>82.948237</td>\n",
       "    </tr>\n",
       "    <tr>\n",
       "      <th>9</th>\n",
       "      <td>SRK-74</td>\n",
       "      <td>AQIPVSIQAAQAQTG</td>\n",
       "      <td>80.966634</td>\n",
       "    </tr>\n",
       "    <tr>\n",
       "      <th>10</th>\n",
       "      <td>SRK-78</td>\n",
       "      <td>AQTAYLEVKAQAQTG</td>\n",
       "      <td>80.633353</td>\n",
       "    </tr>\n",
       "    <tr>\n",
       "      <th>11</th>\n",
       "      <td>SRK-64</td>\n",
       "      <td>AQVFQATRTAQAQTG</td>\n",
       "      <td>78.435546</td>\n",
       "    </tr>\n",
       "    <tr>\n",
       "      <th>12</th>\n",
       "      <td>PHP.B</td>\n",
       "      <td>AQTLAVPFKAQAQTG</td>\n",
       "      <td>76.760679</td>\n",
       "    </tr>\n",
       "    <tr>\n",
       "      <th>13</th>\n",
       "      <td>SRK-39</td>\n",
       "      <td>AQLGDITGFAQAQTG</td>\n",
       "      <td>76.071516</td>\n",
       "    </tr>\n",
       "    <tr>\n",
       "      <th>14</th>\n",
       "      <td>SRK-30</td>\n",
       "      <td>AQNMKIQHVAQAQTG</td>\n",
       "      <td>74.342183</td>\n",
       "    </tr>\n",
       "    <tr>\n",
       "      <th>15</th>\n",
       "      <td>SRK-67</td>\n",
       "      <td>AQQVPHLHSAQAQTG</td>\n",
       "      <td>73.475554</td>\n",
       "    </tr>\n",
       "    <tr>\n",
       "      <th>16</th>\n",
       "      <td>SRK-38</td>\n",
       "      <td>AQTLYNAIHAQAQTG</td>\n",
       "      <td>69.101546</td>\n",
       "    </tr>\n",
       "    <tr>\n",
       "      <th>17</th>\n",
       "      <td>SRK-17</td>\n",
       "      <td>AQTTMGTMLAQAQTG</td>\n",
       "      <td>68.975034</td>\n",
       "    </tr>\n",
       "  </tbody>\n",
       "</table>\n",
       "</div>"
      ],
      "text/plain": [
       "   peptide_name      peptide_seq       B_POI\n",
       "0        SRK-53  AQLTSSNALAQAQTG  140.082737\n",
       "1        SRK-50  AQNNFNASLAQAQTG  139.588552\n",
       "2         Dis90  AQWKNMGLQAQAQTG  104.001532\n",
       "3        SRK-28  AQIVSNQMSAQAQTG   99.594279\n",
       "4        SRK-24  AQFNSKLQLAQAQTG   95.451241\n",
       "5         SRK-8  AQTHDAQAWAQAQTG   94.841946\n",
       "6        SRK-93  AQSVSTPRGAQAQTG   89.622684\n",
       "7        SRK-61  AQNHMVRELAQAQTG   84.464261\n",
       "8        SRK-90  AQNKLTANGAQAQTG   82.948237\n",
       "9        SRK-74  AQIPVSIQAAQAQTG   80.966634\n",
       "10       SRK-78  AQTAYLEVKAQAQTG   80.633353\n",
       "11       SRK-64  AQVFQATRTAQAQTG   78.435546\n",
       "12        PHP.B  AQTLAVPFKAQAQTG   76.760679\n",
       "13       SRK-39  AQLGDITGFAQAQTG   76.071516\n",
       "14       SRK-30  AQNMKIQHVAQAQTG   74.342183\n",
       "15       SRK-67  AQQVPHLHSAQAQTG   73.475554\n",
       "16       SRK-38  AQTLYNAIHAQAQTG   69.101546\n",
       "17       SRK-17  AQTTMGTMLAQAQTG   68.975034"
      ]
     },
     "execution_count": 19,
     "metadata": {},
     "output_type": "execute_result"
    }
   ],
   "source": [
    "# Select the top variants\n",
    "N_top = int(interactive_input('Number of top variants to keep', 18))\n",
    "df_average_by_POI = df_average_by_POI.sort_values(by='B_POI', ascending=False).reset_index()\n",
    "df_selected_peptides = df_average_by_POI.loc[0:N_top-1, ['peptide_name', 'peptide_seq', 'B_POI']]\n",
    "\n",
    "\n",
    "#Save the results\n",
    "print('\\nSuccess!')\n",
    "score_file_path = '/results/demo_100AAV_screening/stage_1/APPRAISE{}_scores_of_all_peptides.csv'.format(str(APPRAISE_version))\n",
    "df_average_by_POI.to_csv(score_file_path)\n",
    "print('\\nThe APPRAISE scores of peptide variants are saved in {}'.format(score_file_path))\n",
    "selected_peptide_list_path = '/results/demo_100AAV_screening/stage_1/APPRAISE{}_selected_top_{}_peptides.csv'.format(str(APPRAISE_version), str(N_top))\n",
    "df_selected_peptides.to_csv(selected_peptide_list_path)\n",
    "print('\\nThe list of selected peptides is saved as {}'.format(selected_peptide_list_path))\n",
    "\n",
    "# Display the results\n",
    "print('\\nHere is the list of selected peptide variants:\\n')\n",
    "df_selected_peptides"
   ]
  },
  {
   "cell_type": "markdown",
   "metadata": {},
   "source": [
    "#### Plot the results"
   ]
  },
  {
   "cell_type": "markdown",
   "metadata": {},
   "source": [
    "The following code block shows an example to create an overview plot of scores of individual models."
   ]
  },
  {
   "cell_type": "code",
   "execution_count": 20,
   "metadata": {},
   "outputs": [
    {
     "data": {
      "image/png": "[encoded data removed]",
      "text/plain": [
       "<Figure size 720x576 with 100 Axes>"
      ]
     },
     "metadata": {},
     "output_type": "display_data"
    }
   ],
   "source": [
    "# Set number of subplots\n",
    "n_rows = 5\n",
    "n_columns = 20\n",
    "\n",
    "# Configure the plot\n",
    "sns.set_style(\"white\")\n",
    "sns.set_context(\"paper\")\n",
    "\n",
    "plt.rcParams[\"figure.figsize\"] = (10, 8)\n",
    "fig, axes = plt.subplots(nrows=n_rows, ncols=n_columns)\n",
    "\n",
    "# Plot each peptide in a subplot\n",
    "for i, peptide_name in enumerate(df_average_by_POI['peptide_name']):\n",
    "    j = i // n_columns\n",
    "    k = i % n_columns\n",
    "    \n",
    "    # Set the y axis display rules depending on the position\n",
    "    if k == 0:\n",
    "        sns.despine(bottom = True, left=False, right=True, ax=axes[j, k])\n",
    "    else:\n",
    "        sns.despine(bottom = True, left=True, right=True, ax=axes[j, k])\n",
    "        axes[j,k].set(yticklabels=[])\n",
    " \n",
    "    # Set coloring -- highlight PHP.B, Dis90, and AAV9\n",
    "    if peptide_name == 'PHP.B':\n",
    "        color_setting = sns.color_palette()[0]\n",
    "    elif peptide_name == 'Dis90':\n",
    "        color_setting = sns.color_palette()[2]\n",
    "    elif peptide_name == 'AAV9':\n",
    "        color_setting = sns.color_palette(\"tab10\")[7]\n",
    "    else:\n",
    "        color_setting = sns.color_palette()[7]\n",
    "    \n",
    "    # Plot the data points\n",
    "    sns.stripplot(ax=axes[j,k], y=\"B_POI\", data=df.loc[df['peptide_name']==peptide_name], color=color_setting)\n",
    "    \n",
    "    # Plot the mean bar\n",
    "    sns.boxplot(ax=axes[j,k], \n",
    "            showmeans=True,\n",
    "            meanline=True,\n",
    "            meanprops={'color': 'k', 'ls': '-', 'lw': 2},\n",
    "            medianprops={'visible': False},\n",
    "            whiskerprops={'visible': False},\n",
    "            zorder=10,\n",
    "            y=\"B_POI\",\n",
    "            data=df.loc[df['peptide_name']==peptide_name],\n",
    "            showfliers=False,\n",
    "            showbox=False,\n",
    "            showcaps=False)\n",
    "    \n",
    "    # Annotate the reads\n",
    "    axes[j, k].annotate(int(np.mean(df.loc[df['peptide_name']==peptide_name, \"B_POI\"])), xy=(0.5, -0.1), xycoords='axes fraction', ha='center', va='center')\n",
    "    #axes[j, k].set_title(variable_name, wrap=True)\n",
    "    axes[j,k].set_ylim(-50, 400)\n",
    "    axes[j,k].set_xlabel('')\n",
    "    axes[j,k].set_ylabel('')\n",
    "    axes[j,k].set(xticklabels=[])\n",
    "   \n",
    "    \n",
    "plt.tight_layout()\n",
    "fig.savefig('/results/demo_100AAV_screening/stage_1/stage_1_results.png', dpi=300)\n"
   ]
  },
  {
   "cell_type": "markdown",
   "metadata": {},
   "source": [
    "## Stage 2 - Pair-wise competition for accurate ranking of top variants"
   ]
  },
  {
   "cell_type": "markdown",
   "metadata": {},
   "source": [
    "### 2.1 - Prepare input fasta files for pooled competition in AlphaFold"
   ]
  },
  {
   "cell_type": "code",
   "execution_count": 21,
   "metadata": {},
   "outputs": [],
   "source": [
    "# Import necessary modules\n",
    "import appraise\n",
    "from appraise.utilities import *\n",
    "from appraise.input_fasta_prep import *"
   ]
  },
  {
   "cell_type": "markdown",
   "metadata": {},
   "source": [
    "The peptide sequences should be provided in a .csv table with two columns titled \"peptide_name\" and \"peptide_seq\", respectively.\n",
    "\n",
    "You can find example peptide listes in folder ./data/manuscript_example_sequences. "
   ]
  },
  {
   "cell_type": "markdown",
   "metadata": {},
   "source": [
    "#### Generate input fasta for pairwise matrix"
   ]
  },
  {
   "cell_type": "code",
   "execution_count": null,
   "metadata": {},
   "outputs": [],
   "source": [
    "# Check if the variable is still in memory\n",
    "if 'selected_peptide_list_path' in globals():\n",
    "    csv_file_path_default = selected_peptide_list_path\n",
    "else:\n",
    "    csv_file_path_default = './demo_100AAV_screening/stage_1/APPRAISE1.2_selected_top_18_peptides.csv'\n",
    "\n",
    "csv_file_path = interactive_input('csv_file_path',csv_file_path_default) #@param {type:\"string\"}\n",
    "\n",
    "folder_path_for_fastas = interactive_input('folder_path_for_fastas', '/results/demo_100AAV_screening/stage_2/demo_stage_2_input_fasta_for_colabfold/')#@param {type:\"string\"}\n",
    "\n",
    "receptor_name = interactive_input('receptor_name', 'Ly6a') #@param {type:\"string\"}\n",
    "\n",
    "receptor_seq = interactive_input('receptor_seq', \"LECYQCYGVPFETSCPSITCPYPDGVCVTQEAAVIVDSQTRKVKNNLCLPICPPNIESMEILGTKVNVKTSCCQEDLCNVAVP\") #@param {type:\"string\"}\n",
    "\n",
    "peptide_names, peptide_seqs = load_peptides(csv_file_path)\n",
    "\n",
    "list_query_sequence, list_jobname = get_complex_fastas(receptor_name, \\\n",
    "                                                        receptor_seq, \\\n",
    "                                                        peptide_names, \\\n",
    "                                                        peptide_seqs, \\\n",
    "                                                        mode = 'pairwise', \\\n",
    "                                                        square_matrix = True, \\\n",
    "                                                        folder_path = folder_path_for_fastas)"
   ]
  },
  {
   "cell_type": "markdown",
   "metadata": {},
   "source": [
    "### 2.2 - Run structural prediction"
   ]
  },
  {
   "cell_type": "markdown",
   "metadata": {},
   "source": [
    "***Demo instruction: This step is the rate-limiting step. You can skip to step 2.4 using a provided sample table instead.***\n",
    "\n",
    "The structures can be modeled using AlphaFold2-multimer or other state-of-the-art structure-prediction tools. \n",
    "\n",
    "For easy access to AlphaFold2-multimer, we suggest using ColabFold, an integrated implementation of multiple sequence alignment and AlphaFold (Mirdita M, Schütze K, Moriwaki Y, Heo L, Ovchinnikov S and Steinegger M. ColabFold: Making protein folding accessible to all., Nature Methods (2022) doi: 10.1038/s41592-022-01488-1)."
   ]
  },
  {
   "cell_type": "markdown",
   "metadata": {},
   "source": [
    "To use the ColabFold notebook, you can make a copy of [the ColabFold-batch notebook](https://github.com/sokrypton/ColabFold/blob/main/batch/AlphaFold2_batch.ipynb) to a Google account, upload fasta files to the input folder, and hit \"run all\" in the Colab notebook.  Suggested settings:\n",
    "\n",
    "```\n",
    "\n",
    "msa_mode = MMseqs2 (UniRef+Environmental)\n",
    "\n",
    "num_models = 5\n",
    "\n",
    "num_recycles = 3\n",
    "\n",
    "stop_at_score = 100\n",
    "\n",
    "use_amber = False\n",
    "\n",
    "use_templates = True\n",
    "\n",
    "do_not_overwrite_results = False\n",
    "\n",
    "zip_results = False\n",
    "```\n"
   ]
  },
  {
   "cell_type": "markdown",
   "metadata": {},
   "source": [
    "Note: \n",
    "\n",
    "1. Run the following line in a new cell in your ColabFold notebook and take a note on what GPU model is being used in the Colab session. This will be helpful when you need to reproduce the modeling results. We found that using the same GPU gives the most consistent (near-deterministic) modeling results.\n",
    "\n",
    "```\n",
    "!nvidia-smi\n",
    "```\n",
    "\n",
    "2. If you wish to use another version of AlphaFold model (e.g., AlphaFold2-multimer-v1) in the Colab batch notebook, you will need to make two modifications manually. First, copy the lines below and paste it to the top of the \"Run prediction\" block so that the notebook can download the correct parameters. Second, change the \"model_type\" argument in the line with \"run(...)\" in the \"Run prediction\" block to the desired model type.\n",
    "```\n",
    "# Force to download for the appropriate model type\n",
    "model_type = \"AlphaFold2-multimer-v1\" #See ColabFold documentation for other available model types\n",
    "from colabfold.download import download_alphafold_params\n",
    "from pathlib import Path\n",
    "download_alphafold_params(model_type, Path(\"/root/.cache/colabfold/\"))\n",
    "```\n",
    "\n",
    "If your session is terminated in the middle, You can delete the input fasta files for the models that were already finished and restart the session to continue with the rest. Sometimes you may need to wait for hours to regain access to a GPU session."
   ]
  },
  {
   "cell_type": "markdown",
   "metadata": {},
   "source": [
    "### 2.3 - Quantify the structure models"
   ]
  },
  {
   "cell_type": "markdown",
   "metadata": {},
   "source": [
    "***Demo instruction: Modeled structures from step 2.2 are needed for this step. If you don't have the structure models yet, you can skip to step 2.4 using a provided sample table.***\n",
    "\n",
    "The PyMOL script appraise/pymol_quantify_peptide_binding.py will analyze the pdb files in a folder and generate a csv file containing all measurements in parent folder of the pdb results folder. \n",
    "\n",
    "*Note: If you did not use ColabFold for the modeling, the file names of the models need to be changed to the following format, where the bracketed part can be any filler string with a total length of 14 characters:*\n",
    "```\n",
    "'ReceptorName_and_Peptide1Name_vs_Peptide2Name_vs_..._vs_PeptideNName_unrelaxed_[14Characters].pdb'\n",
    "```\n",
    "\n",
    "#### Option 1: Run the quantification script in **pymol prompt**\n",
    "\n",
    "In PyMOL, use the following lines (the can be adjusted):\n",
    "\n",
    "```\n",
    "# Load the script (replace \"/path/to/APPRAISE\" with the actual path)\n",
    "run /path/to/APPRAISE/appraise/pymol_quantify_peptide_binding.py\n",
    "\n",
    "# Call the quantification function (change the parameters as needed)\n",
    "quantify_binding('path_to_results_folder/', use_relaxed=False, time_stamp=True, mod_start_resi=3, mod_end_resi=9, pLDDT_threshold=0, membrane_anchor_site='C-term')\n",
    "```\n",
    "\n",
    "*Note: The script will take a few minutes to run, and the PyMOL GUI might be frozen while the script is running, which is normal.*"
   ]
  },
  {
   "cell_type": "markdown",
   "metadata": {},
   "source": [
    "#### Option 2: Run the quantification script in **terminal** or **JuPyter notebook**. \n",
    "\n",
    "*Note: Currently you can only run the script outside PyMOL with default parameters. If you need to change the parameters for the quantification function, use Option 1 instead.*\n",
    "\n",
    "The pymol script can also be launched from the terminal (https://www.pymolwiki.org/index.php/Launching_From_a_Script). \n",
    "\n",
    "General syntax:"
   ]
  },
  {
   "cell_type": "markdown",
   "metadata": {},
   "source": [
    "\n",
    "```\n",
    "pymol -cq /path/to/APPRAISE/appraise/pymol_quantify_peptide_binding.py /path/to/results/folder/ /output/path/\n",
    "```"
   ]
  },
  {
   "cell_type": "markdown",
   "metadata": {},
   "source": [
    "You will need to replace \"/path/to/APPRAISE/\" with the actual path. You might also need to change \"pymol\" to the actual location of the executable, depending on your operation system and PyMOL release."
   ]
  },
  {
   "cell_type": "markdown",
   "metadata": {},
   "source": [
    "For demo purpose, run the following cells to quantify a part of the modeling results from step 2.2.\n",
    "\n",
    "*Due to file size limit, we only included partial results from step 2.2. A copy of previously prepared full quantifications results is included in the demo folder for step 2.4.*"
   ]
  },
  {
   "cell_type": "code",
   "execution_count": null,
   "metadata": {},
   "outputs": [],
   "source": [
    "# Execute the PyMOL script in terminal\n",
    "!/pymol/pymol -cq ../appraise/pymol_quantify_peptide_binding.py ./demo_100AAV_screening/stage_2/stage_2_alphafold_modeling_partial_results/ /results/demo_100AAV_screening/stage_2/"
   ]
  },
  {
   "cell_type": "markdown",
   "metadata": {},
   "source": [
    "### 2.4 - Analyze the pair-wise-competition results"
   ]
  },
  {
   "cell_type": "code",
   "execution_count": 27,
   "metadata": {},
   "outputs": [],
   "source": [
    "# Import common packages\n",
    "import numpy as np\n",
    "import pandas as pd\n",
    "import matplotlib.pyplot as plt\n",
    "import seaborn as sns\n",
    "\n",
    "# Import necessary APPRAISE modules\n",
    "import appraise\n",
    "from appraise.utilities import *\n",
    "from appraise.score_calculation import *"
   ]
  },
  {
   "cell_type": "markdown",
   "metadata": {},
   "source": [
    "#### Load the measurements"
   ]
  },
  {
   "cell_type": "markdown",
   "metadata": {},
   "source": [
    "Use the following block to load the .csv file generated by the PyMOL script. \n",
    "\n",
    "An example measurements is also available in the demo."
   ]
  },
  {
   "cell_type": "code",
   "execution_count": 29,
   "metadata": {},
   "outputs": [
    {
     "name": "stdout",
     "output_type": "stream",
     "text": [
      "Default Path to database file (*.csv) is [./demo_100AAV_screening/stage_2/database_APPRAISE_measurements_stage_2_example.csv], need to change? Provide new value or hit Enter to use default\n"
     ]
    },
    {
     "name": "stdin",
     "output_type": "stream",
     "text": [
      ">  \n"
     ]
    },
    {
     "name": "stdout",
     "output_type": "stream",
     "text": [
      "Default Receptor of interest (need to match the name in input fasta file names) is [Ly6a], need to change? Provide new value or hit Enter to use default\n"
     ]
    },
    {
     "name": "stdin",
     "output_type": "stream",
     "text": [
      ">  \n"
     ]
    },
    {
     "name": "stdout",
     "output_type": "stream",
     "text": [
      "Default R_minor of the receptor is [13.4], need to change? Provide new value or hit Enter to use default\n"
     ]
    },
    {
     "name": "stdin",
     "output_type": "stream",
     "text": [
      ">  \n"
     ]
    },
    {
     "name": "stdout",
     "output_type": "stream",
     "text": [
      "Default Version of APPRAISE to use is [1.2], need to change? Provide new value or hit Enter to use default\n"
     ]
    },
    {
     "name": "stdin",
     "output_type": "stream",
     "text": [
      ">  \n"
     ]
    },
    {
     "name": "stdout",
     "output_type": "stream",
     "text": [
      "\n",
      "A database with 18 peptides is successfully loaded! \n",
      "\n",
      "\n",
      "Quality check: \n",
      " The following plot shows the number of models for each peptide variant in the database. \n",
      " You should expect to see an equal number of models in all variants. \n",
      " If the numbers are not equal, there might some models missing during structure prediction or quantification. You can still proceed with the risk of getting biased rankings.\n",
      " Double click on the plot to Zoom in. \n"
     ]
    },
    {
     "data": {
      "image/png": "[encoded data removed]",
      "text/plain": [
       "<Figure size 1944x216 with 1 Axes>"
      ]
     },
     "metadata": {},
     "output_type": "display_data"
    }
   ],
   "source": [
    "# Get the settings\n",
    "database_path = interactive_input('Path to database file (*.csv)','./demo_100AAV_screening/stage_2/database_APPRAISE_measurements_stage_2_example.csv')\n",
    "receptor_of_interest = interactive_input('Receptor of interest (need to match the name in input fasta file names)', 'Ly6a')\n",
    "receptor_Rminor = float(interactive_input('R_minor of the receptor', 13.4))\n",
    "APPRAISE_version = float(interactive_input('Version of APPRAISE to use', 1.2))\n",
    "\n",
    "# Read and calculate scores\n",
    "df = pd.read_csv(database_path)\n",
    "df = df.loc[df['receptor_name'] == receptor_of_interest].copy()\n",
    "df['receptor_Rminor'] = receptor_Rminor\n",
    "list_peptide_names, list_peptide_seqs = get_peptide_list_from_model_names(df)\n",
    "print('\\nA database with {} peptides is successfully loaded! \\n'.format(len(list_peptide_names)))\n",
    "\n",
    "# Quality check\n",
    "print('\\nQuality check: \\n \\\n",
    "The following plot shows the number of models for each peptide variant in the database. \\n \\\n",
    "You should expect to see an equal number of models in all variants. \\n \\\n",
    "If the numbers are not equal, there might some models missing during structure prediction or quantification. You can still proceed with the risk of getting biased rankings.\\n \\\n",
    "Double click on the plot to Zoom in. ')\n",
    "\n",
    "plt.rcParams[\"figure.figsize\"] = (len(list_peptide_names)*1.5, 3)\n",
    "sns.histplot(df, x='peptide_name')\n",
    "plt.tight_layout()"
   ]
  },
  {
   "cell_type": "markdown",
   "metadata": {},
   "source": [
    "#### Rank by average relative binding score ($\\overline{\\Delta B}_2^{POI, competitor}$)"
   ]
  },
  {
   "cell_type": "markdown",
   "metadata": {},
   "source": [
    "Calculate the binding scores from each individual competition ($\\Delta B_2^{POI, competitor}$):"
   ]
  },
  {
   "cell_type": "code",
   "execution_count": 30,
   "metadata": {},
   "outputs": [
    {
     "name": "stdout",
     "output_type": "stream",
     "text": [
      "Binding scores from each individual competition:\n"
     ]
    },
    {
     "data": {
      "text/html": [
       "<div>\n",
       "<style scoped>\n",
       "    .dataframe tbody tr th:only-of-type {\n",
       "        vertical-align: middle;\n",
       "    }\n",
       "\n",
       "    .dataframe tbody tr th {\n",
       "        vertical-align: top;\n",
       "    }\n",
       "\n",
       "    .dataframe thead th {\n",
       "        text-align: right;\n",
       "    }\n",
       "</style>\n",
       "<table border=\"1\" class=\"dataframe\">\n",
       "  <thead>\n",
       "    <tr style=\"text-align: right;\">\n",
       "      <th></th>\n",
       "      <th>peptide_name</th>\n",
       "      <th>competitor</th>\n",
       "      <th>Delta_B</th>\n",
       "    </tr>\n",
       "  </thead>\n",
       "  <tbody>\n",
       "    <tr>\n",
       "      <th>688</th>\n",
       "      <td>SRK-50</td>\n",
       "      <td>SRK-50</td>\n",
       "      <td>111.608204</td>\n",
       "    </tr>\n",
       "    <tr>\n",
       "      <th>689</th>\n",
       "      <td>SRK-50</td>\n",
       "      <td>SRK-50</td>\n",
       "      <td>-111.608204</td>\n",
       "    </tr>\n",
       "    <tr>\n",
       "      <th>1066</th>\n",
       "      <td>SRK-50</td>\n",
       "      <td>SRK-50</td>\n",
       "      <td>124.474408</td>\n",
       "    </tr>\n",
       "    <tr>\n",
       "      <th>1067</th>\n",
       "      <td>SRK-50</td>\n",
       "      <td>SRK-50</td>\n",
       "      <td>-124.474407</td>\n",
       "    </tr>\n",
       "    <tr>\n",
       "      <th>1654</th>\n",
       "      <td>SRK-50</td>\n",
       "      <td>SRK-50</td>\n",
       "      <td>77.352103</td>\n",
       "    </tr>\n",
       "    <tr>\n",
       "      <th>...</th>\n",
       "      <td>...</td>\n",
       "      <td>...</td>\n",
       "      <td>...</td>\n",
       "    </tr>\n",
       "    <tr>\n",
       "      <th>1885</th>\n",
       "      <td>SRK-30</td>\n",
       "      <td>SRK-30</td>\n",
       "      <td>-147.413749</td>\n",
       "    </tr>\n",
       "    <tr>\n",
       "      <th>2696</th>\n",
       "      <td>SRK-30</td>\n",
       "      <td>SRK-30</td>\n",
       "      <td>3.245493</td>\n",
       "    </tr>\n",
       "    <tr>\n",
       "      <th>2697</th>\n",
       "      <td>SRK-30</td>\n",
       "      <td>SRK-30</td>\n",
       "      <td>-3.245493</td>\n",
       "    </tr>\n",
       "    <tr>\n",
       "      <th>2788</th>\n",
       "      <td>SRK-30</td>\n",
       "      <td>SRK-30</td>\n",
       "      <td>-0.734358</td>\n",
       "    </tr>\n",
       "    <tr>\n",
       "      <th>2789</th>\n",
       "      <td>SRK-30</td>\n",
       "      <td>SRK-30</td>\n",
       "      <td>0.734358</td>\n",
       "    </tr>\n",
       "  </tbody>\n",
       "</table>\n",
       "<p>3240 rows × 3 columns</p>\n",
       "</div>"
      ],
      "text/plain": [
       "     peptide_name competitor     Delta_B\n",
       "688        SRK-50     SRK-50  111.608204\n",
       "689        SRK-50     SRK-50 -111.608204\n",
       "1066       SRK-50     SRK-50  124.474408\n",
       "1067       SRK-50     SRK-50 -124.474407\n",
       "1654       SRK-50     SRK-50   77.352103\n",
       "...           ...        ...         ...\n",
       "1885       SRK-30     SRK-30 -147.413749\n",
       "2696       SRK-30     SRK-30    3.245493\n",
       "2697       SRK-30     SRK-30   -3.245493\n",
       "2788       SRK-30     SRK-30   -0.734358\n",
       "2789       SRK-30     SRK-30    0.734358\n",
       "\n",
       "[3240 rows x 3 columns]"
      ]
     },
     "execution_count": 30,
     "metadata": {},
     "output_type": "execute_result"
    }
   ],
   "source": [
    "# Get a dataframe that is sorted pair-wise\n",
    "df_pairwise_sorted = sort_df_by_peptides_and_cleanup(df, list_peptide_names)\n",
    "\n",
    "# Calculate the pair-wise scores\n",
    "df_pairwise_sorted = calculate_scores(df_pairwise_sorted, version=APPRAISE_version, depth_constraint=True)\n",
    "print('Binding scores from each individual competition:')\n",
    "df_pairwise_sorted[['peptide_name','competitor','Delta_B']]"
   ]
  },
  {
   "cell_type": "markdown",
   "metadata": {},
   "source": [
    "Get the mean binding scores ($\\overline{\\Delta B}_2^{POI, competitor}$)"
   ]
  },
  {
   "cell_type": "code",
   "execution_count": 31,
   "metadata": {},
   "outputs": [
    {
     "name": "stdout",
     "output_type": "stream",
     "text": [
      "Mean binding scores:\n"
     ]
    },
    {
     "data": {
      "text/html": [
       "<div>\n",
       "<style scoped>\n",
       "    .dataframe tbody tr th:only-of-type {\n",
       "        vertical-align: middle;\n",
       "    }\n",
       "\n",
       "    .dataframe tbody tr th {\n",
       "        vertical-align: top;\n",
       "    }\n",
       "\n",
       "    .dataframe thead th {\n",
       "        text-align: right;\n",
       "    }\n",
       "</style>\n",
       "<table border=\"1\" class=\"dataframe\">\n",
       "  <thead>\n",
       "    <tr style=\"text-align: right;\">\n",
       "      <th></th>\n",
       "      <th>peptide_name</th>\n",
       "      <th>competitor</th>\n",
       "      <th>Delta_B</th>\n",
       "    </tr>\n",
       "  </thead>\n",
       "  <tbody>\n",
       "    <tr>\n",
       "      <th>0</th>\n",
       "      <td>SRK-50</td>\n",
       "      <td>SRK-50</td>\n",
       "      <td>-2.391168e-07</td>\n",
       "    </tr>\n",
       "    <tr>\n",
       "      <th>1</th>\n",
       "      <td>SRK-50</td>\n",
       "      <td>Dis90</td>\n",
       "      <td>-5.049392e+01</td>\n",
       "    </tr>\n",
       "    <tr>\n",
       "      <th>2</th>\n",
       "      <td>SRK-50</td>\n",
       "      <td>SRK-67</td>\n",
       "      <td>1.485454e+01</td>\n",
       "    </tr>\n",
       "    <tr>\n",
       "      <th>3</th>\n",
       "      <td>SRK-50</td>\n",
       "      <td>SRK-39</td>\n",
       "      <td>-1.332436e+00</td>\n",
       "    </tr>\n",
       "    <tr>\n",
       "      <th>4</th>\n",
       "      <td>SRK-50</td>\n",
       "      <td>PHP.B</td>\n",
       "      <td>2.876579e+01</td>\n",
       "    </tr>\n",
       "    <tr>\n",
       "      <th>...</th>\n",
       "      <td>...</td>\n",
       "      <td>...</td>\n",
       "      <td>...</td>\n",
       "    </tr>\n",
       "    <tr>\n",
       "      <th>319</th>\n",
       "      <td>SRK-30</td>\n",
       "      <td>SRK-74</td>\n",
       "      <td>1.721103e+01</td>\n",
       "    </tr>\n",
       "    <tr>\n",
       "      <th>320</th>\n",
       "      <td>SRK-30</td>\n",
       "      <td>SRK-90</td>\n",
       "      <td>5.382421e+01</td>\n",
       "    </tr>\n",
       "    <tr>\n",
       "      <th>321</th>\n",
       "      <td>SRK-30</td>\n",
       "      <td>SRK-61</td>\n",
       "      <td>-7.066898e+01</td>\n",
       "    </tr>\n",
       "    <tr>\n",
       "      <th>322</th>\n",
       "      <td>SRK-30</td>\n",
       "      <td>SRK-64</td>\n",
       "      <td>4.920453e+01</td>\n",
       "    </tr>\n",
       "    <tr>\n",
       "      <th>323</th>\n",
       "      <td>SRK-30</td>\n",
       "      <td>SRK-30</td>\n",
       "      <td>-3.687418e-08</td>\n",
       "    </tr>\n",
       "  </tbody>\n",
       "</table>\n",
       "<p>324 rows × 3 columns</p>\n",
       "</div>"
      ],
      "text/plain": [
       "    peptide_name competitor       Delta_B\n",
       "0         SRK-50     SRK-50 -2.391168e-07\n",
       "1         SRK-50      Dis90 -5.049392e+01\n",
       "2         SRK-50     SRK-67  1.485454e+01\n",
       "3         SRK-50     SRK-39 -1.332436e+00\n",
       "4         SRK-50      PHP.B  2.876579e+01\n",
       "..           ...        ...           ...\n",
       "319       SRK-30     SRK-74  1.721103e+01\n",
       "320       SRK-30     SRK-90  5.382421e+01\n",
       "321       SRK-30     SRK-61 -7.066898e+01\n",
       "322       SRK-30     SRK-64  4.920453e+01\n",
       "323       SRK-30     SRK-30 -3.687418e-08\n",
       "\n",
       "[324 rows x 3 columns]"
      ]
     },
     "execution_count": 31,
     "metadata": {},
     "output_type": "execute_result"
    }
   ],
   "source": [
    "# Sort the peptides\n",
    "df_pairwise_average = df_pairwise_sorted.groupby(by=['peptide_name','competitor','peptide_seq']).mean().dropna(subset=['Delta_B']).reset_index()\n",
    "print('Mean binding scores:')\n",
    "df_pairwise_average[['peptide_name','competitor','Delta_B']]"
   ]
  },
  {
   "cell_type": "markdown",
   "metadata": {},
   "source": [
    "Run the following code block to get a the absolute binding scores of the variants and a list of top peptides that can be used for stage 2.\n",
    "\n",
    "The results will be saved in the save directory as the database."
   ]
  },
  {
   "cell_type": "code",
   "execution_count": 32,
   "metadata": {},
   "outputs": [
    {
     "name": "stdout",
     "output_type": "stream",
     "text": [
      "Used p-value threshold of 0.050\n",
      "Tie threshold to be 2.26 of standard deviation: 32.84\n"
     ]
    },
    {
     "data": {
      "image/png": "[encoded data removed]",
      "text/plain": [
       "<Figure size 518.4x518.4 with 2 Axes>"
      ]
     },
     "metadata": {},
     "output_type": "display_data"
    }
   ],
   "source": [
    "list_peptide_order, _, _ = plot_heatmap(df_pairwise_average, feature_of_interest='Delta_B', title='APPRAISE 1.2 ranking', rank_by_tournament=True, save_figure=False, p_value_threshold=0.05, vmin=-100, vmax=100)\n",
    "heatmap_figure_path = '/results/demo_100AAV_screening/stage_2/stage_2_results_matrix.png'\n",
    "plt.savefig(heatmap_figure_path, bbox_inches = 'tight', dpi=300)"
   ]
  },
  {
   "cell_type": "code",
   "execution_count": 33,
   "metadata": {},
   "outputs": [
    {
     "name": "stdout",
     "output_type": "stream",
     "text": [
      "APPRAISE analysis finished!\n",
      "The final ranking is: ['Dis90', 'SRK-39', 'SRK-74', 'PHP.B', 'SRK-50', 'SRK-38', 'SRK-61', 'SRK-17', 'SRK-53', 'SRK-28', 'SRK-30', 'SRK-78', 'SRK-8', 'SRK-24', 'SRK-64', 'SRK-93', 'SRK-67', 'SRK-90']\n",
      "The heatmap is saved as ./demo_100AAV_screening/stage_2/Ly6a_ranked_by_Delta_B.png\n"
     ]
    }
   ],
   "source": [
    "print('APPRAISE analysis finished!')\n",
    "print('The final ranking is: {}'.format(list_peptide_order))\n",
    "print('The heatmap is saved as {}'.format(heatmap_figure_path))"
   ]
  }
 ],
 "metadata": {
  "kernelspec": {
   "display_name": "Python 3 (ipykernel)",
   "language": "python",
   "name": "python3"
  },
  "language_info": {
   "codemirror_mode": {
    "name": "ipython",
    "version": 3
   },
   "file_extension": ".py",
   "mimetype": "text/x-python",
   "name": "python",
   "nbconvert_exporter": "python",
   "pygments_lexer": "ipython3",
   "version": "3.9.13"
  }
 },
 "nbformat": 4,
 "nbformat_minor": 4
}
