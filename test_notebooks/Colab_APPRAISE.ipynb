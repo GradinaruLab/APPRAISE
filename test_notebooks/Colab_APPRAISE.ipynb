{
  "cells": [
    {
      "cell_type": "markdown",
      "metadata": {
        "id": "1S4Ab6NFxBKe"
      },
      "source": [
        "# Colab_APPRAISE notebook"
      ]
    },
    {
      "cell_type": "markdown",
      "metadata": {
        "id": "2nzhv4HKxBKg"
      },
      "source": [
        "\n",
        "This is a note book that allows performing APPRAISE pipeline on Google Colab step-by-step.\n",
        "\n",
        "All results are saved in your Google Drive after each step. You can safely terminate a session between steps, although you'll need to re-run step 0 every time you restart.\n",
        "\n",
        "Author: Xiaozhe Ding (Email: xding@caltech.edu, dingxiaozhe@gmail.com; Twitter: [@DingXiaozhe](https://twitter.com/dingxiaozhe?lang=en))\n",
        "\n",
        "If you have any questions when using the notebook, please feel free to raise an issue in Github or shoot an email to me."
      ]
    },
    {
      "cell_type": "markdown",
      "metadata": {
        "id": "m7BCPIJ8xBKg"
      },
      "source": [
        "### Step 0 - Prepare environment (run everytime you restart a new session)"
      ]
    },
    {
      "cell_type": "code",
      "source": [
        "#@title ####0.1 Mount google drive\n",
        "\n",
        "from google.colab import drive\n",
        "drive.mount('/content/drive')"
      ],
      "metadata": {
        "cellView": "form",
        "id": "1r0Qf58E7Yx2"
      },
      "execution_count": null,
      "outputs": []
    },
    {
      "cell_type": "code",
      "execution_count": null,
      "metadata": {
        "cellView": "form",
        "id": "l7jOoIVAxBKh"
      },
      "outputs": [],
      "source": [
        "#@title ####0.2 Install APPRAISE package\n",
        "\n",
        "!pip install appraise"
      ]
    },
    {
      "cell_type": "markdown",
      "source": [
        "### Step 1 Prepare input files for competitive structure modeling"
      ],
      "metadata": {
        "id": "ts7lUf2C1HDu"
      }
    },
    {
      "cell_type": "code",
      "execution_count": null,
      "metadata": {
        "cellView": "form",
        "id": "Yro-aL4yxBKj"
      },
      "outputs": [],
      "source": [
        "import appraise\n",
        "from appraise.utilities import *\n",
        "from appraise.input_fasta_prep import *\n",
        "\n",
        "#@markdown ###**Basic settings**\n",
        "csv_file_path = '/content/drive/MyDrive/APPRAISE_project_1/input_csv/candidate_peptide_list.csv' #@param {type:\"string\"}\n",
        "#@markdown - The .csv spreadsheet containing names and sequences of candidate engineered proteins.\n",
        "#@markdown - The spreadsheet should contain at least two columns titled \"peptide_name\" and \"peptide_seq\", respectively. \n",
        "#@markdown - You may check [an example csv file](https://github.com/xz-ding/APPRAISE/blob/main/demo/demo_100AAV_screening/stage_1/AAV_mock_selection_100_peptide_list.csv) provided in the [demo](https://github.com/xz-ding/APPRAISE/tree/main/demo).\n",
        "\n",
        "folder_path_for_fastas = '/content/drive/MyDrive/APPRAISE_project_1/structure_modeling_input_fastas' #@param {type:\"string\"}\n",
        "#@markdown - The destination folder that will contain the fasta files for structure modeling.\n",
        "\n",
        "receptor_name = 'Ly6a' #@param {type:\"string\"}\n",
        "#@markdown - Name of the receptor.\n",
        "\n",
        "\n",
        "receptor_seq = \"LECYQCYGVPFETSCPSITCPYPDGVCVTQEAAVIVDSQTRKVKNNLCLPICPPNIESMEILGTKVNVKTSCCQEDLCNVAVP\" #@param {type:\"string\"}\n",
        "#@markdown - Receptor sequence to be used for modeling. \n",
        "#@markdown - We recommend using the minimal self-folding domain that is essential for the binding interaction to achieve the highest speed and accuracy.\n",
        "#@markdown - Disordered sequences that are non-essential for binding may decrease the accuracy of modeling and should be truncated. Tips: 1. Truncated, crystallographic constructs used by structural biologists are usually good for modeling, if an experimental structure of the receptor is available; 2. You can also model the full-length receptor sequence using [ColabFold](https://github.com/sokrypton/ColabFold/blob/main/AlphaFold2.ipynb) and find out the low-confidence (e.g., pLDDT < 50) terminal sequences that may be truncated.\n",
        "\n",
        "competition_mode = 'pairwise' #@param ['pairwise', 'pooled', 'single']{type:\"string\"}\n",
        "#@markdown - Modes of competition:\n",
        "#@markdown -- **pairwise** Two candidate engineered proteins compete for a receptor. All possible pairs will be modeled exhaustively.\n",
        "#@markdown -- **pooled** Candidate proteins will be grouped into fixed-sized groups and compete within the group. Each candidate protein will be in one group only. \n",
        "#@markdown -- **single** Complex models of one single engineered protein and the receptor will be modeled.\n",
        "\n",
        "\n",
        "##################################################\n",
        "#@markdown ###**Options for pairwise competition**\n",
        "##################################################\n",
        "square_matrix = True #@param {type:\"boolean\"}\n",
        "#@markdown - If True, all peptides in the list will be competing with each oter through a complete tournament. \n",
        "#@markdown - If False, each peptide from the csv file above will be competing with each peptide from another spreadsheet. You'll need to provide the path to other .csv spreadsheet.\n",
        "csv_file_path_2 = 'N/A' #@param {type:\"string\"}\n",
        "#@markdown - Provide path to the additional .csv spreadsheet if square_matrix is False.\n",
        "\n",
        "\n",
        "##################################################\n",
        "#@markdown ###**Options for pooled competition**\n",
        "##################################################\n",
        "pool_size = '4' #@param ['2', '3', '4'] {type:\"string\"}\n",
        "#@markdown - The number of candidates in each pool. \n",
        "random_seed = 42 #@param{type:'integer'}\n",
        "#@markdown - The seed for random grouping. The same seed number will result in the same grouping.\n",
        "#@markdown - It is recommended to model with multiple different seeds (groupings) to reduce the stochasticity of results. (You may simply change the seed number and run this cell multiple times. Fasta files with different groupings will be merged in the same folder.)\n",
        "\n",
        "\n",
        "##################################################\n",
        "#@markdown ###**Advanced options**\n",
        "##################################################\n",
        "\n",
        "use_glycine_linker = False #@param {type:\"boolean\"}\n",
        "#@markdown - If True, the complex models will be modeled as a single chain protein joint with glycines.\n",
        "#@markdown - Use this option if you intend to predict the structures with **ESMFold**.\n",
        "\n",
        "glycine_linker_length=30 #@param {type:\"integer\"}\n",
        "#@markdown - If use_glycine_linker is True, use this variable to adjust the length of glycine linker.\n",
        "\n",
        "prepare_receptor_model = True #@param {type:\"boolean\"}\n",
        "#@markdown - If True, a single-chain model with only the receptor will be modeled. The modeled structure can later be uploaded to [HullRad server](http://52.14.70.9/Run_hullrad.html) to measure the geometry properties of the receptor.\n",
        "\n",
        "peptide_names, peptide_seqs = load_peptides(csv_file_path)\n",
        "peptide_names_2=[], peptide_seqs_2=[]\n",
        "if competition_mode == 'pairwise' and square_matrix == 'False':\n",
        "    peptide_names_2, peptide_seqs_2 = load_peptides(csv_file_path_2)\n",
        "\n",
        "\n",
        "list_query_sequence, list_jobname = get_complex_fastas(receptor_name=receptor_name, receptor_seq=receptor_seq, list_peptide1_names=peptide_names,\\\n",
        "                                    list_peptide1_seqs=peptide_seqs, mode=competition_mode, square_matrix=square_matrix,\\\n",
        "                                    list_peptide2_names=peptide_names_2, list_peptide2_seqs=peptide_seqs_2, pool_size=pool_size,\\\n",
        "                                    folder_path=folder_path_for_fastas, use_glycine_linker=use_glycine_linker,\\\n",
        "                                    glycine_linker_length=glycine_linker_length, random_seed=random_seed,\\\n",
        "                                    prepare_receptor_model=prepare_receptor_model)"
      ]
    },
    {
      "cell_type": "markdown",
      "metadata": {
        "id": "15bF_eZuxBKj"
      },
      "source": [
        "### Step 2 - Run structure prediction"
      ]
    },
    {
      "cell_type": "markdown",
      "metadata": {
        "id": "qLJF_PasxBKj"
      },
      "source": [
        "**Instruction** \n",
        "\n",
        "\n",
        "The structures can be modeled using AlphaFold2-multimer or other state-of-the-art structure-prediction tools. \n",
        "\n",
        "For easy access to AlphaFold2-multimer, we suggest using ColabFold, an integrated implementation of multiple sequence alignment and AlphaFold (Mirdita M, Schütze K, Moriwaki Y, Heo L, Ovchinnikov S and Steinegger M. ColabFold: Making protein folding accessible to all., Nature Methods (2022) doi: 10.1038/s41592-022-01488-1)."
      ]
    },
    {
      "cell_type": "markdown",
      "metadata": {
        "id": "voA4sp2wxBKk"
      },
      "source": [
        "To use the ColabFold notebook, you can make a copy of [the ColabFold-batch notebook](https://github.com/sokrypton/ColabFold/blob/main/batch/AlphaFold2_batch.ipynb) to a Google account, upload fasta files to the input folder, set the input fasta folder to be the folder defined by ```folder_path_for_fastas``` in Step 1, and hit \"run all\" in the Colab notebook.  Suggested settings:\n",
        "\n",
        "```\n",
        "\n",
        "msa_mode = MMseqs2 (UniRef+Environmental)\n",
        "\n",
        "num_models = 5\n",
        "\n",
        "num_recycles = 3\n",
        "\n",
        "stop_at_score = 100\n",
        "\n",
        "use_amber = False\n",
        "\n",
        "use_templates = True\n",
        "\n",
        "do_not_overwrite_results = False\n",
        "\n",
        "zip_results = False\n",
        "\n",
        "model_type = \"auto\" #In colabfold 2.1.14, AlphaFold2-multimer-v2 is used by default.\n",
        "\n",
        "```\n"
      ]
    },
    {
      "cell_type": "markdown",
      "metadata": {
        "id": "QlZdoXGuxBKk"
      },
      "source": [
        "Note: \n",
        "\n",
        "1. Run the following line in a new cell in your ColabFold notebook and take a note on what GPU model is being used in the Colab session. This will be helpful when you need to reproduce the modeling results. We found that using the same GPU gives the most consistent (near-deterministic) modeling results.\n",
        "\n",
        "```\n",
        "!nvidia-smi\n",
        "```\n",
        "\n",
        "2. If you wish to use another version of AlphaFold model (e.g., AlphaFold2-multimer-v1) in the Colab batch notebook, you will need to make two modifications manually. First, copy the lines below and paste it to the top of the \"Run prediction\" block so that the notebook can download the correct parameters. Second, change the \"model_type\" argument in the line with \"run(...)\" in the \"Run prediction\" block to the desired model type.\n",
        "```\n",
        "# Force to download for the appropriate model type\n",
        "model_type = \"AlphaFold2-multimer-v1\" #See ColabFold documentation for other available model types\n",
        "from colabfold.download import download_alphafold_params\n",
        "from pathlib import Path\n",
        "download_alphafold_params(model_type, Path(\"/root/.cache/colabfold/\"))\n",
        "```\n",
        "\n",
        "If your session is terminated in the middle, You can delete the input fasta files for the models that were already finished and restart the session to continue with the rest. Sometimes you may need to wait for hours to regain access to a GPU session."
      ]
    },
    {
      "cell_type": "markdown",
      "metadata": {
        "id": "2x1fmIaPxBKk"
      },
      "source": [
        "### Step 3 - Quantify structure models"
      ]
    },
    {
      "cell_type": "markdown",
      "source": [
        "In this step, you will use PyMOL script appraise/pymol_quantify_peptide_binding.py to analyze the pdb files in a folder and generate a csv file containing all measurements in parent folder of the pdb results folder. \n",
        "\n",
        "*Notes:*\n",
        "\n",
        "*1. If you did not use ColabFold for the modeling, the file names of the models need to be changed to the following format, where the bracketed part can be any filler string with a total length of 14 characters:*\n",
        "```\n",
        "'ReceptorName_and_Peptide1Name_vs_Peptide2Name_vs_..._vs_PeptideNName_unrelaxed_[14Characters].pdb'\n",
        "```\n",
        "*2. Currently ,the Colab notebook only allows you to run the script with default parameters (for example, the anchor site defaults to the C-terminus). If you need to change the parameters for the quantification function, use Advanced approach below instead.*\n"
      ],
      "metadata": {
        "id": "eggiHA3a51v6"
      }
    },
    {
      "cell_type": "code",
      "source": [
        "#@markdown #### 3.1 Install open-source PyMOL\n",
        "\n",
        "\n",
        "#@markdown The installation code was copied from [colabOpenSourcePyMOLpySnips](https://github.com/MooersLab/colabOpenSourcePyMOLpySnips) by Dr. Blaine Mooers.\n",
        "\n",
        "from IPython.utils import io\n",
        "import tqdm.notebook\n",
        "import os\n",
        "\"\"\"The PyMOL installation is done inside two nested context managers. This approach\n",
        "was inspired by Dr. Christopher Schlick's (of the Phenix group at\n",
        "Lawrence Berkeley National Laboratory) method for installing cctbx\n",
        "in a Colab Notebook. He presented his work on September 1, 2021 at the IUCr\n",
        "Crystallographic Computing School. I adapted Chris's approach here. It replaces my first approach\n",
        "that requires seven steps. My approach was presentated at the SciPy2021 conference\n",
        "in July 2021 and published in the\n",
        "[proceedings](http://conference.scipy.org/proceedings/scipy2021/blaine_mooers.html).\n",
        "The new approach is easier for beginners to use. The old approach is easier to debug\n",
        "and could be used as a back-up approach.\n",
        "\n",
        "Thank you to Professor David Oppenheimer of the University of Florida for suggesting the use mamba and of Open Source PyMOL.\n",
        "\"\"\"\n",
        "total = 100\n",
        "with tqdm.notebook.tqdm(total=total) as pbar:\n",
        "    with io.capture_output() as captured:\n",
        "\n",
        "        !pip install -q condacolab\n",
        "        import condacolab\n",
        "        condacolab.install()\n",
        "        pbar.update(10)\n",
        "\n",
        "        import sys\n",
        "        sys.path.append('/usr/local/lib/python3.7/site-packages/')\n",
        "        pbar.update(20)\n",
        "\n",
        "        # Install PyMOL\n",
        "        %shell mamba install pymol-open-source --yes\n",
        "\n",
        "        pbar.update(70)"
      ],
      "metadata": {
        "colab": {
          "base_uri": "https://localhost:8080/",
          "height": 49,
          "referenced_widgets": [
            "a72d0779b0aa4ef68181c5f2b8d9b4ca",
            "35622b3f79594fce9371d2fe7e7b2c25",
            "18879392c37a4ae6b759131870452e5a",
            "f955c42388744d188b5b58b152bba440",
            "2ec6a6e8b7684daeaf62ca7fe2ea5357",
            "30b58a99002a42078a1dd7fd4af0b641",
            "09376d63316840c9a40ddc857eccfb95",
            "c7536cedbc124541b0b25cb42430953b",
            "d3facf8718a44083aa5e12018adc3032",
            "3499485ef39c4d9dbc5bca41e1a80b6a",
            "c305e8b19cbe466db9f6b7c0212b3e48"
          ]
        },
        "cellView": "form",
        "id": "M3RBEwQx1ZkL",
        "outputId": "ff659074-6751-4ded-cfef-d486f588fa47"
      },
      "execution_count": null,
      "outputs": [
        {
          "output_type": "display_data",
          "data": {
            "text/plain": [
              "  0%|          | 0/100 [00:00<?, ?it/s]"
            ],
            "application/vnd.jupyter.widget-view+json": {
              "version_major": 2,
              "version_minor": 0,
              "model_id": "a72d0779b0aa4ef68181c5f2b8d9b4ca"
            }
          },
          "metadata": {}
        }
      ]
    },
    {
      "cell_type": "code",
      "source": [
        "#@markdown #### 3.2 Run the analysis script\n",
        "\n",
        "#@markdown **Change the folder path if needed:**\n",
        "folder_path_for_predicted_structures = '/content/drive/MyDrive/APPRAISE_project_1/structure_modeling_results' #@param {type:\"string\"}\n",
        "#@markdown - The folder should contain the structure prediction results.\n",
        "\n",
        "\n",
        "# Get the path to the script\n",
        "import appraise\n",
        "import os\n",
        "script_path = '/'.join(os.path.abspath(appraise.__file__).split('/')[:-2]) + '/appraise/pymol_quantify_peptide_binding.py'\n",
        "\n",
        "# Execute script\n",
        "!pymol -cq $script_path $folder_path_for_structure_results"
      ],
      "metadata": {
        "cellView": "form",
        "id": "3PxzGv1l2fAf"
      },
      "execution_count": null,
      "outputs": []
    },
    {
      "cell_type": "markdown",
      "metadata": {
        "id": "pz4OJifTxBKk"
      },
      "source": [
        "You will need to replace \"/path/to/APPRAISE\" with the actual path. You might also need to change \"pymol\" to the actual location of the executable, depending on your operation system and PyMOL release."
      ]
    },
    {
      "cell_type": "markdown",
      "source": [
        "#### (Advanced) Alternative step 3"
      ],
      "metadata": {
        "id": "gXM203Ro7ihb"
      }
    },
    {
      "cell_type": "markdown",
      "source": [
        "You can run the quantification script in a local installation of PyMOL using **PyMOL prompt**, which gives you **more control** of the parameters to be used for analysis. For example, you can change the anchor point of the receptor from the default (C-terminus) to the N-terminus or any other residues.\n",
        "\n",
        "First, you need a copy of the PyMOL script. If you already have a local installation of [APPRAISE package](https://pypi.org/project/appraise/), the script is also included in the package. If you don't have the package, you can also download the standalone PyMOL script [here](https://github.com/xz-ding/APPRAISE/blob/main/appraise/pymol_quantify_peptide_binding.py). \n",
        "\n",
        "Then, in PyMOL GUI, load the script and call the quantify_binding function with appropriate arguments.\n",
        "\n",
        "For example:\n",
        "\n",
        "```\n",
        "# Load the script (replace \"/path/to/APPRAISE\" with the actual path)\n",
        "run /path/to/APPRAISE/appraise/pymol_quantify_peptide_binding.py\n",
        "\n",
        "# Call the quantification function (change the parameters as needed)\n",
        "quantify_binding('path_to_results_folder/', use_relaxed=False, time_stamp=True, mod_start_resi=3, mod_end_resi=9, pLDDT_threshold=0, membrane_anchor_site='N-term')\n",
        "```\n",
        "\n",
        "*Note: The script will take a few minutes to run, and the PyMOL GUI might be frozen while the script is running, which is normal.*"
      ],
      "metadata": {
        "id": "Jv1t3-lenpFp"
      }
    },
    {
      "cell_type": "markdown",
      "metadata": {
        "id": "LZAbzNu4xBKk"
      },
      "source": [
        "### Step 4 - Analyze quantification results"
      ]
    },
    {
      "cell_type": "markdown",
      "metadata": {
        "id": "PoJrDDT8xBKm"
      },
      "source": [
        "#### Step 4A - Analyze pairwise competition results"
      ]
    },
    {
      "cell_type": "code",
      "execution_count": null,
      "metadata": {
        "cellView": "form",
        "id": "gMoMvF02xBKn"
      },
      "outputs": [],
      "source": [
        "#@markdown #### 4A.1 Load structure quantification resutls\n",
        "\n",
        "# Import common packages\n",
        "import numpy as np\n",
        "import pandas as pd\n",
        "import matplotlib.pyplot as plt\n",
        "import seaborn as sns\n",
        "\n",
        "# Import necessary APPRAISE modules\n",
        "import appraise\n",
        "from appraise.utilities import *\n",
        "from appraise.score_calculation import *\n",
        "\n",
        "# Get the settings\n",
        "#@markdown **Basic settings**\n",
        "\n",
        "database_path = '/content/drive/MyDrive/APPRAISE_project_1/structure_modeling_results/APPRAISE_database.csv' #@param {type:\"string\"}\n",
        "#@markdown - Path to quantification database file (*.csv)\n",
        "\n",
        "\n",
        "APPRAISE_version = '1.2' #@param ['1.0', '1.1', '1.2'] {type:\"string\"}\n",
        "APPRAISE_version = float(APPRAISE_version)\n",
        "#@markdown - Version of APPRAISE to use\n",
        "\n",
        "#@markdown **Receptor hydrodynamic properties**\n",
        "\n",
        "receptor_of_interest = 'Ly6a' #@param {type:\"string\"}\n",
        "#@markdown - Receptor of interest (need to match the name in input fasta file names)\n",
        "receptor_Dmax = 46.68 #@param {type:\"number\"}\n",
        "receptor_AxialRatio = 1.74 #@param {type:\"number\"}\n",
        "receptor_Rminor = receptor_Dmax/receptor_AxialRatio/2 \n",
        "#@markdown - You may calculate hydrodynamic properties of your receptor (**receptor_Dmax** and **receptor_AxialRatio**) using the [HullRad server](http://52.14.70.9/Run_hullrad.html). Upload a pdb containing the **receptor only** model to the server and record the **Dmax** and **Axial ratio**. (By default setting, you should have already got 5 predicted receptor-only models in folder_path_for_predicted_structures. Simply upload the model that is ranked #1 to HullRad server.)\n",
        "#@markdown - Rminor, the hydrodynamic radius along the minor axis of the receptor (considered as an ellipsoid), is automatically calculated using the formula Rminor = Dmax / AxialRatio / 2.\n",
        "\n",
        "\n",
        "\n",
        "# Read and calculate scores\n",
        "df = pd.read_csv(database_path)\n",
        "df = df.loc[df['receptor_name'] == receptor_of_interest].copy()\n",
        "df['receptor_Rminor'] = receptor_Rminor\n",
        "list_peptide_names, list_peptide_seqs = get_peptide_list_from_model_names(df)\n",
        "\n",
        "df_sorted = sort_df_by_peptides_and_cleanup(df, list_peptide_names)\n",
        "\n",
        "print('\\nA database with {} peptides is successfully loaded! \\n'.format(len(list_peptide_names)))\n",
        "\n",
        "# Quality check\n",
        "database_quality_check(df_sorted)"
      ]
    },
    {
      "cell_type": "code",
      "execution_count": null,
      "metadata": {
        "id": "R7nlkB8IxBKn",
        "outputId": "9bd89f1d-e185-4a5a-bc75-1e217321d962",
        "cellView": "form"
      },
      "outputs": [
        {
          "name": "stdout",
          "output_type": "stream",
          "text": [
            "Binding scores from each individual competition:\n"
          ]
        },
        {
          "data": {
            "text/html": [
              "<div>\n",
              "<style scoped>\n",
              "    .dataframe tbody tr th:only-of-type {\n",
              "        vertical-align: middle;\n",
              "    }\n",
              "\n",
              "    .dataframe tbody tr th {\n",
              "        vertical-align: top;\n",
              "    }\n",
              "\n",
              "    .dataframe thead th {\n",
              "        text-align: right;\n",
              "    }\n",
              "</style>\n",
              "<table border=\"1\" class=\"dataframe\">\n",
              "  <thead>\n",
              "    <tr style=\"text-align: right;\">\n",
              "      <th></th>\n",
              "      <th>peptide_name</th>\n",
              "      <th>competitor</th>\n",
              "      <th>Delta_B</th>\n",
              "    </tr>\n",
              "  </thead>\n",
              "  <tbody>\n",
              "    <tr>\n",
              "      <th>688</th>\n",
              "      <td>SRK-50</td>\n",
              "      <td>SRK-50</td>\n",
              "      <td>111.608204</td>\n",
              "    </tr>\n",
              "    <tr>\n",
              "      <th>689</th>\n",
              "      <td>SRK-50</td>\n",
              "      <td>SRK-50</td>\n",
              "      <td>-111.608204</td>\n",
              "    </tr>\n",
              "    <tr>\n",
              "      <th>1066</th>\n",
              "      <td>SRK-50</td>\n",
              "      <td>SRK-50</td>\n",
              "      <td>124.474408</td>\n",
              "    </tr>\n",
              "    <tr>\n",
              "      <th>1067</th>\n",
              "      <td>SRK-50</td>\n",
              "      <td>SRK-50</td>\n",
              "      <td>-124.474407</td>\n",
              "    </tr>\n",
              "    <tr>\n",
              "      <th>1654</th>\n",
              "      <td>SRK-50</td>\n",
              "      <td>SRK-50</td>\n",
              "      <td>77.352103</td>\n",
              "    </tr>\n",
              "    <tr>\n",
              "      <th>...</th>\n",
              "      <td>...</td>\n",
              "      <td>...</td>\n",
              "      <td>...</td>\n",
              "    </tr>\n",
              "    <tr>\n",
              "      <th>1885</th>\n",
              "      <td>SRK-30</td>\n",
              "      <td>SRK-30</td>\n",
              "      <td>-147.413749</td>\n",
              "    </tr>\n",
              "    <tr>\n",
              "      <th>2696</th>\n",
              "      <td>SRK-30</td>\n",
              "      <td>SRK-30</td>\n",
              "      <td>3.245493</td>\n",
              "    </tr>\n",
              "    <tr>\n",
              "      <th>2697</th>\n",
              "      <td>SRK-30</td>\n",
              "      <td>SRK-30</td>\n",
              "      <td>-3.245493</td>\n",
              "    </tr>\n",
              "    <tr>\n",
              "      <th>2788</th>\n",
              "      <td>SRK-30</td>\n",
              "      <td>SRK-30</td>\n",
              "      <td>-0.734358</td>\n",
              "    </tr>\n",
              "    <tr>\n",
              "      <th>2789</th>\n",
              "      <td>SRK-30</td>\n",
              "      <td>SRK-30</td>\n",
              "      <td>0.734358</td>\n",
              "    </tr>\n",
              "  </tbody>\n",
              "</table>\n",
              "<p>3240 rows × 3 columns</p>\n",
              "</div>"
            ],
            "text/plain": [
              "     peptide_name competitor     Delta_B\n",
              "688        SRK-50     SRK-50  111.608204\n",
              "689        SRK-50     SRK-50 -111.608204\n",
              "1066       SRK-50     SRK-50  124.474408\n",
              "1067       SRK-50     SRK-50 -124.474407\n",
              "1654       SRK-50     SRK-50   77.352103\n",
              "...           ...        ...         ...\n",
              "1885       SRK-30     SRK-30 -147.413749\n",
              "2696       SRK-30     SRK-30    3.245493\n",
              "2697       SRK-30     SRK-30   -3.245493\n",
              "2788       SRK-30     SRK-30   -0.734358\n",
              "2789       SRK-30     SRK-30    0.734358\n",
              "\n",
              "[3240 rows x 3 columns]"
            ]
          },
          "execution_count": 30,
          "metadata": {},
          "output_type": "execute_result"
        }
      ],
      "source": [
        "#@markdown #### 4a.2 Load structure quantification resutls\n",
        "#@markdown Calculate the binding scores from each individual competition ($\\Delta B_2^{POI, competitor}$):\n",
        "\n",
        "# Get a dataframe that is sorted pair-wise\n",
        "df_pairwise_sorted = sort_df_by_peptides_and_cleanup(df, list_peptide_names)\n",
        "\n",
        "# Calculate the pair-wise scores\n",
        "df_pairwise_sorted = calculate_scores(df_pairwise_sorted, version=APPRAISE_version, depth_constraint=True)\n",
        "print('Binding scores from each individual competition:')\n",
        "df_pairwise_sorted[['peptide_name','competitor','Delta_B']]"
      ]
    },
    {
      "cell_type": "markdown",
      "metadata": {
        "id": "aeNHaHd2xBKn"
      },
      "source": [
        "Get the mean binding scores ($\\overline{\\Delta B}_2^{POI, competitor}$)"
      ]
    },
    {
      "cell_type": "code",
      "execution_count": null,
      "metadata": {
        "id": "ETwM_5a4xBKn",
        "outputId": "930dd1b7-3cc2-4321-dfee-6a32691191ad"
      },
      "outputs": [
        {
          "name": "stdout",
          "output_type": "stream",
          "text": [
            "Mean binding scores:\n"
          ]
        },
        {
          "data": {
            "text/html": [
              "<div>\n",
              "<style scoped>\n",
              "    .dataframe tbody tr th:only-of-type {\n",
              "        vertical-align: middle;\n",
              "    }\n",
              "\n",
              "    .dataframe tbody tr th {\n",
              "        vertical-align: top;\n",
              "    }\n",
              "\n",
              "    .dataframe thead th {\n",
              "        text-align: right;\n",
              "    }\n",
              "</style>\n",
              "<table border=\"1\" class=\"dataframe\">\n",
              "  <thead>\n",
              "    <tr style=\"text-align: right;\">\n",
              "      <th></th>\n",
              "      <th>peptide_name</th>\n",
              "      <th>competitor</th>\n",
              "      <th>Delta_B</th>\n",
              "    </tr>\n",
              "  </thead>\n",
              "  <tbody>\n",
              "    <tr>\n",
              "      <th>0</th>\n",
              "      <td>SRK-50</td>\n",
              "      <td>SRK-50</td>\n",
              "      <td>-2.391168e-07</td>\n",
              "    </tr>\n",
              "    <tr>\n",
              "      <th>1</th>\n",
              "      <td>SRK-50</td>\n",
              "      <td>Dis90</td>\n",
              "      <td>-5.049392e+01</td>\n",
              "    </tr>\n",
              "    <tr>\n",
              "      <th>2</th>\n",
              "      <td>SRK-50</td>\n",
              "      <td>SRK-67</td>\n",
              "      <td>1.485454e+01</td>\n",
              "    </tr>\n",
              "    <tr>\n",
              "      <th>3</th>\n",
              "      <td>SRK-50</td>\n",
              "      <td>SRK-39</td>\n",
              "      <td>-1.332436e+00</td>\n",
              "    </tr>\n",
              "    <tr>\n",
              "      <th>4</th>\n",
              "      <td>SRK-50</td>\n",
              "      <td>PHP.B</td>\n",
              "      <td>2.876579e+01</td>\n",
              "    </tr>\n",
              "    <tr>\n",
              "      <th>...</th>\n",
              "      <td>...</td>\n",
              "      <td>...</td>\n",
              "      <td>...</td>\n",
              "    </tr>\n",
              "    <tr>\n",
              "      <th>319</th>\n",
              "      <td>SRK-30</td>\n",
              "      <td>SRK-74</td>\n",
              "      <td>1.721103e+01</td>\n",
              "    </tr>\n",
              "    <tr>\n",
              "      <th>320</th>\n",
              "      <td>SRK-30</td>\n",
              "      <td>SRK-90</td>\n",
              "      <td>5.382421e+01</td>\n",
              "    </tr>\n",
              "    <tr>\n",
              "      <th>321</th>\n",
              "      <td>SRK-30</td>\n",
              "      <td>SRK-61</td>\n",
              "      <td>-7.066898e+01</td>\n",
              "    </tr>\n",
              "    <tr>\n",
              "      <th>322</th>\n",
              "      <td>SRK-30</td>\n",
              "      <td>SRK-64</td>\n",
              "      <td>4.920453e+01</td>\n",
              "    </tr>\n",
              "    <tr>\n",
              "      <th>323</th>\n",
              "      <td>SRK-30</td>\n",
              "      <td>SRK-30</td>\n",
              "      <td>-3.687418e-08</td>\n",
              "    </tr>\n",
              "  </tbody>\n",
              "</table>\n",
              "<p>324 rows × 3 columns</p>\n",
              "</div>"
            ],
            "text/plain": [
              "    peptide_name competitor       Delta_B\n",
              "0         SRK-50     SRK-50 -2.391168e-07\n",
              "1         SRK-50      Dis90 -5.049392e+01\n",
              "2         SRK-50     SRK-67  1.485454e+01\n",
              "3         SRK-50     SRK-39 -1.332436e+00\n",
              "4         SRK-50      PHP.B  2.876579e+01\n",
              "..           ...        ...           ...\n",
              "319       SRK-30     SRK-74  1.721103e+01\n",
              "320       SRK-30     SRK-90  5.382421e+01\n",
              "321       SRK-30     SRK-61 -7.066898e+01\n",
              "322       SRK-30     SRK-64  4.920453e+01\n",
              "323       SRK-30     SRK-30 -3.687418e-08\n",
              "\n",
              "[324 rows x 3 columns]"
            ]
          },
          "execution_count": 31,
          "metadata": {},
          "output_type": "execute_result"
        }
      ],
      "source": [
        "# Sort the peptides\n",
        "df_pairwise_average = df_pairwise_sorted.groupby(by=['peptide_name','competitor','peptide_seq']).mean().dropna(subset=['Delta_B']).reset_index()\n",
        "print('Mean binding scores:')\n",
        "df_pairwise_average[['peptide_name','competitor','Delta_B']]"
      ]
    },
    {
      "cell_type": "markdown",
      "metadata": {
        "id": "EfASUIUoxBKn"
      },
      "source": [
        "Run the following code block to get a the absolute binding scores of the variants and a list of top peptides that can be used for stage 2.\n",
        "\n",
        "The results will be saved in the save directory as the database."
      ]
    },
    {
      "cell_type": "code",
      "execution_count": null,
      "metadata": {
        "id": "b7e0O_b_xBKn",
        "outputId": "9d119aa1-5528-4a44-fceb-bb59ee63dab1"
      },
      "outputs": [
        {
          "name": "stdout",
          "output_type": "stream",
          "text": [
            "Used p-value threshold of 0.050\n",
            "Tie threshold to be 2.26 of standard deviation: 32.84\n"
          ]
        },
        {
          "data": {
            "image/png": "[encoded data removed]",
            "text/plain": [
              "<Figure size 518.4x518.4 with 2 Axes>"
            ]
          },
          "metadata": {},
          "output_type": "display_data"
        }
      ],
      "source": [
        "list_peptide_order, _, _ = plot_heatmap(df_pairwise_average, feature_of_interest='Delta_B', title='APPRAISE 1.2 ranking', rank_by_tournament=True, save_figure=False, p_value_threshold=0.05, vmin=-100, vmax=100)\n",
        "heatmap_figure_path = '/'.join(database_path.split('/')[:-1]) + '/stage_2_results_matrix.png'\n",
        "plt.savefig(heatmap_figure_path, bbox_inches = 'tight', dpi=300)"
      ]
    },
    {
      "cell_type": "code",
      "execution_count": null,
      "metadata": {
        "id": "KkA833Q8xBKn",
        "outputId": "949304f3-e213-46a2-8b39-3d8153260d8d"
      },
      "outputs": [
        {
          "name": "stdout",
          "output_type": "stream",
          "text": [
            "APPRAISE analysis finished!\n",
            "The final ranking is: ['Dis90', 'SRK-39', 'SRK-74', 'PHP.B', 'SRK-50', 'SRK-38', 'SRK-61', 'SRK-17', 'SRK-53', 'SRK-28', 'SRK-30', 'SRK-78', 'SRK-8', 'SRK-24', 'SRK-64', 'SRK-93', 'SRK-67', 'SRK-90']\n",
            "The heatmap is saved as ./demo_100AAV_screening/stage_2/Ly6a_ranked_by_Delta_B.png\n"
          ]
        }
      ],
      "source": [
        "print('APPRAISE analysis finished!')\n",
        "print('The final ranking is: {}'.format(list_peptide_order))\n",
        "print('The heatmap is saved as {}'.format(heatmap_figure_path))"
      ]
    },
    {
      "cell_type": "markdown",
      "source": [
        "#### Step 4b - Analyze pooled competition results"
      ],
      "metadata": {
        "id": "hTtRSmgVC6VK"
      }
    },
    {
      "cell_type": "code",
      "execution_count": null,
      "metadata": {
        "cellView": "form",
        "id": "dL82cQgcxBKl"
      },
      "outputs": [],
      "source": [
        "#@markdown #### 4.1 Load structure quantification resutls\n",
        "\n",
        "# Import common packages\n",
        "import numpy as np\n",
        "import pandas as pd\n",
        "import matplotlib.pyplot as plt\n",
        "import seaborn as sns\n",
        "\n",
        "# Import necessary APPRAISE modules\n",
        "import appraise\n",
        "from appraise.utilities import *\n",
        "from appraise.score_calculation import *\n",
        "\n",
        "# Get the settings\n",
        "#@markdown **Basic settings**\n",
        "\n",
        "database_path = '/content/drive/MyDrive/APPRAISE_project_1/structure_modeling_results/APPRAISE_database.csv' #@param {type:\"string\"}\n",
        "#@markdown - Path to quantification database file (*.csv)\n",
        "\n",
        "\n",
        "APPRAISE_version = '1.2' #@param ['1.0', '1.1', '1.2'] {type:\"string\"}\n",
        "APPRAISE_version = float(APPRAISE_version)\n",
        "#@markdown - Version of APPRAISE to use\n",
        "\n",
        "#@markdown **Receptor hydrodynamic properties**\n",
        "\n",
        "receptor_of_interest = 'Ly6a' #@param {type:\"string\"}\n",
        "#@markdown - Receptor of interest (need to match the name in input fasta file names)\n",
        "receptor_Dmax = 46.68 #@param {type:\"number\"}\n",
        "receptor_AxialRatio = 1.74 #@param {type:\"number\"}\n",
        "receptor_Rminor = receptor_Dmax/receptor_AxialRatio/2 \n",
        "#@markdown - You may calculate hydrodynamic properties of your receptor (**receptor_Dmax** and **receptor_AxialRatio**) using the [HullRad server](http://52.14.70.9/Run_hullrad.html). Upload a pdb containing the **receptor only** model to the server and record the **Dmax** and **Axial ratio**. (By default setting, you should have already got 5 predicted receptor-only models in folder_path_for_predicted_structures. Simply upload the model that is ranked #1 to HullRad server.)\n",
        "#@markdown - Rminor, the hydrodynamic radius along the minor axis of the receptor (considered as an ellipsoid), is automatically calculated using the formula Rminor = Dmax / AxialRatio / 2.\n",
        "\n",
        "\n",
        "\n",
        "# Read and calculate scores\n",
        "df = pd.read_csv(database_path)\n",
        "df = df.loc[df['receptor_name'] == receptor_of_interest].copy()\n",
        "df['receptor_Rminor'] = receptor_Rminor\n",
        "list_peptide_names, list_peptide_seqs = get_peptide_list_from_model_names(df)\n",
        "\n",
        "df_sorted = sort_df_by_peptides_and_cleanup(df, list_peptide_names)\n",
        "\n",
        "print('\\nA database with {} peptides is successfully loaded! \\n'.format(len(list_peptide_names)))\n",
        "\n",
        "# Quality check\n",
        "database_quality_check(df_sorted)"
      ]
    },
    {
      "cell_type": "markdown",
      "metadata": {
        "id": "ZMJEeikBxBKl"
      },
      "source": [
        "##### Rank by mean aboslute binding score ($\\overline{B}_2^{POI}$)"
      ]
    },
    {
      "cell_type": "markdown",
      "metadata": {
        "id": "ubWudY35xBKl"
      },
      "source": [
        "Calculate binding scores from each individual competition ($B_2^{POI, competitor}$):"
      ]
    },
    {
      "cell_type": "code",
      "execution_count": null,
      "metadata": {
        "id": "r5wY9MD0xBKl",
        "outputId": "4c9fd65b-c73e-44d8-97bf-71698091418b"
      },
      "outputs": [
        {
          "name": "stdout",
          "output_type": "stream",
          "text": [
            "Binding scores from individual competitions:\n"
          ]
        },
        {
          "data": {
            "text/html": [
              "<div>\n",
              "<style scoped>\n",
              "    .dataframe tbody tr th:only-of-type {\n",
              "        vertical-align: middle;\n",
              "    }\n",
              "\n",
              "    .dataframe tbody tr th {\n",
              "        vertical-align: top;\n",
              "    }\n",
              "\n",
              "    .dataframe thead th {\n",
              "        text-align: right;\n",
              "    }\n",
              "</style>\n",
              "<table border=\"1\" class=\"dataframe\">\n",
              "  <thead>\n",
              "    <tr style=\"text-align: right;\">\n",
              "      <th></th>\n",
              "      <th>peptide_name</th>\n",
              "      <th>B_POI</th>\n",
              "    </tr>\n",
              "  </thead>\n",
              "  <tbody>\n",
              "    <tr>\n",
              "      <th>0</th>\n",
              "      <td>SRK-42</td>\n",
              "      <td>0.007719</td>\n",
              "    </tr>\n",
              "    <tr>\n",
              "      <th>1</th>\n",
              "      <td>SRK-30</td>\n",
              "      <td>204.652401</td>\n",
              "    </tr>\n",
              "    <tr>\n",
              "      <th>2</th>\n",
              "      <td>SRK-73</td>\n",
              "      <td>16.653166</td>\n",
              "    </tr>\n",
              "    <tr>\n",
              "      <th>3</th>\n",
              "      <td>Dis90</td>\n",
              "      <td>52.824447</td>\n",
              "    </tr>\n",
              "    <tr>\n",
              "      <th>4</th>\n",
              "      <td>SRK-24</td>\n",
              "      <td>105.655108</td>\n",
              "    </tr>\n",
              "    <tr>\n",
              "      <th>...</th>\n",
              "      <td>...</td>\n",
              "      <td>...</td>\n",
              "    </tr>\n",
              "    <tr>\n",
              "      <th>995</th>\n",
              "      <td>AAV9</td>\n",
              "      <td>-0.000000</td>\n",
              "    </tr>\n",
              "    <tr>\n",
              "      <th>996</th>\n",
              "      <td>SRK-77</td>\n",
              "      <td>-0.000000</td>\n",
              "    </tr>\n",
              "    <tr>\n",
              "      <th>997</th>\n",
              "      <td>SRK-33</td>\n",
              "      <td>131.627629</td>\n",
              "    </tr>\n",
              "    <tr>\n",
              "      <th>998</th>\n",
              "      <td>SRK-64</td>\n",
              "      <td>18.282947</td>\n",
              "    </tr>\n",
              "    <tr>\n",
              "      <th>999</th>\n",
              "      <td>SRK-78</td>\n",
              "      <td>110.902405</td>\n",
              "    </tr>\n",
              "  </tbody>\n",
              "</table>\n",
              "<p>1000 rows × 2 columns</p>\n",
              "</div>"
            ],
            "text/plain": [
              "    peptide_name       B_POI\n",
              "0         SRK-42    0.007719\n",
              "1         SRK-30  204.652401\n",
              "2         SRK-73   16.653166\n",
              "3          Dis90   52.824447\n",
              "4         SRK-24  105.655108\n",
              "..           ...         ...\n",
              "995         AAV9   -0.000000\n",
              "996       SRK-77   -0.000000\n",
              "997       SRK-33  131.627629\n",
              "998       SRK-64   18.282947\n",
              "999       SRK-78  110.902405\n",
              "\n",
              "[1000 rows x 2 columns]"
            ]
          },
          "execution_count": 17,
          "metadata": {},
          "output_type": "execute_result"
        }
      ],
      "source": [
        "df = calculate_scores(df, version=APPRAISE_version)\n",
        "print('Binding scores from individual competitions:')\n",
        "df[['peptide_name','B_POI']]"
      ]
    },
    {
      "cell_type": "markdown",
      "metadata": {
        "id": "_gAmGxUAxBKl"
      },
      "source": [
        "Get the mean binding scores ($\\overline{B}_2^{POI}$)"
      ]
    },
    {
      "cell_type": "code",
      "execution_count": null,
      "metadata": {
        "id": "3sTWXhE8xBKl",
        "outputId": "0e38b513-f058-47f0-f62c-19635774b495"
      },
      "outputs": [
        {
          "name": "stdout",
          "output_type": "stream",
          "text": [
            "Mean binding scores of each POI:\n"
          ]
        },
        {
          "data": {
            "text/html": [
              "<div>\n",
              "<style scoped>\n",
              "    .dataframe tbody tr th:only-of-type {\n",
              "        vertical-align: middle;\n",
              "    }\n",
              "\n",
              "    .dataframe tbody tr th {\n",
              "        vertical-align: top;\n",
              "    }\n",
              "\n",
              "    .dataframe thead th {\n",
              "        text-align: right;\n",
              "    }\n",
              "</style>\n",
              "<table border=\"1\" class=\"dataframe\">\n",
              "  <thead>\n",
              "    <tr style=\"text-align: right;\">\n",
              "      <th></th>\n",
              "      <th>peptide_name</th>\n",
              "      <th>B_POI</th>\n",
              "    </tr>\n",
              "  </thead>\n",
              "  <tbody>\n",
              "    <tr>\n",
              "      <th>0</th>\n",
              "      <td>SRK-86</td>\n",
              "      <td>29.971276</td>\n",
              "    </tr>\n",
              "    <tr>\n",
              "      <th>1</th>\n",
              "      <td>SRK-58</td>\n",
              "      <td>24.680393</td>\n",
              "    </tr>\n",
              "    <tr>\n",
              "      <th>2</th>\n",
              "      <td>SRK-4</td>\n",
              "      <td>41.219688</td>\n",
              "    </tr>\n",
              "    <tr>\n",
              "      <th>3</th>\n",
              "      <td>AAV9</td>\n",
              "      <td>0.586392</td>\n",
              "    </tr>\n",
              "    <tr>\n",
              "      <th>4</th>\n",
              "      <td>SRK-85</td>\n",
              "      <td>57.935931</td>\n",
              "    </tr>\n",
              "    <tr>\n",
              "      <th>...</th>\n",
              "      <td>...</td>\n",
              "      <td>...</td>\n",
              "    </tr>\n",
              "    <tr>\n",
              "      <th>95</th>\n",
              "      <td>SRK-59</td>\n",
              "      <td>52.264803</td>\n",
              "    </tr>\n",
              "    <tr>\n",
              "      <th>96</th>\n",
              "      <td>SRK-19</td>\n",
              "      <td>55.705604</td>\n",
              "    </tr>\n",
              "    <tr>\n",
              "      <th>97</th>\n",
              "      <td>SRK-51</td>\n",
              "      <td>34.713927</td>\n",
              "    </tr>\n",
              "    <tr>\n",
              "      <th>98</th>\n",
              "      <td>SRK-32</td>\n",
              "      <td>20.521815</td>\n",
              "    </tr>\n",
              "    <tr>\n",
              "      <th>99</th>\n",
              "      <td>SRK-8</td>\n",
              "      <td>94.841946</td>\n",
              "    </tr>\n",
              "  </tbody>\n",
              "</table>\n",
              "<p>100 rows × 2 columns</p>\n",
              "</div>"
            ],
            "text/plain": [
              "   peptide_name      B_POI\n",
              "0        SRK-86  29.971276\n",
              "1        SRK-58  24.680393\n",
              "2         SRK-4  41.219688\n",
              "3          AAV9   0.586392\n",
              "4        SRK-85  57.935931\n",
              "..          ...        ...\n",
              "95       SRK-59  52.264803\n",
              "96       SRK-19  55.705604\n",
              "97       SRK-51  34.713927\n",
              "98       SRK-32  20.521815\n",
              "99        SRK-8  94.841946\n",
              "\n",
              "[100 rows x 2 columns]"
            ]
          },
          "execution_count": 18,
          "metadata": {},
          "output_type": "execute_result"
        }
      ],
      "source": [
        "# Sort the peptides\n",
        "df_average_by_POI = df.groupby(by=['peptide_name','peptide_seq']).mean().dropna(subset=['B_POI']).reset_index()\n",
        "print('Mean binding scores of each POI:')\n",
        "df_average_by_POI[['peptide_name','B_POI']]"
      ]
    },
    {
      "cell_type": "markdown",
      "metadata": {
        "id": "wiiogQ7_xBKl"
      },
      "source": [
        "Run the following code block to get a the absolute binding scores of the variants and a list of top peptides that can be used for stage 2.\n",
        "\n",
        "The results will be saved in the save directory as the database."
      ]
    },
    {
      "cell_type": "code",
      "execution_count": null,
      "metadata": {
        "id": "c6bVBhP8xBKl",
        "outputId": "3aea142b-1011-4943-d95f-080546c4d6cf"
      },
      "outputs": [
        {
          "name": "stdout",
          "output_type": "stream",
          "text": [
            "Default Number of top variants to keep is [18], need to change? Provide new value or hit Enter to use default\n"
          ]
        },
        {
          "name": "stdin",
          "output_type": "stream",
          "text": [
            ">  \n"
          ]
        },
        {
          "name": "stdout",
          "output_type": "stream",
          "text": [
            "\n",
            "Success!\n",
            "\n",
            "The APPRAISE scores of peptide variants are saved in ./demo_100AAV_screening/stage_1/APPRAISE1.2_scores_of_all_peptides.csv\n",
            "\n",
            "The list of selected peptides is saved as ./demo_100AAV_screening/stage_1/APPRAISE1.2_selected_top_18_peptides.csv\n",
            "\n",
            "Here is the list of selected peptide variants:\n",
            "\n"
          ]
        },
        {
          "data": {
            "text/html": [
              "<div>\n",
              "<style scoped>\n",
              "    .dataframe tbody tr th:only-of-type {\n",
              "        vertical-align: middle;\n",
              "    }\n",
              "\n",
              "    .dataframe tbody tr th {\n",
              "        vertical-align: top;\n",
              "    }\n",
              "\n",
              "    .dataframe thead th {\n",
              "        text-align: right;\n",
              "    }\n",
              "</style>\n",
              "<table border=\"1\" class=\"dataframe\">\n",
              "  <thead>\n",
              "    <tr style=\"text-align: right;\">\n",
              "      <th></th>\n",
              "      <th>peptide_name</th>\n",
              "      <th>peptide_seq</th>\n",
              "      <th>B_POI</th>\n",
              "    </tr>\n",
              "  </thead>\n",
              "  <tbody>\n",
              "    <tr>\n",
              "      <th>0</th>\n",
              "      <td>SRK-53</td>\n",
              "      <td>AQLTSSNALAQAQTG</td>\n",
              "      <td>140.082737</td>\n",
              "    </tr>\n",
              "    <tr>\n",
              "      <th>1</th>\n",
              "      <td>SRK-50</td>\n",
              "      <td>AQNNFNASLAQAQTG</td>\n",
              "      <td>139.588552</td>\n",
              "    </tr>\n",
              "    <tr>\n",
              "      <th>2</th>\n",
              "      <td>Dis90</td>\n",
              "      <td>AQWKNMGLQAQAQTG</td>\n",
              "      <td>104.001532</td>\n",
              "    </tr>\n",
              "    <tr>\n",
              "      <th>3</th>\n",
              "      <td>SRK-28</td>\n",
              "      <td>AQIVSNQMSAQAQTG</td>\n",
              "      <td>99.594279</td>\n",
              "    </tr>\n",
              "    <tr>\n",
              "      <th>4</th>\n",
              "      <td>SRK-24</td>\n",
              "      <td>AQFNSKLQLAQAQTG</td>\n",
              "      <td>95.451241</td>\n",
              "    </tr>\n",
              "    <tr>\n",
              "      <th>5</th>\n",
              "      <td>SRK-8</td>\n",
              "      <td>AQTHDAQAWAQAQTG</td>\n",
              "      <td>94.841946</td>\n",
              "    </tr>\n",
              "    <tr>\n",
              "      <th>6</th>\n",
              "      <td>SRK-93</td>\n",
              "      <td>AQSVSTPRGAQAQTG</td>\n",
              "      <td>89.622684</td>\n",
              "    </tr>\n",
              "    <tr>\n",
              "      <th>7</th>\n",
              "      <td>SRK-61</td>\n",
              "      <td>AQNHMVRELAQAQTG</td>\n",
              "      <td>84.464261</td>\n",
              "    </tr>\n",
              "    <tr>\n",
              "      <th>8</th>\n",
              "      <td>SRK-90</td>\n",
              "      <td>AQNKLTANGAQAQTG</td>\n",
              "      <td>82.948237</td>\n",
              "    </tr>\n",
              "    <tr>\n",
              "      <th>9</th>\n",
              "      <td>SRK-74</td>\n",
              "      <td>AQIPVSIQAAQAQTG</td>\n",
              "      <td>80.966634</td>\n",
              "    </tr>\n",
              "    <tr>\n",
              "      <th>10</th>\n",
              "      <td>SRK-78</td>\n",
              "      <td>AQTAYLEVKAQAQTG</td>\n",
              "      <td>80.633353</td>\n",
              "    </tr>\n",
              "    <tr>\n",
              "      <th>11</th>\n",
              "      <td>SRK-64</td>\n",
              "      <td>AQVFQATRTAQAQTG</td>\n",
              "      <td>78.435546</td>\n",
              "    </tr>\n",
              "    <tr>\n",
              "      <th>12</th>\n",
              "      <td>PHP.B</td>\n",
              "      <td>AQTLAVPFKAQAQTG</td>\n",
              "      <td>76.760679</td>\n",
              "    </tr>\n",
              "    <tr>\n",
              "      <th>13</th>\n",
              "      <td>SRK-39</td>\n",
              "      <td>AQLGDITGFAQAQTG</td>\n",
              "      <td>76.071516</td>\n",
              "    </tr>\n",
              "    <tr>\n",
              "      <th>14</th>\n",
              "      <td>SRK-30</td>\n",
              "      <td>AQNMKIQHVAQAQTG</td>\n",
              "      <td>74.342183</td>\n",
              "    </tr>\n",
              "    <tr>\n",
              "      <th>15</th>\n",
              "      <td>SRK-67</td>\n",
              "      <td>AQQVPHLHSAQAQTG</td>\n",
              "      <td>73.475554</td>\n",
              "    </tr>\n",
              "    <tr>\n",
              "      <th>16</th>\n",
              "      <td>SRK-38</td>\n",
              "      <td>AQTLYNAIHAQAQTG</td>\n",
              "      <td>69.101546</td>\n",
              "    </tr>\n",
              "    <tr>\n",
              "      <th>17</th>\n",
              "      <td>SRK-17</td>\n",
              "      <td>AQTTMGTMLAQAQTG</td>\n",
              "      <td>68.975034</td>\n",
              "    </tr>\n",
              "  </tbody>\n",
              "</table>\n",
              "</div>"
            ],
            "text/plain": [
              "   peptide_name      peptide_seq       B_POI\n",
              "0        SRK-53  AQLTSSNALAQAQTG  140.082737\n",
              "1        SRK-50  AQNNFNASLAQAQTG  139.588552\n",
              "2         Dis90  AQWKNMGLQAQAQTG  104.001532\n",
              "3        SRK-28  AQIVSNQMSAQAQTG   99.594279\n",
              "4        SRK-24  AQFNSKLQLAQAQTG   95.451241\n",
              "5         SRK-8  AQTHDAQAWAQAQTG   94.841946\n",
              "6        SRK-93  AQSVSTPRGAQAQTG   89.622684\n",
              "7        SRK-61  AQNHMVRELAQAQTG   84.464261\n",
              "8        SRK-90  AQNKLTANGAQAQTG   82.948237\n",
              "9        SRK-74  AQIPVSIQAAQAQTG   80.966634\n",
              "10       SRK-78  AQTAYLEVKAQAQTG   80.633353\n",
              "11       SRK-64  AQVFQATRTAQAQTG   78.435546\n",
              "12        PHP.B  AQTLAVPFKAQAQTG   76.760679\n",
              "13       SRK-39  AQLGDITGFAQAQTG   76.071516\n",
              "14       SRK-30  AQNMKIQHVAQAQTG   74.342183\n",
              "15       SRK-67  AQQVPHLHSAQAQTG   73.475554\n",
              "16       SRK-38  AQTLYNAIHAQAQTG   69.101546\n",
              "17       SRK-17  AQTTMGTMLAQAQTG   68.975034"
            ]
          },
          "execution_count": 19,
          "metadata": {},
          "output_type": "execute_result"
        }
      ],
      "source": [
        "# Select the top variants\n",
        "N_top = int(interactive_input('Number of top variants to keep', 18))\n",
        "df_average_by_POI = df_average_by_POI.sort_values(by='B_POI', ascending=False).reset_index()\n",
        "df_selected_peptides = df_average_by_POI.loc[0:N_top-1, ['peptide_name', 'peptide_seq', 'B_POI']]\n",
        "\n",
        "\n",
        "#Save the results\n",
        "print('\\nSuccess!')\n",
        "score_file_path = '/'.join(database_path.split('/')[:-1]) + '/APPRAISE{}_scores_of_all_peptides.csv'.format(str(APPRAISE_version))\n",
        "df_average_by_POI.to_csv(score_file_path)\n",
        "print('\\nThe APPRAISE scores of peptide variants are saved in {}'.format(score_file_path))\n",
        "selected_peptide_list_path = '/'.join(database_path.split('/')[:-1]) + '/APPRAISE{}_selected_top_{}_peptides.csv'.format(str(APPRAISE_version), str(N_top))\n",
        "df_selected_peptides.to_csv(selected_peptide_list_path)\n",
        "print('\\nThe list of selected peptides is saved as {}'.format(selected_peptide_list_path))\n",
        "\n",
        "# Display the results\n",
        "print('\\nHere is the list of selected peptide variants:\\n')\n",
        "df_selected_peptides"
      ]
    },
    {
      "cell_type": "markdown",
      "metadata": {
        "id": "J8O0xe_YxBKl"
      },
      "source": [
        "##### Plot the results"
      ]
    },
    {
      "cell_type": "markdown",
      "metadata": {
        "id": "zOtEFCyOxBKl"
      },
      "source": [
        "The following code block shows an example to create an overview plot of scores of individual models."
      ]
    },
    {
      "cell_type": "code",
      "execution_count": null,
      "metadata": {
        "id": "32fRQAyExBKl",
        "outputId": "bcbc4c03-31b8-4e1d-c757-7cd0937cfbb3"
      },
      "outputs": [
        {
          "data": {
            "image/png": "[encoded data removed]",
            "text/plain": [
              "<Figure size 720x576 with 100 Axes>"
            ]
          },
          "metadata": {},
          "output_type": "display_data"
        }
      ],
      "source": [
        "# Set number of subplots\n",
        "n_rows = 5\n",
        "n_columns = 20\n",
        "\n",
        "# Configure the plot\n",
        "sns.set_style(\"white\")\n",
        "sns.set_context(\"paper\")\n",
        "\n",
        "plt.rcParams[\"figure.figsize\"] = (10, 8)\n",
        "fig, axes = plt.subplots(nrows=n_rows, ncols=n_columns)\n",
        "\n",
        "# Plot each peptide in a subplot\n",
        "for i, peptide_name in enumerate(df_average_by_POI['peptide_name']):\n",
        "    j = i // n_columns\n",
        "    k = i % n_columns\n",
        "    \n",
        "    # Set the y axis display rules depending on the position\n",
        "    if k == 0:\n",
        "        sns.despine(bottom = True, left=False, right=True, ax=axes[j, k])\n",
        "    else:\n",
        "        sns.despine(bottom = True, left=True, right=True, ax=axes[j, k])\n",
        "        axes[j,k].set(yticklabels=[])\n",
        " \n",
        "    # Set coloring -- highlight PHP.B, Dis90, and AAV9\n",
        "    if peptide_name == 'PHP.B':\n",
        "        color_setting = sns.color_palette()[0]\n",
        "    elif peptide_name == 'Dis90':\n",
        "        color_setting = sns.color_palette()[2]\n",
        "    elif peptide_name == 'AAV9':\n",
        "        color_setting = sns.color_palette(\"tab10\")[7]\n",
        "    else:\n",
        "        color_setting = sns.color_palette()[7]\n",
        "    \n",
        "    # Plot the data points\n",
        "    sns.stripplot(ax=axes[j,k], y=\"B_POI\", data=df.loc[df['peptide_name']==peptide_name], color=color_setting)\n",
        "    \n",
        "    # Plot the mean bar\n",
        "    sns.boxplot(ax=axes[j,k], \n",
        "            showmeans=True,\n",
        "            meanline=True,\n",
        "            meanprops={'color': 'k', 'ls': '-', 'lw': 2},\n",
        "            medianprops={'visible': False},\n",
        "            whiskerprops={'visible': False},\n",
        "            zorder=10,\n",
        "            y=\"B_POI\",\n",
        "            data=df.loc[df['peptide_name']==peptide_name],\n",
        "            showfliers=False,\n",
        "            showbox=False,\n",
        "            showcaps=False)\n",
        "    \n",
        "    # Annotate the reads\n",
        "    axes[j, k].annotate(int(np.mean(df.loc[df['peptide_name']==peptide_name, \"B_POI\"])), xy=(0.5, -0.1), xycoords='axes fraction', ha='center', va='center')\n",
        "    #axes[j, k].set_title(variable_name, wrap=True)\n",
        "    axes[j,k].set_ylim(-50, 400)\n",
        "    axes[j,k].set_xlabel('')\n",
        "    axes[j,k].set_ylabel('')\n",
        "    axes[j,k].set(xticklabels=[])\n",
        "   \n",
        "    \n",
        "plt.tight_layout()\n",
        "fig.savefig('/'.join(database_path.split('/')[:-1]) + '/stage_1_results.png', dpi=300)\n"
      ]
    },
    {
      "cell_type": "markdown",
      "metadata": {
        "id": "2Zky9fBgxBKm"
      },
      "source": [
        "***Demo instruction: This step is the rate-limiting step. You can skip to step 2.4 using a provided sample table instead.***\n",
        "\n",
        "The structures can be modeled using AlphaFold2-multimer or other state-of-the-art structure-prediction tools. \n",
        "\n",
        "For easy access to AlphaFold2-multimer, we suggest using ColabFold, an integrated implementation of multiple sequence alignment and AlphaFold (Mirdita M, Schütze K, Moriwaki Y, Heo L, Ovchinnikov S and Steinegger M. ColabFold: Making protein folding accessible to all., Nature Methods (2022) doi: 10.1038/s41592-022-01488-1)."
      ]
    },
    {
      "cell_type": "markdown",
      "metadata": {
        "id": "jnoibS7zxBKm"
      },
      "source": [
        "To use the ColabFold notebook, you can make a copy of [the ColabFold-batch notebook](https://github.com/sokrypton/ColabFold/blob/main/batch/AlphaFold2_batch.ipynb) to a Google account, upload fasta files to the input folder, and hit \"run all\" in the Colab notebook.  Suggested settings:\n",
        "\n",
        "```\n",
        "\n",
        "msa_mode = MMseqs2 (UniRef+Environmental)\n",
        "\n",
        "num_models = 5\n",
        "\n",
        "num_recycles = 3\n",
        "\n",
        "stop_at_score = 100\n",
        "\n",
        "use_amber = False\n",
        "\n",
        "use_templates = True\n",
        "\n",
        "do_not_overwrite_results = False\n",
        "\n",
        "zip_results = False\n",
        "```\n"
      ]
    },
    {
      "cell_type": "markdown",
      "metadata": {
        "id": "6Psh47NYxBKm"
      },
      "source": [
        "Note: \n",
        "\n",
        "1. Run the following line in a new cell in your ColabFold notebook and take a note on what GPU model is being used in the Colab session. This will be helpful when you need to reproduce the modeling results. We found that using the same GPU gives the most consistent (near-deterministic) modeling results.\n",
        "\n",
        "```\n",
        "!nvidia-smi\n",
        "```\n",
        "\n",
        "2. If you wish to use another version of AlphaFold model (e.g., AlphaFold2-multimer-v1) in the Colab batch notebook, you will need to make two modifications manually. First, copy the lines below and paste it to the top of the \"Run prediction\" block so that the notebook can download the correct parameters. Second, change the \"model_type\" argument in the line with \"run(...)\" in the \"Run prediction\" block to the desired model type.\n",
        "```\n",
        "# Force to download for the appropriate model type\n",
        "model_type = \"AlphaFold2-multimer-v1\" #See ColabFold documentation for other available model types\n",
        "from colabfold.download import download_alphafold_params\n",
        "from pathlib import Path\n",
        "download_alphafold_params(model_type, Path(\"/root/.cache/colabfold/\"))\n",
        "```\n",
        "\n",
        "If your session is terminated in the middle, You can delete the input fasta files for the models that were already finished and restart the session to continue with the rest. Sometimes you may need to wait for hours to regain access to a GPU session."
      ]
    }
  ],
  "metadata": {
    "kernelspec": {
      "display_name": "Python 3 (ipykernel)",
      "language": "python",
      "name": "python3"
    },
    "language_info": {
      "codemirror_mode": {
        "name": "ipython",
        "version": 3
      },
      "file_extension": ".py",
      "mimetype": "text/x-python",
      "name": "python",
      "nbconvert_exporter": "python",
      "pygments_lexer": "ipython3",
      "version": "3.9.13"
    },
    "colab": {
      "provenance": [],
      "collapsed_sections": [
        "ts7lUf2C1HDu",
        "15bF_eZuxBKj"
      ]
    },
    "widgets": {
      "application/vnd.jupyter.widget-state+json": {
        "a72d0779b0aa4ef68181c5f2b8d9b4ca": {
          "model_module": "@jupyter-widgets/controls",
          "model_name": "HBoxModel",
          "model_module_version": "1.5.0",
          "state": {
            "_dom_classes": [],
            "_model_module": "@jupyter-widgets/controls",
            "_model_module_version": "1.5.0",
            "_model_name": "HBoxModel",
            "_view_count": null,
            "_view_module": "@jupyter-widgets/controls",
            "_view_module_version": "1.5.0",
            "_view_name": "HBoxView",
            "box_style": "",
            "children": [
              "IPY_MODEL_35622b3f79594fce9371d2fe7e7b2c25",
              "IPY_MODEL_18879392c37a4ae6b759131870452e5a",
              "IPY_MODEL_f955c42388744d188b5b58b152bba440"
            ],
            "layout": "IPY_MODEL_2ec6a6e8b7684daeaf62ca7fe2ea5357"
          }
        },
        "35622b3f79594fce9371d2fe7e7b2c25": {
          "model_module": "@jupyter-widgets/controls",
          "model_name": "HTMLModel",
          "model_module_version": "1.5.0",
          "state": {
            "_dom_classes": [],
            "_model_module": "@jupyter-widgets/controls",
            "_model_module_version": "1.5.0",
            "_model_name": "HTMLModel",
            "_view_count": null,
            "_view_module": "@jupyter-widgets/controls",
            "_view_module_version": "1.5.0",
            "_view_name": "HTMLView",
            "description": "",
            "description_tooltip": null,
            "layout": "IPY_MODEL_30b58a99002a42078a1dd7fd4af0b641",
            "placeholder": "​",
            "style": "IPY_MODEL_09376d63316840c9a40ddc857eccfb95",
            "value": ""
          }
        },
        "18879392c37a4ae6b759131870452e5a": {
          "model_module": "@jupyter-widgets/controls",
          "model_name": "FloatProgressModel",
          "model_module_version": "1.5.0",
          "state": {
            "_dom_classes": [],
            "_model_module": "@jupyter-widgets/controls",
            "_model_module_version": "1.5.0",
            "_model_name": "FloatProgressModel",
            "_view_count": null,
            "_view_module": "@jupyter-widgets/controls",
            "_view_module_version": "1.5.0",
            "_view_name": "ProgressView",
            "bar_style": "success",
            "description": "",
            "description_tooltip": null,
            "layout": "IPY_MODEL_c7536cedbc124541b0b25cb42430953b",
            "max": 100,
            "min": 0,
            "orientation": "horizontal",
            "style": "IPY_MODEL_d3facf8718a44083aa5e12018adc3032",
            "value": 100
          }
        },
        "f955c42388744d188b5b58b152bba440": {
          "model_module": "@jupyter-widgets/controls",
          "model_name": "HTMLModel",
          "model_module_version": "1.5.0",
          "state": {
            "_dom_classes": [],
            "_model_module": "@jupyter-widgets/controls",
            "_model_module_version": "1.5.0",
            "_model_name": "HTMLModel",
            "_view_count": null,
            "_view_module": "@jupyter-widgets/controls",
            "_view_module_version": "1.5.0",
            "_view_name": "HTMLView",
            "description": "",
            "description_tooltip": null,
            "layout": "IPY_MODEL_3499485ef39c4d9dbc5bca41e1a80b6a",
            "placeholder": "​",
            "style": "IPY_MODEL_c305e8b19cbe466db9f6b7c0212b3e48",
            "value": " 130/? [01:47&lt;00:00,  1.29it/s]"
          }
        },
        "2ec6a6e8b7684daeaf62ca7fe2ea5357": {
          "model_module": "@jupyter-widgets/base",
          "model_name": "LayoutModel",
          "model_module_version": "1.2.0",
          "state": {
            "_model_module": "@jupyter-widgets/base",
            "_model_module_version": "1.2.0",
            "_model_name": "LayoutModel",
            "_view_count": null,
            "_view_module": "@jupyter-widgets/base",
            "_view_module_version": "1.2.0",
            "_view_name": "LayoutView",
            "align_content": null,
            "align_items": null,
            "align_self": null,
            "border": null,
            "bottom": null,
            "display": null,
            "flex": null,
            "flex_flow": null,
            "grid_area": null,
            "grid_auto_columns": null,
            "grid_auto_flow": null,
            "grid_auto_rows": null,
            "grid_column": null,
            "grid_gap": null,
            "grid_row": null,
            "grid_template_areas": null,
            "grid_template_columns": null,
            "grid_template_rows": null,
            "height": null,
            "justify_content": null,
            "justify_items": null,
            "left": null,
            "margin": null,
            "max_height": null,
            "max_width": null,
            "min_height": null,
            "min_width": null,
            "object_fit": null,
            "object_position": null,
            "order": null,
            "overflow": null,
            "overflow_x": null,
            "overflow_y": null,
            "padding": null,
            "right": null,
            "top": null,
            "visibility": null,
            "width": null
          }
        },
        "30b58a99002a42078a1dd7fd4af0b641": {
          "model_module": "@jupyter-widgets/base",
          "model_name": "LayoutModel",
          "model_module_version": "1.2.0",
          "state": {
            "_model_module": "@jupyter-widgets/base",
            "_model_module_version": "1.2.0",
            "_model_name": "LayoutModel",
            "_view_count": null,
            "_view_module": "@jupyter-widgets/base",
            "_view_module_version": "1.2.0",
            "_view_name": "LayoutView",
            "align_content": null,
            "align_items": null,
            "align_self": null,
            "border": null,
            "bottom": null,
            "display": null,
            "flex": null,
            "flex_flow": null,
            "grid_area": null,
            "grid_auto_columns": null,
            "grid_auto_flow": null,
            "grid_auto_rows": null,
            "grid_column": null,
            "grid_gap": null,
            "grid_row": null,
            "grid_template_areas": null,
            "grid_template_columns": null,
            "grid_template_rows": null,
            "height": null,
            "justify_content": null,
            "justify_items": null,
            "left": null,
            "margin": null,
            "max_height": null,
            "max_width": null,
            "min_height": null,
            "min_width": null,
            "object_fit": null,
            "object_position": null,
            "order": null,
            "overflow": null,
            "overflow_x": null,
            "overflow_y": null,
            "padding": null,
            "right": null,
            "top": null,
            "visibility": null,
            "width": null
          }
        },
        "09376d63316840c9a40ddc857eccfb95": {
          "model_module": "@jupyter-widgets/controls",
          "model_name": "DescriptionStyleModel",
          "model_module_version": "1.5.0",
          "state": {
            "_model_module": "@jupyter-widgets/controls",
            "_model_module_version": "1.5.0",
            "_model_name": "DescriptionStyleModel",
            "_view_count": null,
            "_view_module": "@jupyter-widgets/base",
            "_view_module_version": "1.2.0",
            "_view_name": "StyleView",
            "description_width": ""
          }
        },
        "c7536cedbc124541b0b25cb42430953b": {
          "model_module": "@jupyter-widgets/base",
          "model_name": "LayoutModel",
          "model_module_version": "1.2.0",
          "state": {
            "_model_module": "@jupyter-widgets/base",
            "_model_module_version": "1.2.0",
            "_model_name": "LayoutModel",
            "_view_count": null,
            "_view_module": "@jupyter-widgets/base",
            "_view_module_version": "1.2.0",
            "_view_name": "LayoutView",
            "align_content": null,
            "align_items": null,
            "align_self": null,
            "border": null,
            "bottom": null,
            "display": null,
            "flex": null,
            "flex_flow": null,
            "grid_area": null,
            "grid_auto_columns": null,
            "grid_auto_flow": null,
            "grid_auto_rows": null,
            "grid_column": null,
            "grid_gap": null,
            "grid_row": null,
            "grid_template_areas": null,
            "grid_template_columns": null,
            "grid_template_rows": null,
            "height": null,
            "justify_content": null,
            "justify_items": null,
            "left": null,
            "margin": null,
            "max_height": null,
            "max_width": null,
            "min_height": null,
            "min_width": null,
            "object_fit": null,
            "object_position": null,
            "order": null,
            "overflow": null,
            "overflow_x": null,
            "overflow_y": null,
            "padding": null,
            "right": null,
            "top": null,
            "visibility": null,
            "width": null
          }
        },
        "d3facf8718a44083aa5e12018adc3032": {
          "model_module": "@jupyter-widgets/controls",
          "model_name": "ProgressStyleModel",
          "model_module_version": "1.5.0",
          "state": {
            "_model_module": "@jupyter-widgets/controls",
            "_model_module_version": "1.5.0",
            "_model_name": "ProgressStyleModel",
            "_view_count": null,
            "_view_module": "@jupyter-widgets/base",
            "_view_module_version": "1.2.0",
            "_view_name": "StyleView",
            "bar_color": null,
            "description_width": ""
          }
        },
        "3499485ef39c4d9dbc5bca41e1a80b6a": {
          "model_module": "@jupyter-widgets/base",
          "model_name": "LayoutModel",
          "model_module_version": "1.2.0",
          "state": {
            "_model_module": "@jupyter-widgets/base",
            "_model_module_version": "1.2.0",
            "_model_name": "LayoutModel",
            "_view_count": null,
            "_view_module": "@jupyter-widgets/base",
            "_view_module_version": "1.2.0",
            "_view_name": "LayoutView",
            "align_content": null,
            "align_items": null,
            "align_self": null,
            "border": null,
            "bottom": null,
            "display": null,
            "flex": null,
            "flex_flow": null,
            "grid_area": null,
            "grid_auto_columns": null,
            "grid_auto_flow": null,
            "grid_auto_rows": null,
            "grid_column": null,
            "grid_gap": null,
            "grid_row": null,
            "grid_template_areas": null,
            "grid_template_columns": null,
            "grid_template_rows": null,
            "height": null,
            "justify_content": null,
            "justify_items": null,
            "left": null,
            "margin": null,
            "max_height": null,
            "max_width": null,
            "min_height": null,
            "min_width": null,
            "object_fit": null,
            "object_position": null,
            "order": null,
            "overflow": null,
            "overflow_x": null,
            "overflow_y": null,
            "padding": null,
            "right": null,
            "top": null,
            "visibility": null,
            "width": null
          }
        },
        "c305e8b19cbe466db9f6b7c0212b3e48": {
          "model_module": "@jupyter-widgets/controls",
          "model_name": "DescriptionStyleModel",
          "model_module_version": "1.5.0",
          "state": {
            "_model_module": "@jupyter-widgets/controls",
            "_model_module_version": "1.5.0",
            "_model_name": "DescriptionStyleModel",
            "_view_count": null,
            "_view_module": "@jupyter-widgets/base",
            "_view_module_version": "1.2.0",
            "_view_name": "StyleView",
            "description_width": ""
          }
        }
      }
    }
  },
  "nbformat": 4,
  "nbformat_minor": 0
}